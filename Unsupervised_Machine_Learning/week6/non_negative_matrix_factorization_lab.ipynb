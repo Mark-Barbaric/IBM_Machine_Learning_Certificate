{
 "cells": [
  {
   "cell_type": "markdown",
   "metadata": {},
   "source": [
    "<center>\n",
    "    <img src=\"https://cf-courses-data.s3.us.cloud-object-storage.appdomain.cloud/assets/logos/SN_web_lightmode.png\" width=\"300\" alt=\"cognitiveclass.ai logo\">\n",
    "</center>\n"
   ]
  },
  {
   "cell_type": "markdown",
   "metadata": {},
   "source": [
    "# Non-Negative Matrix Factorization\n",
    "\n",
    "Estimated time needed: **45** minutes\n",
    "\n",
    "\n"
   ]
  },
  {
   "cell_type": "markdown",
   "metadata": {},
   "source": [
    "\n",
    "You've been hired by a video streaming platform that specializes in kids content. The company would like to ensure that all content on the platform does not infringe on a copyright written material. The company has created an image database of copyrighted material, not only must you detect the same images you must detect similar images. Your  job is to come up with an image retrieval system to find the most similar image to each image in the provided dataset. Because your model is used for legal purposes it must be interpretable, this means it should be able to determine why the images are similar. As a result, you will use Non-Negative Matrix factorization since the factorized matrices can be interpreted as real images. You will use the [Anime Face Dataset](https://www.kaggle.com/datasets/splcher/animefacedataset?utm_medium=Exinfluencer&utm_source=Exinfluencer&utm_content=000026UJ&utm_term=10006555&utm_id=NA-SkillsNetwork-Channel-SkillsNetworkCoursesIBMML0187ENSkillsNetwork821-2023-01-01) from kaggle.\n"
   ]
  },
  {
   "cell_type": "markdown",
   "metadata": {},
   "source": [
    "\n",
    "<img src=\"https://cf-courses-data.s3.us.cloud-object-storage.appdomain.cloud/IBM-ML0187EN-SkillsNetwork/labs/module%203/images/fake_cartoon.png\" alt=\"cognitiveclass.ai logo\">\n",
    "\n",
    "<a href=\"https://www.piratesandprincesses.net/the-story-of-goodtimes-and-their-numerous-disney-knockoffs/?utm_medium=Exinfluencer&utm_source=Exinfluencer&utm_content=000026UJ&utm_term=10006555&utm_id=NA-SkillsNetwork-Channel-SkillsNetworkCoursesIBMML0187ENSkillsNetwork821-2023-01-01\"> image source</a>\n"
   ]
  },
  {
   "cell_type": "markdown",
   "metadata": {},
   "source": [
    "## Table of Contents\n",
    "\n",
    "<ol>\n",
    "    <li><a href=\"#Objectives\">Objectives</a></li>\n",
    "    <li><a href=\"#Datasets\">Datasets</a></li>\n",
    "    <li>\n",
    "        <a href=\"#Setup\">Setup</a>\n",
    "        <ol>\n",
    "            <li><a href=\"#Installing-Required-Libraries\">Installing Required Libraries</a></li>\n",
    "            <li><a href=\"#Importing-Required-Libraries\">Importing Required Libraries</a></li>\n",
    "            <li><a href=\"#Defining-Helper-Functions\">Defining Helper Functions</a></li>\n",
    "        </ol>\n",
    "    </li>\n",
    "    <li>\n",
    "        <a href=\"#Background\">Background</a>\n",
    "        <ol>\n",
    "               <li><a href=\"#What's a Non-Negative Matrix Fatorization?\">What's a Non-Negative Matrix Fatorization?</a></li>\n",
    "        </ol>\n",
    "    </li>\n",
    "  <li><a href=\"#Applying Non-Negative Matrix Factorization\">Applying Non-Negative Matrix Factorization</a></li>\n",
    "  <li><a href=\"#Image Retrieval System\">Image Retrieval System</a></li>\n",
    "   <li><a href=\"#Exercises\">Exercises</a>\n",
    "       <ol>\n",
    "            <li><a href=\"#Exercise 1\">Exercise 1</a></li>\n",
    "            <li><a href=\"#Exercise 2\">Exercise 2</a></li>\n",
    "            <li><a href=\"#Exercise 3\">Exercise 3</a></li>\n",
    "            <li><a href=\"#Exercise 4\">Exercise 4</a></li>\n",
    "            <li><a href=\"#Exercise 5\">Exercise 5</a></li>\n",
    "        </ol>\n",
    "    </li> \n",
    " </ol>    \n",
    "     \n",
    "    \n",
    "     \n",
    "\n",
    "## Objectives\n",
    "\n",
    "After completing this lab you will be able to:\n",
    "\n",
    "- __Understand__ Basics Matrix operations  such as Matrix addition  , Vector Multiplication，and Eigen decomposition\n",
    "\n",
    "- __Apply__ Apply these Matrix operations using numpy\n"
   ]
  },
  {
   "cell_type": "markdown",
   "metadata": {},
   "source": [
    "## Datasets\n",
    "\n",
    "Download and unzip the **images** dataset: \n"
   ]
  },
  {
   "cell_type": "code",
   "execution_count": 1,
   "metadata": {},
   "outputs": [
    {
     "data": {
      "application/vnd.jupyter.widget-view+json": {
       "model_id": "6013c8a12b224fb98b6fe55583c1ebf8",
       "version_major": 2,
       "version_minor": 0
      },
      "text/plain": [
       "Downloading images.tar.gz:   0%|          | 0/60016218 [00:00<?, ?it/s]"
      ]
     },
     "metadata": {},
     "output_type": "display_data"
    },
    {
     "data": {
      "application/vnd.jupyter.widget-view+json": {
       "model_id": "28fd404907844a618130e885b6686b7a",
       "version_major": 2,
       "version_minor": 0
      },
      "text/plain": [
       "  0%|          | 0/20006 [00:00<?, ?it/s]"
      ]
     },
     "metadata": {},
     "output_type": "display_data"
    },
    {
     "name": "stdout",
     "output_type": "stream",
     "text": [
      "Saved to '.'\n"
     ]
    }
   ],
   "source": [
    "import skillsnetwork\n",
    "\n",
    "await skillsnetwork.prepare(\"https://cf-courses-data.s3.us.cloud-object-storage.appdomain.cloud/IBM-ML0187EN-SkillsNetwork/labs/module%203/images/images.tar.gz\")"
   ]
  },
  {
   "cell_type": "code",
   "execution_count": 3,
   "metadata": {},
   "outputs": [],
   "source": [
    "import logging\n",
    "import numpy as np\n",
    "import pandas as pd\n",
    "import matplotlib.pyplot as plt\n",
    "import os"
   ]
  },
  {
   "cell_type": "code",
   "execution_count": 5,
   "metadata": {},
   "outputs": [],
   "source": [
    "from numpy.random import RandomState\n",
    "from sklearn.decomposition import NMF\n",
    "from os import listdir, getcwd\n",
    "from os.path import isfile, join\n",
    "from PIL import Image, ImageOps"
   ]
  },
  {
   "cell_type": "code",
   "execution_count": 4,
   "metadata": {},
   "outputs": [],
   "source": [
    "import warnings\n",
    "warnings.simplefilter('ignore')"
   ]
  },
  {
   "cell_type": "markdown",
   "metadata": {},
   "source": [
    "### Defining Helper Functions\n"
   ]
  },
  {
   "cell_type": "markdown",
   "metadata": {},
   "source": [
    "Load train and test set:\n"
   ]
  },
  {
   "cell_type": "code",
   "execution_count": 6,
   "metadata": {},
   "outputs": [],
   "source": [
    "def get_data_matrix(test=False, Length=100, Width=100, mypath=\"images/\"):\n",
    "\n",
    "    files = [join(mypath,f) for f in listdir(mypath) if isfile(join(mypath, f)) and f[0] != '.']\n",
    "    if mypath + '/.DS_Store' in files:\n",
    "        files.remove(mypath + '/.DS_Store')\n",
    "  \n",
    "    if test:\n",
    "        print(\"test data\")\n",
    "        files = files[9000: 10000]\n",
    "        \n",
    "    else:\n",
    "        print(\"training data\")\n",
    "        files = files[0: 9000]\n",
    "        \n",
    "    print(len(files))\n",
    "    X = np.zeros((len(files), Length * Width))\n",
    "\n",
    "    for i, file in enumerate(files):\n",
    "        img = Image.open(file).resize((Width, Length))\n",
    "        img = ImageOps.grayscale(img)\n",
    "        I = np.array(img)\n",
    " \n",
    "        X[i, :] = I.reshape(1, -1)\n",
    "    return X"
   ]
  },
  {
   "cell_type": "markdown",
   "metadata": {},
   "source": [
    "Plot image vectors:\n"
   ]
  },
  {
   "cell_type": "code",
   "execution_count": 7,
   "metadata": {},
   "outputs": [],
   "source": [
    "def reshape_row(x):\n",
    "    plt.imshow(x.reshape(Length, Width), cmap=\"gray\")"
   ]
  },
  {
   "cell_type": "markdown",
   "metadata": {},
   "source": [
    "This threshold function outputs an index if the input ```similar_distance``` is grater than or less than ```min_``` and ```max_```.\n"
   ]
  },
  {
   "cell_type": "code",
   "execution_count": 8,
   "metadata": {},
   "outputs": [],
   "source": [
    "def threshold(similar_distance, max_=0.1, min_=0):\n",
    "    dataset_index = np.where(np.logical_and(similar_distance > min_, similar_distance < max_))[0]\n",
    "    query_index = similar_index[np.logical_and(similar_distance > min_, similar_distance < max_)]\n",
    "    return dataset_index, query_index"
   ]
  },
  {
   "cell_type": "markdown",
   "metadata": {},
   "source": [
    "Plot dataset images and query images, ```X``` and ```X_q``` are global variables.\n"
   ]
  },
  {
   "cell_type": "code",
   "execution_count": 9,
   "metadata": {},
   "outputs": [],
   "source": [
    "def plot_data_query(dataset_index, query_index, N):\n",
    "    \n",
    "    for data_sample, query_sample in zip(dataset_index[0: N], query_index[0: N]):\n",
    "        plt.figure(figsize=(10, 4))\n",
    "        plt.subplot(1, 2, 1)\n",
    "        reshape_row(X[data_sample])\n",
    "        plt.title(\"dataset sample {}\".format(data_sample))\n",
    "        plt.subplot(1, 2, 2)\n",
    "        reshape_row(X_q[query_sample])\n",
    "        plt.title(\"query sample match {}\".format(query_sample))\n",
    "        plt.show()\n",
    "        print(\"-----------------------------------------------------\")"
   ]
  },
  {
   "cell_type": "code",
   "execution_count": null,
   "metadata": {},
   "outputs": [],
   "source": []
  }
 ],
 "metadata": {
  "kernelspec": {
   "display_name": ".venv",
   "language": "python",
   "name": "python3"
  },
  "language_info": {
   "codemirror_mode": {
    "name": "ipython",
    "version": 3
   },
   "file_extension": ".py",
   "mimetype": "text/x-python",
   "name": "python",
   "nbconvert_exporter": "python",
   "pygments_lexer": "ipython3",
   "version": "3.10.12"
  }
 },
 "nbformat": 4,
 "nbformat_minor": 2
}
