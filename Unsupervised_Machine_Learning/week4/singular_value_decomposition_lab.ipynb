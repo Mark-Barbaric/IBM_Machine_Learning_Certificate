{
 "cells": [
  {
   "cell_type": "markdown",
   "metadata": {},
   "source": [
    "<center>\n",
    "    <img src=\"https://cf-courses-data.s3.us.cloud-object-storage.appdomain.cloud/assets/logos/SN_web_lightmode.png\" width=\"300\" alt=\"cognitiveclass.ai logo\">\n",
    "</center>\n"
   ]
  },
  {
   "cell_type": "markdown",
   "metadata": {},
   "source": [
    "# Singular-Value Decomposition (SVD)\n",
    "\n",
    "Estimated time needed: **45** minutes\n",
    "\n",
    "You are a computer vision engineer and a self-driving car company has hired you.  The company would like you to remove all objects other than the street from several security videos using singular value decomposition to help test their vision system. You will use the  <a href=\"www.svcl.ucsd.edu/projects/background_subtraction/ucsdbgsub_dataset.html\"> Background Subtraction in Dynamic dataset  </a> from the  Statistical Visual Computing Laboratory (SVCL) at UCSD.\n",
    "\n",
    "<img src=\"https://cf-courses-data.s3.us.cloud-object-storage.appdomain.cloud/IBM-ML0187EN-SkillsNetwork/labs/module%203/images/15104006386_1bf6bfe96a_b.jpeg\" width=\"600\">\n",
    "\n"
   ]
  },
  {
   "cell_type": "markdown",
   "metadata": {},
   "source": [
    "## Table of Contents\n",
    "\n",
    "<ol>\n",
    "    <li><a href=\"#Objectives\">Objectives</a></li>\n",
    "    <li>\n",
    "        <a href=\"#Setup\">Setup</a>\n",
    "        <ol>\n",
    "            <li><a href=\"#Installing-Required-Libraries\">Installing Required Libraries</a></li>\n",
    "            <li><a href=\"#Importing-Required-Libraries\">Importing Required Libraries</a></li>\n",
    "            <li><a href=\"#Defining-Helper-Functions\">Defining Helper Functions</a></li>\n",
    "        </ol>\n",
    "    </li>\n",
    "    <li><a href=\"#Singular Value Decomposition\">Singular Value Decomposition</a></li>\n",
    "    <li>\n",
    "        <a href=\"#Truncated SVD\">Truncated SVD</a>\n",
    "        <ol>\n",
    "            <li><a href=\"#Truncated SVD in Sklearn\">Truncated SVD in Sklearn</a></li>\n",
    "            <li><a href=\"#Background Model using SVD\">Background Model using SVD</a></li>\n",
    "        </ol>\n",
    "    </li>\n",
    "    <li>\n",
    "        <a href=\"#Exercises\">Exercises</a>\n",
    "        <ol>\n",
    "            <li><a href=\"#Exercise 1\">Exercise 1</a></li>\n",
    "            <li><a href=\"#Exercise 2\">Exercise 2</a></li>\n",
    "            <li><a href=\"#Exercise 3\">Exercise 3</a></li>\n",
    "            <li><a href=\"#Exercise 4\">Exercise 4</a></li>\n",
    "            <li><a href=\"#Exercise 5\">Exercise 5</a></li>\n",
    "        </ol>\n",
    "    </li>\n",
    "    <li><a href=\"#SVD from Scratch (optional)\">SVD from Scratch (optional)</a></li>\n",
    "    <li><a href=\"#Relationship between SVD and PCA (optional)\">Relationship between SVD and PCA (optional)</a></li>\n",
    "    \n",
    " </ol>    \n",
    "     \n",
    "  \n"
   ]
  },
  {
   "cell_type": "markdown",
   "metadata": {},
   "source": [
    "## Objectives\n",
    "\n",
    "\n",
    "*   **Understand** what is SVD in terms of Matrix Decomposition\n",
    "*   **Understand** Truncated SVD \n",
    "*   **Apply** Truncated SVD  using numpy and Sklearn\n",
    "*   **Apply** Truncated SVD  to real data \n",
    "*   **Understand** the relationship between SVD and PCA (optional)\n"
   ]
  },
  {
   "cell_type": "code",
   "execution_count": 2,
   "metadata": {},
   "outputs": [
    {
     "data": {
      "application/vnd.jupyter.widget-view+json": {
       "model_id": "fa55788c6cd1428f8b864c1fb3ba8179",
       "version_major": 2,
       "version_minor": 0
      },
      "text/plain": [
       "Downloading traffic.tar.gz:   0%|          | 0/10080037 [00:00<?, ?it/s]"
      ]
     },
     "metadata": {},
     "output_type": "display_data"
    },
    {
     "data": {
      "application/vnd.jupyter.widget-view+json": {
       "model_id": "507f1a3bbdf44baba716a244727016ed",
       "version_major": 2,
       "version_minor": 0
      },
      "text/plain": [
       "  0%|          | 0/382 [00:00<?, ?it/s]"
      ]
     },
     "metadata": {},
     "output_type": "display_data"
    },
    {
     "name": "stdout",
     "output_type": "stream",
     "text": [
      "Saved to '.'\n"
     ]
    },
    {
     "data": {
      "application/vnd.jupyter.widget-view+json": {
       "model_id": "6f7ff9ba624740f189f4bc3980db1bcc",
       "version_major": 2,
       "version_minor": 0
      },
      "text/plain": [
       "Downloading peds.tar.gz:   0%|          | 0/4350112 [00:00<?, ?it/s]"
      ]
     },
     "metadata": {},
     "output_type": "display_data"
    },
    {
     "data": {
      "application/vnd.jupyter.widget-view+json": {
       "model_id": "e2c056b1f9054ef389ef55b008a8f70b",
       "version_major": 2,
       "version_minor": 0
      },
      "text/plain": [
       "  0%|          | 0/341 [00:00<?, ?it/s]"
      ]
     },
     "metadata": {},
     "output_type": "display_data"
    },
    {
     "name": "stdout",
     "output_type": "stream",
     "text": [
      "Saved to '.'\n"
     ]
    },
    {
     "data": {
      "application/vnd.jupyter.widget-view+json": {
       "model_id": "6270e3de475f435fa124b4d09184044f",
       "version_major": 2,
       "version_minor": 0
      },
      "text/plain": [
       "Downloading boats.tar.gz:   0%|          | 0/1552239 [00:00<?, ?it/s]"
      ]
     },
     "metadata": {},
     "output_type": "display_data"
    },
    {
     "data": {
      "application/vnd.jupyter.widget-view+json": {
       "model_id": "9c7787ea28e041c59dddfef2a572e0e8",
       "version_major": 2,
       "version_minor": 0
      },
      "text/plain": [
       "  0%|          | 0/64 [00:00<?, ?it/s]"
      ]
     },
     "metadata": {},
     "output_type": "display_data"
    },
    {
     "name": "stdout",
     "output_type": "stream",
     "text": [
      "Saved to '.'\n"
     ]
    }
   ],
   "source": [
    "import skillsnetwork\n",
    "\n",
    "await skillsnetwork.prepare(\"https://cf-courses-data.s3.us.cloud-object-storage.appdomain.cloud/IBM-ML0187EN-SkillsNetwork/labs/module%203/data/traffic.tar.gz\", overwrite=True)\n",
    "await skillsnetwork.prepare(\"https://cf-courses-data.s3.us.cloud-object-storage.appdomain.cloud/IBM-ML0187EN-SkillsNetwork/labs/module%203/data/peds.tar.gz\", overwrite=True)\n",
    "await skillsnetwork.prepare(\"https://cf-courses-data.s3.us.cloud-object-storage.appdomain.cloud/IBM-ML0187EN-SkillsNetwork/labs/module%203/data/boats.tar.gz\", overwrite=True)\n"
   ]
  },
  {
   "cell_type": "markdown",
   "metadata": {},
   "source": [
    "## Setup\n"
   ]
  },
  {
   "cell_type": "markdown",
   "metadata": {},
   "source": [
    "### Installing  required libraries\n"
   ]
  },
  {
   "cell_type": "code",
   "execution_count": 3,
   "metadata": {},
   "outputs": [],
   "source": [
    "import pandas as pd\n",
    "import numpy as np\n",
    "import seaborn as sns\n",
    "import matplotlib.pyplot as plt"
   ]
  },
  {
   "cell_type": "code",
   "execution_count": 4,
   "metadata": {},
   "outputs": [],
   "source": [
    "from os import listdir, getcwd\n",
    "from os.path import isfile, join\n",
    "from random import randint\n",
    "from PIL import Image\n",
    "from sympy import Matrix, init_printing, Symbol\n",
    "from numpy.linalg import qr, eig, inv, matrix_rank, inv, svd"
   ]
  },
  {
   "cell_type": "code",
   "execution_count": 5,
   "metadata": {},
   "outputs": [],
   "source": [
    "init_printing()"
   ]
  },
  {
   "cell_type": "markdown",
   "metadata": {},
   "source": [
    "### Defining Helper functions\n"
   ]
  },
  {
   "cell_type": "code",
   "execution_count": 6,
   "metadata": {},
   "outputs": [],
   "source": [
    "def get_data_Matrix (mypath=\"peds\"):\n",
    "    cwd = getcwd()\n",
    "\n",
    "    mypath = join(cwd,mypath)\n",
    "    files = [join(mypath, f) for f in listdir(mypath) if isfile(join(mypath, f)) and f.startswith(\".\") == False]\n",
    "    # Read image\n",
    "    img = Image.open(files[0])\n",
    "    I = np.array(img)\n",
    "    # Output Images\n",
    "\n",
    "    Length, Width = I.shape\n",
    "   \n",
    "    X = np.zeros((len(files), Length * Width))\n",
    "    for i, file in enumerate(files):\n",
    "        img = Image.open(file)\n",
    "        I = np.array(img)\n",
    "        X[i, :] = I.reshape(1, -1)\n",
    "    return X, Length, Width"
   ]
  },
  {
   "cell_type": "markdown",
   "metadata": {},
   "source": [
    "## Singular Value Decomposition\n",
    "The Singular-Value Decomposition, or SVD for short, will decompose a real or complex $N × D$ matrix $\\mathbf{X}$ of rank $r$ as follows:\n"
   ]
  },
  {
   "cell_type": "markdown",
   "metadata": {},
   "source": [
    "$$\\mathbf{X}= \\mathbf {US V^{T}}$$\n"
   ]
  },
  {
   "cell_type": "markdown",
   "metadata": {},
   "source": [
    "In many applications  $N \\ge D$, but SVD can be used for any matrix $\\mathbf{X}$. For example, in computer vision and image processing tasks we sometimes have $D \\ge N$.\n"
   ]
  },
  {
   "cell_type": "markdown",
   "metadata": {},
   "source": [
    "The matrix $\\mathbf{S}$ contains the nonnegative <b>singular values</b> of $\\mathbf{X}$, with diagonal entries ${\\sigma _{i}}$ else $0$, the entries are ordered by importance in descending order with respect to $i$, i.e:\n",
    "\n",
    "$$\\sigma _{1}>\\sigma _{2},..>\\sigma _{r}$$\n"
   ]
  },
  {
   "cell_type": "markdown",
   "metadata": {},
   "source": [
    "The matrix $\\mathbf {U}$ is $NxD$ and  has the orthornormal columns  $\\mathbf{u}_{1}, ..., \\mathbf{u}_{D} $ called the <b>left singular vectors</b>.\n",
    "\n",
    "The matrix $\\mathbf {V}$ is $DxD$ and has the orthornormal columns $\\mathbf{v}_{1}, ..., \\mathbf{v}_{D}$ called the <b>right singular vectors</b>  (note  that $\\mathbf{V}$ transpose, $\\mathbf {V^{T}}$ is returned as output in numpy's `svd` function).\n"
   ]
  },
  {
   "cell_type": "markdown",
   "metadata": {},
   "source": [
    " SVD decomposition returns the full shape of a non-square matrix, the non colored  parts of the decomposition **N-D** terms in the matrix U are zeros, we see many of the squares are redundant.\n"
   ]
  },
  {
   "cell_type": "markdown",
   "metadata": {},
   "source": [
    "<img src=\"https://cf-courses-data.s3.us.cloud-object-storage.appdomain.cloud/IBM-ML0187EN-SkillsNetwork/labs/module%203/images/matrix.png\" width=\"600\" alt=\"full svd\">\n"
   ]
  },
  {
   "cell_type": "markdown",
   "metadata": {},
   "source": [
    "Consider the matrix $\\mathbf{X}$:\n"
   ]
  },
  {
   "cell_type": "code",
   "execution_count": 7,
   "metadata": {},
   "outputs": [
    {
     "data": {
      "text/latex": [
       "$\\displaystyle \\left[\\begin{matrix}1.0 & 2.0\\\\2.0 & 1.0\\\\3.0 & 3.0\\end{matrix}\\right]$"
      ],
      "text/plain": [
       "⎡1.0  2.0⎤\n",
       "⎢        ⎥\n",
       "⎢2.0  1.0⎥\n",
       "⎢        ⎥\n",
       "⎣3.0  3.0⎦"
      ]
     },
     "execution_count": 7,
     "metadata": {},
     "output_type": "execute_result"
    }
   ],
   "source": [
    "X = np.array([[1.0, 2], [2, 1], [3, 3]])\n",
    "Matrix(X)"
   ]
  },
  {
   "cell_type": "markdown",
   "metadata": {},
   "source": [
    "We can perform SVD on any matrix in numpy by using the function `svd` from `numpy.linalg`:\n"
   ]
  },
  {
   "cell_type": "code",
   "execution_count": 8,
   "metadata": {},
   "outputs": [],
   "source": [
    "U, s, VT = svd(X, full_matrices=False)"
   ]
  },
  {
   "cell_type": "markdown",
   "metadata": {},
   "source": [
    "When $\\mathbf{X}$ is a 2D array, it is factorized as $U\\times np.diag(s)\\times V^T$, where $U$ and $V^T$ are 2D orthogonal  matrices  and $s$ is an 1D array of $\\mathbf{X}$'s singular values. When $\\mathbf{X}$ is higher-dimensional (such as sparse matrices), the parameter ```full_matrices=False```, the skinny SVD is used and the zero elements are dropped. This can be summarized in the following image:\n"
   ]
  },
  {
   "cell_type": "markdown",
   "metadata": {},
   "source": [
    "<img src=\"https://cf-courses-data.s3.us.cloud-object-storage.appdomain.cloud/IBM-ML0187EN-SkillsNetwork/labs/module%203/images/skinny-SVD.png\" width=\"600\" alt=\"skinnysvd\">\n"
   ]
  },
  {
   "cell_type": "markdown",
   "metadata": {},
   "source": [
    "We have the <b>left singular vectors</b> of $\\mathbf{X}$:\n"
   ]
  },
  {
   "cell_type": "code",
   "execution_count": 9,
   "metadata": {},
   "outputs": [
    {
     "data": {
      "text/latex": [
       "$\\displaystyle \\left[\\begin{matrix}-0.408248290463863 & 0.707106781186548\\\\-0.408248290463863 & -0.707106781186547\\\\-0.816496580927726 & -1.57698996923239 \\cdot 10^{-16}\\end{matrix}\\right]$"
      ],
      "text/plain": [
       "⎡-0.408248290463863    0.707106781186548  ⎤\n",
       "⎢                                         ⎥\n",
       "⎢-0.408248290463863   -0.707106781186547  ⎥\n",
       "⎢                                         ⎥\n",
       "⎣-0.816496580927726  -1.57698996923239e-16⎦"
      ]
     },
     "execution_count": 9,
     "metadata": {},
     "output_type": "execute_result"
    }
   ],
   "source": [
    "Matrix(U)"
   ]
  },
  {
   "cell_type": "markdown",
   "metadata": {},
   "source": [
    "We have the <b>singular values</b> of $\\mathbf{X}$, as the output is an 1-D array we use the function ```np.diag``` to convert the output into a diagonal matrix:\n"
   ]
  },
  {
   "cell_type": "code",
   "execution_count": 11,
   "metadata": {},
   "outputs": [
    {
     "data": {
      "text/latex": [
       "$\\displaystyle \\left[\\begin{matrix}5.19615242270663\\\\1.0\\end{matrix}\\right]$"
      ],
      "text/plain": [
       "⎡5.19615242270663⎤\n",
       "⎢                ⎥\n",
       "⎣      1.0       ⎦"
      ]
     },
     "execution_count": 11,
     "metadata": {},
     "output_type": "execute_result"
    }
   ],
   "source": [
    "Matrix(s)"
   ]
  },
  {
   "cell_type": "code",
   "execution_count": 10,
   "metadata": {},
   "outputs": [
    {
     "data": {
      "text/latex": [
       "$\\displaystyle \\left[\\begin{matrix}5.19615242270663 & 0.0\\\\0.0 & 1.0\\end{matrix}\\right]$"
      ],
      "text/plain": [
       "⎡5.19615242270663  0.0⎤\n",
       "⎢                     ⎥\n",
       "⎣      0.0         1.0⎦"
      ]
     },
     "execution_count": 10,
     "metadata": {},
     "output_type": "execute_result"
    }
   ],
   "source": [
    "S = np.diag(s)\n",
    "Matrix(S)"
   ]
  },
  {
   "cell_type": "markdown",
   "metadata": {},
   "source": [
    "Finally we have the <b>right singular vectors</b> of $\\mathbf{X}$, as the output is transposed they are the rows of matrix ```VT```:\n"
   ]
  },
  {
   "cell_type": "code",
   "execution_count": 12,
   "metadata": {},
   "outputs": [
    {
     "data": {
      "text/latex": [
       "$\\displaystyle \\left[\\begin{matrix}-0.707106781186547 & -0.707106781186547\\\\-0.707106781186547 & 0.707106781186547\\end{matrix}\\right]$"
      ],
      "text/plain": [
       "⎡-0.707106781186547  -0.707106781186547⎤\n",
       "⎢                                      ⎥\n",
       "⎣-0.707106781186547  0.707106781186547 ⎦"
      ]
     },
     "execution_count": 12,
     "metadata": {},
     "output_type": "execute_result"
    }
   ],
   "source": [
    "Matrix(VT)"
   ]
  },
  {
   "cell_type": "code",
   "execution_count": null,
   "metadata": {},
   "outputs": [],
   "source": []
  }
 ],
 "metadata": {
  "kernelspec": {
   "display_name": ".venv",
   "language": "python",
   "name": "python3"
  },
  "language_info": {
   "codemirror_mode": {
    "name": "ipython",
    "version": 3
   },
   "file_extension": ".py",
   "mimetype": "text/x-python",
   "name": "python",
   "nbconvert_exporter": "python",
   "pygments_lexer": "ipython3",
   "version": "3.10.12"
  }
 },
 "nbformat": 4,
 "nbformat_minor": 2
}
