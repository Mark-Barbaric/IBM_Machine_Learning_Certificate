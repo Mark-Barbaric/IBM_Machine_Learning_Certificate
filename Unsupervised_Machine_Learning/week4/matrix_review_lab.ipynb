{
 "cells": [
  {
   "cell_type": "markdown",
   "metadata": {},
   "source": [
    "<p style=\"text-align:center\">\n",
    "    <a href=\"https://skills.network/?utm_medium=Exinfluencer&utm_source=Exinfluencer&utm_content=000026UJ&utm_term=10006555&utm_id=NA-SkillsNetwork-Channel-SkillsNetworkCoursesIBMML0187ENSkillsNetwork31430127-2022-01-01\" target=\"_blank\">\n",
    "    <img src=\"https://cf-courses-data.s3.us.cloud-object-storage.appdomain.cloud/assets/logos/SN_web_lightmode.png\" width=\"200\" alt=\"Skills Network Logo\">\n",
    "    </a>\n",
    "</p>\n"
   ]
  },
  {
   "cell_type": "markdown",
   "metadata": {},
   "source": [
    "# Matrix Review\n",
    "\n",
    "Estimated time needed: **45** minutes\n"
   ]
  },
  {
   "cell_type": "markdown",
   "metadata": {},
   "source": [
    "Matrix operations are a fundamental part of machine learning and many fields, such as digital signal processing, optimization, control systems, computer graphics, and so on. As a result, there has been a lot of work on optimizing matrix operations, not only in software, but in hardware. Let's say you work for a AI hardware  company, the company has developed a new processor that can only perform matrix operations. The company needs you to implement some popular  statistics such as mean, variance and Principle Component Analysis using Matrix operations\n"
   ]
  },
  {
   "cell_type": "markdown",
   "metadata": {},
   "source": [
    "<img src=\"https://cf-courses-data.s3.us.cloud-object-storage.appdomain.cloud/IBM-ML0187EN-SkillsNetwork/labs/module%203/images/technology-electronic-device-computer-hardware-computer-component-electronics-motherboard-personal-computer-hardware-cpu-computer-accessory-1536663.jpeg\" width=\"500\" alt=\"https://pxhere.com/en/photo/1536663\">\n"
   ]
  },
  {
   "cell_type": "markdown",
   "metadata": {},
   "source": [
    "## Table of Contents\n",
    "\n",
    "<ol>\n",
    "    <li><a href=\"https://#Objectives\">Objectives</a></li>\n",
    "    <li>\n",
    "        <a href=\"https://#Setup\">Setup</a>\n",
    "        <ol>\n",
    "            <li><a href=\"https://#Installing-Required-Libraries\">Installing Required Libraries</a></li>\n",
    "            <li><a href=\"https://#Importing-Required-Libraries\">Importing Required Libraries</a></li>\n",
    "            <li><a href=\"https://#Defining-Helper-Functions\">Defining Helper Functions</a></li>\n",
    "        </ol>\n",
    "    </li>\n",
    "    <li>\n",
    "        <a href=\"https://#Basics of Matrices\">Basics of Matrices</a>\n",
    "        <ol>\n",
    "            <li><a href=\"https://https://https://#What's a Matrix?\">What's a Matrix? </a></li>\n",
    "            <li><a href=\"https://https://https://#Rank of a Matrix\">Rank of a Matrix </a></li>\n",
    "            <li><a href=\"https://#Frobenius Norm of a Matrix\">Frobenius Norm of a Matrix</a></li>\n",
    "            <li><a href=\"https://#Matrix Additione\"> Matrix Addition</a></li>\n",
    "        </ol>\n",
    "    </li>\n",
    "  <li>\n",
    "        <a href=\"https://https://#Matrix and Vector Multiplication\">Matrix and Vector Multiplication</a>\n",
    "        <ol>\n",
    "            <li><a href=\"#What's a Matrix?\"> Dot-Product </a></li>\n",
    "            <li><a href=\"#Rank of a Matrix\">The Outer product</a></li>\n",
    "            <li><a href=\"#Matrix and Vector Multiplication\">Matrix and Vector Multiplication</a></li>\n",
    "            <li><a href=\"https://#Matrix Multiplication\">Multiplying Matrices</a></li>\n",
    "     </ol>\n",
    "   </li>\n",
    "   <li>\n",
    "        <a href=\"https://#Eigen Decomposition\">Eigen Decomposition</a>\n",
    "        <ol>\n",
    "            <li><a href=\"#What's a Matrix?\"> Eigenvectors and Eigenvalues </a></li>\n",
    "            <li><a href=\"#Rank of a Matrix\">The Factorization for PCA</a></li>\n",
    "        </ol>     \n",
    "   </li>\n",
    "\n",
    " </ol>    \n"
   ]
  },
  {
   "cell_type": "markdown",
   "metadata": {},
   "source": [
    "***\n"
   ]
  },
  {
   "cell_type": "markdown",
   "metadata": {},
   "source": [
    "## Objectives\n",
    "\n",
    "After completing this lab you will be able to:\n",
    "\n",
    "*   **Understand** Basic Matrix operations such as Matrix addition, Vector Multiplication  Eigen decomposition\n",
    "\n",
    "*   **Apply** Apply these Matrix operations using numpy\n"
   ]
  },
  {
   "cell_type": "markdown",
   "metadata": {},
   "source": [
    "## Setup\n"
   ]
  },
  {
   "cell_type": "markdown",
   "metadata": {},
   "source": [
    "### Installing required libraries\n"
   ]
  },
  {
   "cell_type": "markdown",
   "metadata": {},
   "source": [
    "The following required modules are pre-installed in the Skills Network Labs environment. However, if you run this notebook commands in a different Jupyter environment (e.g. Watson Studio or Ananconda) you will need to install these libraries by removing the `#` sign before `!mamba` in the code cell below.\n"
   ]
  },
  {
   "cell_type": "code",
   "execution_count": 1,
   "metadata": {},
   "outputs": [],
   "source": [
    "import numpy as np\n",
    "import pandas as pd\n",
    "import matplotlib.pyplot as plt"
   ]
  },
  {
   "cell_type": "code",
   "execution_count": 3,
   "metadata": {},
   "outputs": [],
   "source": [
    "from sklearn.decomposition import PCA\n",
    "from sympy import Matrix, init_printing, Symbol\n",
    "from numpy.linalg import qr, eig, inv, matrix_rank, norm\n",
    "from scipy.linalg import null_space"
   ]
  },
  {
   "cell_type": "code",
   "execution_count": 4,
   "metadata": {},
   "outputs": [],
   "source": [
    "init_printing()"
   ]
  },
  {
   "cell_type": "markdown",
   "metadata": {},
   "source": [
    "### Defining Helper Functions\n",
    "\n",
    "*Use this section to define any helper functions to help the notebook's code readability:*\n"
   ]
  },
  {
   "cell_type": "code",
   "execution_count": 5,
   "metadata": {},
   "outputs": [],
   "source": [
    "def plot_2d(dict_):\n",
    "    for key, value in dict_.items():\n",
    "        if value.shape[0] > 2:\n",
    "            plt.scatter(value[:, 0], value[:, 1], label=key)\n",
    "        else:\n",
    "            print(value)\n",
    "            plt.quiver([0], [0], value[:, 0],value[:, 1], label=key)\n",
    "\n",
    "    plt.legend()\n",
    "    plt.show()"
   ]
  },
  {
   "cell_type": "markdown",
   "metadata": {},
   "source": [
    "## Basics of Matrices\n"
   ]
  },
  {
   "cell_type": "markdown",
   "metadata": {},
   "source": [
    "### What's a Matrix\n"
   ]
  },
  {
   "cell_type": "markdown",
   "metadata": {},
   "source": [
    "Numpy treats matrix objects as numpy arrays, so we will use Numpy to create matrices. Let's consider the square matrix A.\n"
   ]
  },
  {
   "cell_type": "code",
   "execution_count": 7,
   "metadata": {},
   "outputs": [
    {
     "data": {
      "text/latex": [
       "$\\displaystyle \\left[\\begin{matrix}2 & -3\\\\4 & 7\\end{matrix}\\right]$"
      ],
      "text/plain": [
       "⎡2  -3⎤\n",
       "⎢     ⎥\n",
       "⎣4  7 ⎦"
      ]
     },
     "execution_count": 7,
     "metadata": {},
     "output_type": "execute_result"
    }
   ],
   "source": [
    "A = np.array([[2, -3], [4, 7]])\n",
    "Matrix(A)"
   ]
  },
  {
   "cell_type": "code",
   "execution_count": 8,
   "metadata": {},
   "outputs": [
    {
     "data": {
      "text/plain": [
       "array([2, 4])"
      ]
     },
     "execution_count": 8,
     "metadata": {},
     "output_type": "execute_result"
    }
   ],
   "source": [
    "a1 = A[:, 0]\n",
    "a1"
   ]
  },
  {
   "cell_type": "code",
   "execution_count": 9,
   "metadata": {},
   "outputs": [
    {
     "data": {
      "text/plain": [
       "array([-3,  7])"
      ]
     },
     "execution_count": 9,
     "metadata": {},
     "output_type": "execute_result"
    }
   ],
   "source": [
    "a2 = A[:, 1]\n",
    "a2"
   ]
  },
  {
   "cell_type": "markdown",
   "metadata": {},
   "source": [
    "Denoted by $A^{T}$, the transpose of a matrix  switches the row and column indices of the matrix, in numpy we can determine the transpose of $A$ as follows:\n"
   ]
  },
  {
   "cell_type": "code",
   "execution_count": 10,
   "metadata": {},
   "outputs": [
    {
     "data": {
      "text/latex": [
       "$\\displaystyle \\left[\\begin{matrix}2 & 4\\\\-3 & 7\\end{matrix}\\right]$"
      ],
      "text/plain": [
       "⎡2   4⎤\n",
       "⎢     ⎥\n",
       "⎣-3  7⎦"
      ]
     },
     "execution_count": 10,
     "metadata": {},
     "output_type": "execute_result"
    }
   ],
   "source": [
    "AT = A.T\n",
    "Matrix(AT)"
   ]
  },
  {
   "cell_type": "markdown",
   "metadata": {},
   "source": [
    "### Rank of a Matrix\n"
   ]
  },
  {
   "cell_type": "markdown",
   "metadata": {},
   "source": [
    "The rank of a matrix is the number of dimension the rows of the matrix \"live in\".  You can verify the Matrix truly behaves like a  square matrix if it's <a href='https://en.wikipedia.org/wiki/Rank_(linear_algebra)?utm_medium=Exinfluencer&utm_source=Exinfluencer&utm_content=000026UJ&utm_term=10006555&utm_id=NA-SkillsNetwork-Channel-SkillsNetworkCoursesIBMML0187ENSkillsNetwork31430127-2022-01-01'>rank</a> is equal to the number of rows or columns, then it is referred to as **full rank**.\n"
   ]
  },
  {
   "cell_type": "code",
   "execution_count": 11,
   "metadata": {},
   "outputs": [
    {
     "data": {
      "text/plain": [
       "2"
      ]
     },
     "execution_count": 11,
     "metadata": {},
     "output_type": "execute_result"
    }
   ],
   "source": [
    "matrix_rank(A)"
   ]
  },
  {
   "cell_type": "markdown",
   "metadata": {},
   "source": [
    "We can plot the columns of $A$ as vectors.\n"
   ]
  },
  {
   "cell_type": "code",
   "execution_count": 13,
   "metadata": {},
   "outputs": [
    {
     "data": {
      "image/png": "[encoded data removed]",
      "text/plain": [
       "<Figure size 1200x700 with 1 Axes>"
      ]
     },
     "metadata": {},
     "output_type": "display_data"
    }
   ],
   "source": [
    "fig, ax = plt.subplots(figsize=(12, 7))\n",
    "ax.quiver([0, 0], [0, 0], A[0, 0], A[1, 0], scale=30, label=f\"$a_{1}$\")\n",
    "ax.quiver([0, 0], [0, 0], A[0, 1], A[1, 1], scale=30, label=f\"$a_{2}$\")\n",
    "plt.title(\"columns of $A$\")\n",
    "plt.legend()\n",
    "plt.show()"
   ]
  },
  {
   "cell_type": "markdown",
   "metadata": {},
   "source": [
    "As the vectors are not parallel, we can define any point on the 2d space as a scaled  combination of those two vectors.\n",
    "\n",
    "If any of the columns in a matrix  are multiples of each other, the vectors point in the same direction and the matrix is not full rank.\n"
   ]
  },
  {
   "cell_type": "code",
   "execution_count": 14,
   "metadata": {},
   "outputs": [
    {
     "data": {
      "text/plain": [
       "1"
      ]
     },
     "execution_count": 14,
     "metadata": {},
     "output_type": "execute_result"
    }
   ],
   "source": [
    "F = np.array([[2, 4], [4, 8]])\n",
    "matrix_rank(F)"
   ]
  },
  {
   "cell_type": "code",
   "execution_count": 15,
   "metadata": {},
   "outputs": [
    {
     "data": {
      "image/png": "[encoded data removed]",
      "text/plain": [
       "<Figure size 1200x700 with 1 Axes>"
      ]
     },
     "metadata": {},
     "output_type": "display_data"
    }
   ],
   "source": [
    "fig, ax = plt.subplots(figsize=(12, 7))\n",
    "ax.quiver([0, 0], [0, 0], F[0, 1], F[1, 1], scale=30, label=f\"$f_{2}$\", color='red')\n",
    "ax.quiver([0, 0], [0, 0], F[0, 0], F[1, 0], scale=30, label=f\"$f_{1}$\")\n",
    "plt.title(\"columns of $F$ \")\n",
    "plt.legend()\n",
    "plt.show()"
   ]
  },
  {
   "cell_type": "markdown",
   "metadata": {},
   "source": [
    "A common occurance is a matrix with more columns than rows, but in data, more rows than columns is more common. Consider the matrix $F$.\n"
   ]
  },
  {
   "cell_type": "code",
   "execution_count": 16,
   "metadata": {},
   "outputs": [
    {
     "data": {
      "text/latex": [
       "$\\displaystyle \\left[\\begin{matrix}1 & 2\\\\1 & -2\\\\-1 & 1\\end{matrix}\\right]$"
      ],
      "text/plain": [
       "⎡1   2 ⎤\n",
       "⎢      ⎥\n",
       "⎢1   -2⎥\n",
       "⎢      ⎥\n",
       "⎣-1  1 ⎦"
      ]
     },
     "execution_count": 16,
     "metadata": {},
     "output_type": "execute_result"
    }
   ],
   "source": [
    "F = np.array([[1, 2], [1, -2], [-1, 1]])\n",
    "Matrix(F)"
   ]
  },
  {
   "cell_type": "markdown",
   "metadata": {},
   "source": [
    "Although, the rows of matrix $F$ are 3 dimensions, you can only describe the point lying in the 2D plane, as shown here:\n"
   ]
  },
  {
   "cell_type": "code",
   "execution_count": 17,
   "metadata": {},
   "outputs": [
    {
     "data": {
      "image/png": "[encoded data removed]",
      "text/plain": [
       "<Figure size 640x480 with 1 Axes>"
      ]
     },
     "metadata": {},
     "output_type": "display_data"
    }
   ],
   "source": [
    "ax = plt.figure().add_subplot(projection='3d')\n",
    "p = null_space(F.T)\n",
    "xx, yy = np.meshgrid(np.arange(-3, 3, 0.1), np.arange(-3, 3, 0.1))\n",
    "z = (p[0] * xx + p[1] * yy) / p[2]\n",
    "ax.plot_surface(xx, yy, z, alpha=0.1)\n",
    "ax.quiver([0, 0], [0, 0], [0, 0], F[0, :], F[1, :], F[2, :])\n",
    "\n",
    "ax.set_xlim([-3, 3])\n",
    "ax.set_ylim([-3, 3])\n",
    "ax.set_zlim([-3, 3])\n",
    "plt.show()"
   ]
  },
  {
   "cell_type": "markdown",
   "metadata": {},
   "source": [
    "Therefore, the rank is 2.\n"
   ]
  },
  {
   "cell_type": "code",
   "execution_count": 18,
   "metadata": {},
   "outputs": [
    {
     "data": {
      "text/plain": [
       "2"
      ]
     },
     "execution_count": 18,
     "metadata": {},
     "output_type": "execute_result"
    }
   ],
   "source": [
    "matrix_rank(F)"
   ]
  },
  {
   "cell_type": "markdown",
   "metadata": {},
   "source": [
    "### Frobenius Norm of a Matrix\n"
   ]
  },
  {
   "cell_type": "markdown",
   "metadata": {},
   "source": [
    "The Frobenius norm, sometimes also called the **Euclidean norm**, is the matrix norm of an $m×n$. Matrix A is defined as the square root of the sum of the absolute squares of its elements:\n",
    "\n",
    "$$|A| *F = \\sqrt{\\sum*{i=1}^m \\sum\\_{j=1}^n |a\\_{ij}|^2}$$\n",
    "\n",
    "Let's use the matrix A again as an example:\n"
   ]
  },
  {
   "cell_type": "code",
   "execution_count": 19,
   "metadata": {},
   "outputs": [
    {
     "data": {
      "text/latex": [
       "$\\displaystyle \\left( \\left[\\begin{matrix}2 & -3\\\\4 & 7\\end{matrix}\\right], \\  8.83176086632785\\right)$"
      ],
      "text/plain": [
       "⎛⎡2  -3⎤                   ⎞\n",
       "⎜⎢     ⎥, 8.831760866327848⎟\n",
       "⎝⎣4  7 ⎦                   ⎠"
      ]
     },
     "execution_count": 19,
     "metadata": {},
     "output_type": "execute_result"
    }
   ],
   "source": [
    "Matrix(A), norm(A)"
   ]
  },
  {
   "cell_type": "markdown",
   "metadata": {},
   "source": [
    "You could also calculate the matrix norm manually, using the formula provided above, and confirm that the results are the same.\n"
   ]
  },
  {
   "cell_type": "code",
   "execution_count": 20,
   "metadata": {},
   "outputs": [
    {
     "data": {
      "image/png": "[encoded data removed]",
      "text/latex": [
       "$\\displaystyle 8.83176086632785$"
      ],
      "text/plain": [
       "8.831760866327848"
      ]
     },
     "execution_count": 20,
     "metadata": {},
     "output_type": "execute_result"
    }
   ],
   "source": [
    "m, n = A.shape[0], A.shape[1]\n",
    "ss = 0\n",
    "\n",
    "for i in range(m):\n",
    "    for j in range(n):\n",
    "        ss += A[i, j] ** 2\n",
    "\n",
    "np.sqrt(ss)"
   ]
  },
  {
   "cell_type": "markdown",
   "metadata": {},
   "source": [
    "### Matrix Addition\n"
   ]
  },
  {
   "cell_type": "markdown",
   "metadata": {},
   "source": [
    "Consider matrix $B$:\n"
   ]
  },
  {
   "cell_type": "code",
   "execution_count": 21,
   "metadata": {},
   "outputs": [
    {
     "data": {
      "text/latex": [
       "$\\displaystyle \\left[\\begin{matrix}1 & 1\\\\1 & -1\\end{matrix}\\right]$"
      ],
      "text/plain": [
       "⎡1  1 ⎤\n",
       "⎢     ⎥\n",
       "⎣1  -1⎦"
      ]
     },
     "execution_count": 21,
     "metadata": {},
     "output_type": "execute_result"
    }
   ],
   "source": [
    "B = np.array([[1, 1], [1, -1]])\n",
    "Matrix(B)"
   ]
  },
  {
   "cell_type": "markdown",
   "metadata": {},
   "source": [
    "In general, if we have matrix $\\mathbf{A}$ and matrix $\\mathbf{B}$\n"
   ]
  },
  {
   "cell_type": "markdown",
   "metadata": {},
   "source": [
    "$\\begin{align}\n",
    "\\mathbf{A}= \\begin{bmatrix}\n",
    "a\\_{11} & a\\_{12} & \\cdots & a\\_{1n} \\\\\\\\\\\\\n",
    "a\\_{21} & a\\_{22} & \\cdots & a\\_{2n} \\\\\\\\\\\\\n",
    "\\vdots & \\vdots & \\ddots & \\vdots \\\\\\\\\\\\\n",
    "a\\_{m1} & a\\_{m2} & \\cdots & a\\_{mn} \\\\\\\\\\\\\n",
    "\\end{bmatrix}\n",
    "\\end{align}$\n",
    "$\\begin{align}\n",
    "\\mathbf{B}=\\begin{bmatrix}\n",
    "b\\_{11} & b\\_{12} & \\cdots & b\\_{1n} \\\\\\\\\\\\\n",
    "b\\_{21} & b\\_{22} & \\cdots & b\\_{2n} \\\\\\\\\\\\\n",
    "\\vdots & \\vdots & \\ddots & \\vdots \\\\\\\\\\\\\n",
    "b\\_{m1} & b\\_{m2} & \\cdots & b\\_{mn} \\\\\\\\\\\\\n",
    "\\end{bmatrix}\n",
    "\\end{align}$\n"
   ]
  },
  {
   "cell_type": "markdown",
   "metadata": {},
   "source": [
    "To be added, the two matrices must have an equal number of rows and columns, where we add the corresponding row and column element:\n"
   ]
  },
  {
   "cell_type": "markdown",
   "metadata": {},
   "source": [
    "$\\begin{align}\n",
    "\\mathbf{A}+\\mathbf{B}=\\begin{bmatrix}\n",
    "a\\_{11} + b\\_{11} & a\\_{12} + b\\_{12} & \\cdots & a\\_{1n} + b\\_{1n} \\\\\\\\\\\\\n",
    "a\\_{21} + b\\_{21} & a\\_{22} + b\\_{22} & \\cdots & a\\_{2n} + b\\_{2n} \\\\\\\\\\\\\n",
    "\\vdots & \\vdots & \\ddots & \\vdots \\\\\\\\\\\\\n",
    "a\\_{m1} + b\\_{m1} & a\\_{m2} + b\\_{m2} & \\cdots & a\\_{mn} + b\\_{mn} \\\\\\\\\\\\\n",
    "\\end{bmatrix}\n",
    "\\end{align}$\n"
   ]
  },
  {
   "cell_type": "code",
   "execution_count": 22,
   "metadata": {},
   "outputs": [
    {
     "data": {
      "text/latex": [
       "$\\displaystyle \\left[\\begin{matrix}3 & -2\\\\5 & 6\\end{matrix}\\right]$"
      ],
      "text/plain": [
       "⎡3  -2⎤\n",
       "⎢     ⎥\n",
       "⎣5  6 ⎦"
      ]
     },
     "execution_count": 22,
     "metadata": {},
     "output_type": "execute_result"
    }
   ],
   "source": [
    "C = A + B\n",
    "Matrix(C)"
   ]
  },
  {
   "cell_type": "code",
   "execution_count": 25,
   "metadata": {},
   "outputs": [
    {
     "data": {
      "text/latex": [
       "$\\displaystyle \\left[\\begin{matrix}1 & 1\\\\1 & -1\\end{matrix}\\right]$"
      ],
      "text/plain": [
       "⎡1  1 ⎤\n",
       "⎢     ⎥\n",
       "⎣1  -1⎦"
      ]
     },
     "execution_count": 25,
     "metadata": {},
     "output_type": "execute_result"
    }
   ],
   "source": [
    "Matrix(B)"
   ]
  },
  {
   "cell_type": "markdown",
   "metadata": {},
   "source": [
    "This matrix is symmetric. This means $B=B^{T}$, we can verify this in Python:\n"
   ]
  },
  {
   "cell_type": "code",
   "execution_count": 24,
   "metadata": {},
   "outputs": [
    {
     "data": {
      "text/latex": [
       "$\\displaystyle \\left[\\begin{matrix}1 & 1\\\\1 & -1\\end{matrix}\\right]$"
      ],
      "text/plain": [
       "⎡1  1 ⎤\n",
       "⎢     ⎥\n",
       "⎣1  -1⎦"
      ]
     },
     "execution_count": 24,
     "metadata": {},
     "output_type": "execute_result"
    }
   ],
   "source": [
    "B_T = B.T\n",
    "Matrix(B_T)"
   ]
  },
  {
   "cell_type": "markdown",
   "metadata": {},
   "source": [
    "Arbitrary semantic matrix $S=C+C^T$, where $C$ is any matrix.\n"
   ]
  },
  {
   "cell_type": "code",
   "execution_count": 26,
   "metadata": {},
   "outputs": [],
   "source": [
    "C = np.random.randn(2, 2)\n",
    "S = C + C.T"
   ]
  },
  {
   "cell_type": "code",
   "execution_count": 32,
   "metadata": {},
   "outputs": [
    {
     "data": {
      "text/plain": [
       "array([[ 0.34790421, -0.6168107 ],\n",
       "       [-0.6168107 ,  0.82544752]])"
      ]
     },
     "execution_count": 32,
     "metadata": {},
     "output_type": "execute_result"
    }
   ],
   "source": [
    "S"
   ]
  },
  {
   "cell_type": "code",
   "execution_count": 27,
   "metadata": {},
   "outputs": [
    {
     "data": {
      "text/latex": [
       "$\\displaystyle \\left[\\begin{matrix}0.347904210580899 & -0.6168106964208\\\\-0.6168106964208 & 0.825447519192059\\end{matrix}\\right]$"
      ],
      "text/plain": [
       "⎡0.347904210580899  -0.6168106964208 ⎤\n",
       "⎢                                    ⎥\n",
       "⎣-0.6168106964208   0.825447519192059⎦"
      ]
     },
     "execution_count": 27,
     "metadata": {},
     "output_type": "execute_result"
    }
   ],
   "source": [
    "Matrix(S)"
   ]
  },
  {
   "cell_type": "code",
   "execution_count": 31,
   "metadata": {},
   "outputs": [
    {
     "data": {
      "text/latex": [
       "$\\displaystyle \\left[\\begin{matrix}0.347904210580899 & -0.6168106964208\\\\-0.6168106964208 & 0.825447519192059\\end{matrix}\\right]$"
      ],
      "text/plain": [
       "⎡0.347904210580899  -0.6168106964208 ⎤\n",
       "⎢                                    ⎥\n",
       "⎣-0.6168106964208   0.825447519192059⎦"
      ]
     },
     "execution_count": 31,
     "metadata": {},
     "output_type": "execute_result"
    }
   ],
   "source": [
    "S_T = S.T\n",
    "Matrix(S_T)"
   ]
  },
  {
   "cell_type": "code",
   "execution_count": 30,
   "metadata": {},
   "outputs": [
    {
     "data": {
      "text/plain": [
       "array([[ 1, -1],\n",
       "       [ 2,  3]])"
      ]
     },
     "execution_count": 30,
     "metadata": {},
     "output_type": "execute_result"
    }
   ],
   "source": [
    "t = np.array([[1, 2], [-1, 3]])\n",
    "t.T"
   ]
  },
  {
   "cell_type": "markdown",
   "metadata": {},
   "source": [
    "<b>Diagonal matrix</b> is a matrix in which the entries outside of the main diagonal are all zero.\n"
   ]
  },
  {
   "cell_type": "code",
   "execution_count": 33,
   "metadata": {},
   "outputs": [
    {
     "data": {
      "text/latex": [
       "$\\displaystyle \\left[\\begin{matrix}1 & 0 & 0\\\\0 & 2 & 0\\\\0 & 0 & 3\\end{matrix}\\right]$"
      ],
      "text/plain": [
       "⎡1  0  0⎤\n",
       "⎢       ⎥\n",
       "⎢0  2  0⎥\n",
       "⎢       ⎥\n",
       "⎣0  0  3⎦"
      ]
     },
     "execution_count": 33,
     "metadata": {},
     "output_type": "execute_result"
    }
   ],
   "source": [
    "Matrix(np.diag(np.array([1, 2, 3])))"
   ]
  },
  {
   "cell_type": "markdown",
   "metadata": {},
   "source": [
    "If the main diagonal is one, it's called a identity matrix in numpy.\n"
   ]
  },
  {
   "cell_type": "code",
   "execution_count": 34,
   "metadata": {},
   "outputs": [
    {
     "data": {
      "text/latex": [
       "$\\displaystyle \\left[\\begin{matrix}1.0 & 0.0 & 0.0\\\\0.0 & 1.0 & 0.0\\\\0.0 & 0.0 & 1.0\\end{matrix}\\right]$"
      ],
      "text/plain": [
       "⎡1.0  0.0  0.0⎤\n",
       "⎢             ⎥\n",
       "⎢0.0  1.0  0.0⎥\n",
       "⎢             ⎥\n",
       "⎣0.0  0.0  1.0⎦"
      ]
     },
     "execution_count": 34,
     "metadata": {},
     "output_type": "execute_result"
    }
   ],
   "source": [
    "Matrix(np.eye(3))"
   ]
  },
  {
   "cell_type": "markdown",
   "metadata": {},
   "source": [
    "## Matrix and Vector Multiplication\n"
   ]
  },
  {
   "cell_type": "markdown",
   "metadata": {},
   "source": [
    "### Dot-Product\n"
   ]
  },
  {
   "cell_type": "markdown",
   "metadata": {},
   "source": [
    "We can define a vector as a one dimensional array of $\\mathbf{a}$ and $\\mathbf{b}$, and we can find the dot product of the two as follows:\n"
   ]
  },
  {
   "cell_type": "markdown",
   "metadata": {},
   "source": [
    "$ a^T  b = \\sum\\_{i=1}^n a_i b_i = a\\_1 b\\_1 + \\cdots + a_n b_n$\n"
   ]
  },
  {
   "cell_type": "markdown",
   "metadata": {},
   "source": [
    "Where  $\\mathbf{a}$ and  $\\mathbf{b}$ have the same length, in numpy:\n"
   ]
  },
  {
   "cell_type": "code",
   "execution_count": 35,
   "metadata": {},
   "outputs": [],
   "source": [
    "a = np.array([1, 1])\n",
    "b = np.array([1, 2])"
   ]
  },
  {
   "cell_type": "code",
   "execution_count": 36,
   "metadata": {},
   "outputs": [
    {
     "data": {
      "image/png": "[encoded data removed]",
      "text/latex": [
       "$\\displaystyle 1$"
      ],
      "text/plain": [
       "1"
      ]
     },
     "execution_count": 36,
     "metadata": {},
     "output_type": "execute_result"
    }
   ],
   "source": [
    "a.ndim"
   ]
  },
  {
   "cell_type": "code",
   "execution_count": 37,
   "metadata": {},
   "outputs": [
    {
     "data": {
      "text/plain": [
       "3"
      ]
     },
     "execution_count": 37,
     "metadata": {},
     "output_type": "execute_result"
    }
   ],
   "source": [
    "a @ b"
   ]
  },
  {
   "cell_type": "markdown",
   "metadata": {},
   "source": [
    "If the array is 2- dimension, the order matters. $a^{T}$ must be a row vector of shape $1xm$ and $b$ a column vector of shape $mx1$.\n"
   ]
  },
  {
   "cell_type": "markdown",
   "metadata": {},
   "source": [
    "$a^{T} = \\begin{bmatrix}\n",
    "a\\_{1},a\\_{2},..,a\\_{n}\n",
    "\\end{bmatrix}$\n",
    "\n",
    "$b = \\begin{bmatrix}\n",
    "b\\_{1} \\\\\\\\\\\\\n",
    "b\\_{2} \\\\\\\\\\\\\n",
    "\\vdots \\\\\\\\\\\\\n",
    "b\\_{n}\n",
    "\\end{bmatrix}$\n"
   ]
  },
  {
   "cell_type": "code",
   "execution_count": 46,
   "metadata": {},
   "outputs": [],
   "source": [
    "m1 = np.array([[1, 2, 3], [2, 4, 6]])\n",
    "m2 = np.array([[2, 2], [3, 4], [4, 8]])"
   ]
  },
  {
   "cell_type": "code",
   "execution_count": 47,
   "metadata": {},
   "outputs": [
    {
     "data": {
      "text/latex": [
       "$\\displaystyle \\left[\\begin{matrix}1 & 2 & 3\\\\2 & 4 & 6\\end{matrix}\\right]$"
      ],
      "text/plain": [
       "⎡1  2  3⎤\n",
       "⎢       ⎥\n",
       "⎣2  4  6⎦"
      ]
     },
     "execution_count": 47,
     "metadata": {},
     "output_type": "execute_result"
    }
   ],
   "source": [
    "Matrix(m1)"
   ]
  },
  {
   "cell_type": "code",
   "execution_count": 48,
   "metadata": {},
   "outputs": [
    {
     "data": {
      "text/latex": [
       "$\\displaystyle \\left[\\begin{matrix}2 & 2\\\\3 & 4\\\\4 & 8\\end{matrix}\\right]$"
      ],
      "text/plain": [
       "⎡2  2⎤\n",
       "⎢    ⎥\n",
       "⎢3  4⎥\n",
       "⎢    ⎥\n",
       "⎣4  8⎦"
      ]
     },
     "execution_count": 48,
     "metadata": {},
     "output_type": "execute_result"
    }
   ],
   "source": [
    "Matrix(m2)"
   ]
  },
  {
   "cell_type": "code",
   "execution_count": 49,
   "metadata": {},
   "outputs": [
    {
     "data": {
      "text/plain": [
       "array([[20, 34],\n",
       "       [40, 68]])"
      ]
     },
     "execution_count": 49,
     "metadata": {},
     "output_type": "execute_result"
    }
   ],
   "source": [
    "np.dot(m1, m2)"
   ]
  },
  {
   "cell_type": "code",
   "execution_count": null,
   "metadata": {},
   "outputs": [],
   "source": [
    "a = np.array([[1], [1]])\n",
    "b = np.array([[1], [2]])"
   ]
  },
  {
   "cell_type": "markdown",
   "metadata": {},
   "source": [
    "### Exercise 1\n",
    "\n",
    "Calculate the dot product of $a$ and $one$.\n"
   ]
  },
  {
   "cell_type": "code",
   "execution_count": 50,
   "metadata": {},
   "outputs": [
    {
     "data": {
      "image/png": "[encoded data removed]",
      "text/latex": [
       "$\\displaystyle 2.0$"
      ],
      "text/plain": [
       "2.0"
      ]
     },
     "execution_count": 50,
     "metadata": {},
     "output_type": "execute_result"
    }
   ],
   "source": [
    "one = np.ones(2)\n",
    "np.dot(a, one)"
   ]
  },
  {
   "cell_type": "code",
   "execution_count": 53,
   "metadata": {},
   "outputs": [
    {
     "data": {
      "image/png": "[encoded data removed]",
      "text/latex": [
       "$\\displaystyle 2.0$"
      ],
      "text/plain": [
       "2.0"
      ]
     },
     "execution_count": 53,
     "metadata": {},
     "output_type": "execute_result"
    }
   ],
   "source": [
    "a.T @ one"
   ]
  },
  {
   "cell_type": "markdown",
   "metadata": {},
   "source": [
    "### The Outer product\n"
   ]
  },
  {
   "cell_type": "markdown",
   "metadata": {},
   "source": [
    "The outer product is another useful matrix operation. Consider the matrix or vector $ \\mathbf{u}$ of size $nx1$ and matrix or vector $\\mathbf{v}$ $1xm$. Then their outer product is:\n"
   ]
  },
  {
   "cell_type": "markdown",
   "metadata": {},
   "source": [
    "$\n",
    "\\mathbf{u} \\otimes \\mathbf{v} = \\mathbf{u}\\mathbf{v}^\\textsf{T} =\n",
    "\\begin{bmatrix}u\\_1 \\\\\\\\\\ u\\_2 \\ \\vdots\\ u_n\\end{bmatrix}\n",
    "\\begin{bmatrix}v\\_1 & .. & v_m\\end{bmatrix} =\n",
    "\\begin{bmatrix}\n",
    "u\\_1 v\\_1 & .. & u\\_1 v_m\\\\\\\\\\\\\n",
    "u\\_2 v\\_1 & u\\_2 v\\_2 & u\\_2 v\\_3 \\\\\\\\\\\\\n",
    "\\vdots   & \\ddots & \\vdots \\\\\\\\\\\\\n",
    "u_n v\\_1 &  .. & u_n v_m\n",
    "\\end{bmatrix}.\n",
    "$\n"
   ]
  },
  {
   "cell_type": "markdown",
   "metadata": {},
   "source": [
    "We can perform the outer product in numpy as follows\n"
   ]
  },
  {
   "cell_type": "code",
   "execution_count": 54,
   "metadata": {},
   "outputs": [],
   "source": [
    "u = np.array([[1], [2], [3], [4]])\n",
    "v = np.array([[0], [1], [2], [3], [6]])"
   ]
  },
  {
   "cell_type": "code",
   "execution_count": 55,
   "metadata": {},
   "outputs": [
    {
     "data": {
      "text/latex": [
       "$\\displaystyle \\left[\\begin{matrix}0 & 1 & 2 & 3 & 6\\\\0 & 2 & 4 & 6 & 12\\\\0 & 3 & 6 & 9 & 18\\\\0 & 4 & 8 & 12 & 24\\end{matrix}\\right]$"
      ],
      "text/plain": [
       "⎡0  1  2  3   6 ⎤\n",
       "⎢               ⎥\n",
       "⎢0  2  4  6   12⎥\n",
       "⎢               ⎥\n",
       "⎢0  3  6  9   18⎥\n",
       "⎢               ⎥\n",
       "⎣0  4  8  12  24⎦"
      ]
     },
     "execution_count": 55,
     "metadata": {},
     "output_type": "execute_result"
    }
   ],
   "source": [
    "Matrix(u@v.T)"
   ]
  },
  {
   "cell_type": "markdown",
   "metadata": {},
   "source": [
    "### Exercise 2\n",
    "\n",
    "Create a matrix with 4 columns where each even column is  the vector  `u`  or else it is  zero, show the rank is one:\n"
   ]
  },
  {
   "cell_type": "code",
   "execution_count": 58,
   "metadata": {},
   "outputs": [
    {
     "data": {
      "text/latex": [
       "$\\displaystyle \\left[\\begin{matrix}1\\\\2\\end{matrix}\\right]$"
      ],
      "text/plain": [
       "⎡1⎤\n",
       "⎢ ⎥\n",
       "⎣2⎦"
      ]
     },
     "execution_count": 58,
     "metadata": {},
     "output_type": "execute_result"
    }
   ],
   "source": [
    "u = np.array([[1], [2]])\n",
    "Matrix(u)"
   ]
  },
  {
   "cell_type": "code",
   "execution_count": 59,
   "metadata": {},
   "outputs": [
    {
     "data": {
      "text/latex": [
       "$\\displaystyle \\left[\\begin{matrix}0 & 1 & 0 & 1\\\\0 & 2 & 0 & 2\\end{matrix}\\right]$"
      ],
      "text/plain": [
       "⎡0  1  0  1⎤\n",
       "⎢          ⎥\n",
       "⎣0  2  0  2⎦"
      ]
     },
     "execution_count": 59,
     "metadata": {},
     "output_type": "execute_result"
    }
   ],
   "source": [
    "Matrix(u@np.array([[0, 1, 0, 1]]))"
   ]
  },
  {
   "cell_type": "markdown",
   "metadata": {},
   "source": [
    "### Matrix and Vector Multiplication\n"
   ]
  },
  {
   "cell_type": "markdown",
   "metadata": {},
   "source": [
    "We can also multiply a matrix by a vector and get a new vector. Consider the vector $\\mathbf{x}$:\n"
   ]
  },
  {
   "cell_type": "markdown",
   "metadata": {},
   "source": [
    "$\n",
    "\\mathbf{x}=\n",
    "\\begin{bmatrix}\n",
    "x\\_1 \\\\\\\\\\\\\n",
    "x\\_2 \\\\\\\\\\\\\n",
    "\\vdots \\\\\\\\\\\\\n",
    "x_n\n",
    "\\end{bmatrix}\n",
    "$\n"
   ]
  },
  {
   "cell_type": "markdown",
   "metadata": {},
   "source": [
    "The following  $\\mathbf{Ax}=\\mathbf b$  matrix multiplication  is defined as the dot product  $\\mathbf{x}$ with each row of $\\mathbf{A}$ :\n"
   ]
  },
  {
   "cell_type": "markdown",
   "metadata": {},
   "source": [
    "$\n",
    "\\begin{matrix}a\\_{11}x\\_1+\\cdots + a\\_{1n}x_n=b\\_1\n",
    "\\\\\\\\\\ a\\_{21}x\\_1+\\cdots + a\\_{2n}x_n =b\\_2\n",
    "\\\\\\\\\\ \\vdots\n",
    "\\\\\\\\\\ a\\_{m1}x\\_1+\\cdots + a\\_{mn}x_n =b_m\\end{matrix}\n",
    "$\n"
   ]
  },
  {
   "cell_type": "markdown",
   "metadata": {},
   "source": [
    "Where ,\n"
   ]
  },
  {
   "cell_type": "markdown",
   "metadata": {},
   "source": [
    "$\n",
    "\\mathbf{b}=\n",
    "\\begin{bmatrix}\n",
    "b\\_1 \\\\\\\\\\\\\n",
    "b\\_2 \\\\\\\\\\\\\n",
    "\\vdots \\\\\\\\\\\\\n",
    "b_m\n",
    "\\end{bmatrix}\n",
    "$\n"
   ]
  },
  {
   "cell_type": "markdown",
   "metadata": {},
   "source": [
    "In numpy:\n"
   ]
  },
  {
   "cell_type": "code",
   "execution_count": 60,
   "metadata": {},
   "outputs": [],
   "source": [
    "x = np.array([1, 1])"
   ]
  },
  {
   "cell_type": "code",
   "execution_count": 61,
   "metadata": {},
   "outputs": [],
   "source": [
    "A = np.array([[-1, 1], [1, 2]])"
   ]
  },
  {
   "cell_type": "code",
   "execution_count": 62,
   "metadata": {},
   "outputs": [],
   "source": [
    "b = A@x"
   ]
  },
  {
   "cell_type": "code",
   "execution_count": 63,
   "metadata": {},
   "outputs": [
    {
     "data": {
      "text/latex": [
       "$\\displaystyle \\left[\\begin{matrix}0\\\\3\\end{matrix}\\right]$"
      ],
      "text/plain": [
       "⎡0⎤\n",
       "⎢ ⎥\n",
       "⎣3⎦"
      ]
     },
     "execution_count": 63,
     "metadata": {},
     "output_type": "execute_result"
    }
   ],
   "source": [
    "Matrix(b)"
   ]
  },
  {
   "cell_type": "markdown",
   "metadata": {},
   "source": [
    "We can see that $b$ is a combination of the rows of $A$:\n",
    "\n",
    "$\\mathbf{b}=x\\_{1}\\mathbf{a}*{1}+\\mathbf{x}*{2}a\\_{2}$ or $\\mathbf{b}$ is a rotation of  $\\mathbf{x}$\n"
   ]
  },
  {
   "cell_type": "code",
   "execution_count": 64,
   "metadata": {},
   "outputs": [
    {
     "data": {
      "image/png": "[encoded data removed]",
      "text/plain": [
       "<Figure size 1200x700 with 1 Axes>"
      ]
     },
     "metadata": {},
     "output_type": "display_data"
    }
   ],
   "source": [
    "fig, ax = plt.subplots(figsize = (12, 7))\n",
    "ax.quiver([0, 0], [0, 0], A[0, 0], A[1, 0], scale=10, label=\"$a_{1}$\")\n",
    "ax.quiver([0, 0], [0, 0], A[0, 1], A[1, 1], scale=10, label=\"$a_{2}$\")\n",
    "ax.quiver([0, 0], [0, 0], b[0], b[1], scale=10, label=\"b\", color='r')\n",
    "ax.quiver([0, 0], [0, 0], x[0], x[1], scale=10, label=\"x\", color='b')\n",
    "ax.set_xlim([-10, 10])\n",
    "ax.set_ylim([-5, 10])\n",
    "fig.legend()\n",
    "plt.show()"
   ]
  },
  {
   "cell_type": "markdown",
   "metadata": {},
   "source": [
    "### Multiplying Matrices\n"
   ]
  },
  {
   "cell_type": "markdown",
   "metadata": {},
   "source": [
    "If a matrix $\\mathbf{C}$ is the product of matrix $\\mathbf{A}$ and matrix $\\mathbf{B}$, then the $i-th$ row $j-th$ column is obtained by multiplying term-by-term the entries of the $i-th$ row of $\\mathbf{A}$ and the $j-th$ column of $\\mathbf{B}$, and summing these $n$ products. In other words, you can also think of the  $i-th$ row $j-th$ column as the dot product of the $i-th$ row of $\\mathbf{A}$  and the $j-th$ column of $\\mathbf{B}$:\n"
   ]
  },
  {
   "cell_type": "markdown",
   "metadata": {},
   "source": [
    "$\\mathbf{C}=\\mathbf{AB}$\n",
    "\n",
    "$=\\begin{pmatrix}\n",
    "a\\_{11}b\\_{11} +\\cdots + a\\_{1n}b\\_{n1} & a\\_{11}b\\_{12} +\\cdots + a\\_{1n}b\\_{n2} & \\cdots & a\\_{11}b\\_{1p} +\\cdots + a\\_{1n}b\\_{np} \\\\\\\\\\\\\n",
    "a\\_{21}b\\_{11} +\\cdots + a\\_{2n}b\\_{n1} & a\\_{21}b\\_{12} +\\cdots + a\\_{2n}b\\_{n2} & \\cdots & a\\_{21}b\\_{1p} +\\cdots + a\\_{2n}b\\_{np} \\\\\\\\\\\\\n",
    "\\vdots & \\vdots & \\ddots & \\vdots \\\\\\\\\\\\\n",
    "a\\_{m1}b\\_{11} +\\cdots + a\\_{mn}b\\_{n1} & a\\_{m1}b\\_{12} +\\cdots + a\\_{mn}b\\_{n2} & \\cdots & a\\_{m1}b\\_{1p} +\\cdots + a\\_{mn}b\\_{np} \\\\\\\\\\\\\n",
    "\\end{pmatrix} $\n"
   ]
  },
  {
   "cell_type": "code",
   "execution_count": 66,
   "metadata": {},
   "outputs": [
    {
     "data": {
      "text/latex": [
       "$\\displaystyle \\left[\\begin{matrix}0 & -2\\\\3 & -1\\end{matrix}\\right]$"
      ],
      "text/plain": [
       "⎡0  -2⎤\n",
       "⎢     ⎥\n",
       "⎣3  -1⎦"
      ]
     },
     "execution_count": 66,
     "metadata": {},
     "output_type": "execute_result"
    }
   ],
   "source": [
    "C = A@B\n",
    "Matrix(C)"
   ]
  },
  {
   "cell_type": "markdown",
   "metadata": {},
   "source": [
    "You can repeat the process for more matrices, if the matrix is full rank, we can invert it: $\\mathbf{A}^{-1}$\n"
   ]
  },
  {
   "cell_type": "code",
   "execution_count": 67,
   "metadata": {},
   "outputs": [
    {
     "data": {
      "text/latex": [
       "$\\displaystyle \\left[\\begin{matrix}-0.666666666666667 & 0.333333333333333\\\\0.333333333333333 & 0.333333333333333\\end{matrix}\\right]$"
      ],
      "text/plain": [
       "⎡-0.666666666666667  0.333333333333333⎤\n",
       "⎢                                     ⎥\n",
       "⎣0.333333333333333   0.333333333333333⎦"
      ]
     },
     "execution_count": 67,
     "metadata": {},
     "output_type": "execute_result"
    }
   ],
   "source": [
    "A_inv = inv(A)\n",
    "Matrix(A_inv)"
   ]
  },
  {
   "cell_type": "markdown",
   "metadata": {},
   "source": [
    "This can be a complex computation. If we multiply a matrix with its inverse, we get the Identity matrix $\\mathbf{AA}^{-1}=I$.\n"
   ]
  },
  {
   "cell_type": "code",
   "execution_count": 68,
   "metadata": {},
   "outputs": [
    {
     "data": {
      "text/latex": [
       "$\\displaystyle \\left[\\begin{matrix}1.0 & -1.11022302462516 \\cdot 10^{-16}\\\\0.0 & 1.0\\end{matrix}\\right]$"
      ],
      "text/plain": [
       "⎡1.0  -1.11022302462516e-16⎤\n",
       "⎢                          ⎥\n",
       "⎣0.0           1.0         ⎦"
      ]
     },
     "execution_count": 68,
     "metadata": {},
     "output_type": "execute_result"
    }
   ],
   "source": [
    "I = A_inv@A\n",
    "Matrix(I)"
   ]
  },
  {
   "cell_type": "markdown",
   "metadata": {},
   "source": [
    "If we multiply any square matrix with an Identity matrix, we get the original Matrix, for example $IA=A$ in numpy:\n"
   ]
  },
  {
   "cell_type": "code",
   "execution_count": 69,
   "metadata": {},
   "outputs": [
    {
     "data": {
      "text/plain": [
       "array([[-1.,  1.],\n",
       "       [ 1.,  2.]])"
      ]
     },
     "execution_count": 69,
     "metadata": {},
     "output_type": "execute_result"
    }
   ],
   "source": [
    "A @ I"
   ]
  },
  {
   "cell_type": "markdown",
   "metadata": {},
   "source": [
    "### Exercise 3\n",
    "\n",
    "Use the inverse of  matrix $\\mathbf{A}$ to solve for $\\mathbf{x}$ given $\\mathbf{b}$ and assign it to `x_` compare the result to `x`\n"
   ]
  },
  {
   "cell_type": "code",
   "execution_count": null,
   "metadata": {},
   "outputs": [],
   "source": []
  }
 ],
 "metadata": {
  "kernelspec": {
   "display_name": ".venv",
   "language": "python",
   "name": "python3"
  },
  "language_info": {
   "codemirror_mode": {
    "name": "ipython",
    "version": 3
   },
   "file_extension": ".py",
   "mimetype": "text/x-python",
   "name": "python",
   "nbconvert_exporter": "python",
   "pygments_lexer": "ipython3",
   "version": "3.10.12"
  }
 },
 "nbformat": 4,
 "nbformat_minor": 2
}
