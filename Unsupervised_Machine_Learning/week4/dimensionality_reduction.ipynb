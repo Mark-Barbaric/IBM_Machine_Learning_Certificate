{
 "cells": [
  {
   "cell_type": "markdown",
   "metadata": {},
   "source": [
    "<p style=\"text-align:center\">\n",
    "    <a href=\"https://skills.network/?utm_medium=Exinfluencer&utm_source=Exinfluencer&utm_content=000026UJ&utm_term=10006555&utm_id=NA-SkillsNetwork-Channel-SkillsNetworkCoursesIBMML0187ENSkillsNetwork31430127-2022-01-01\" target=\"_blank\">\n",
    "    <img src=\"https://cf-courses-data.s3.us.cloud-object-storage.appdomain.cloud/assets/logos/SN_web_lightmode.png\" width=\"200\" alt=\"Skills Network Logo\"  />\n",
    "    </a>\n",
    "</p>\n"
   ]
  },
  {
   "cell_type": "markdown",
   "metadata": {},
   "source": [
    "# **Principle Component Analysis**\n"
   ]
  },
  {
   "cell_type": "markdown",
   "metadata": {},
   "source": [
    "![img](https://cf-courses-data.s3.us.cloud-object-storage.appdomain.cloud/IBM-ML0187EN-SkillsNetwork/labs/module%203/images/PCA.jpeg)\n",
    "\n",
    "Estimated time needed: **45** minutes\n"
   ]
  },
  {
   "cell_type": "markdown",
   "metadata": {},
   "source": [
    "## Use cases of PCA\n",
    "\n",
    "*   Facial Recognition\n",
    "*   Image Compression\n",
    "*   Finding patterns in data of high dimension in the field of quantitative finance.\n",
    "\n",
    "For instance, suppose you are a fund manager who has 200 stocks in a portfolio. To analyze the potential movements and relationships of the stocks, you would need to  at least work with a 200$\\times$200 correlation or covariance matrix, which is very complex.\n",
    "\n",
    "However, instead of looking at 200 stock variances, would it be more efficient to just look at 10 most dominant/principal directions of variances that best represent the original variances of the stocks?\n",
    "\n",
    "PCA is a methodology to reduce the dimensionality of a complex problem.\n",
    "\n",
    "<img src='https://cf-courses-data.s3.us.cloud-object-storage.appdomain.cloud/IBM-ML0187EN-SkillsNetwork/labs/module%203/images/fundmanager.jpg' style=\"width: 70%\">\n"
   ]
  },
  {
   "cell_type": "markdown",
   "metadata": {},
   "source": [
    "In this notebook, you will explore how to simplify and reduce the dimensionality of various data using **principle component analysis** (PCA)\n"
   ]
  },
  {
   "cell_type": "markdown",
   "metadata": {},
   "source": [
    "## **Table of Contents**\n",
    "\n",
    "<!-- <a href=\"#Principle-Component-Analysis\">Principle Component Analysis</a> -->\n",
    "\n",
    "<ol>\n",
    "    <li><a href=\"https://#Objectives\">Objectives</a></li>\n",
    "    <li><a href=\"https://#Datasets\">Datasets</a></li>\n",
    "    <li>\n",
    "        <a href=\"https://#Setup\">Setup</a>\n",
    "        <ol>\n",
    "            <li><a href=\"https://#Installing-Required-Libraries\">Installing Required Libraries</a></li>\n",
    "            <li><a href=\"https://#Importing-Required-Libraries\">Importing Required Libraries</a></li>\n",
    "            <li><a href=\"https://#Defining-Helper-Functions\">Defining Helper Functions</a></li>\n",
    "        </ol>\n",
    "    </li>\n",
    "    <li>\n",
    "        <a href=\"https://#Background\">Background</a>\n",
    "        <ol>\n",
    "            <li><a href=\"https://##What-does-PCA-do?\">What does PCA do?</a></li>\n",
    "            <li><a href=\"https://#How-does-PCA-work?-(optional)\">How does PCA work? (optional)</a></li>\n",
    "        </ol>\n",
    "    </li>\n",
    "    <li>\n",
    "        <a href=\"https://##Visual-Example\">Visual Example</a>\n",
    "        <ol>\n",
    "            <li><a href=\"https://#Scaling-data\">Scaling Data</a></li>\n",
    "            <li><a href=\"https://#Applying-PCA\">Applying PCA</a></li>\n",
    "            <li><a href=\"https://#Putting-it-all-Together\">Putting it all Together</a></li>\n",
    "        </ol>\n",
    "    </li>\n",
    "    <li>\n",
    "        <a href=\"https://#Using-PCA-to-Improve-Facial-Recognition\">Using PCA to Improve Facial Recognition</a>\n",
    "    </li>\n",
    "</ol>\n",
    "\n",
    "<a href=\"https://#Exercises\">Exercises</a>\n",
    "\n",
    "<ol>\n",
    "    <li><a href=\"https://#Exercise-1---Scaling-the-Data\">Exercise 1 - Scaling the Data</a></li>\n",
    "    <li><a href=\"https://#Exercise-2---Fitting-PCA-Object\">Exercise 2 - Fitting PCA Object</a></li>\n",
    "    <li><a href=\"https://#Exercise-3---Finding-Desired-Number-of-Components\">Exercise 3 - Finding Desired Number of Components</a></li>\n",
    "    <li><a href=\"https://#Exercise-4---Dimensionality-Reduction\">Exercise 4 - Dimentionality Reduction</a></li>\n",
    "</ol>\n"
   ]
  },
  {
   "cell_type": "markdown",
   "metadata": {},
   "source": [
    "***\n"
   ]
  },
  {
   "cell_type": "markdown",
   "metadata": {},
   "source": [
    "## Objectives\n"
   ]
  },
  {
   "cell_type": "markdown",
   "metadata": {},
   "source": [
    "After completing this lab you will be able to:\n"
   ]
  },
  {
   "cell_type": "markdown",
   "metadata": {},
   "source": [
    "*   **Understand** what PCA is and how (generally) it works.\n",
    "*   **Understand** when PCA is useful.\n",
    "*   **Apply** PCA effectively.\n"
   ]
  },
  {
   "cell_type": "markdown",
   "metadata": {},
   "source": [
    "## Datasets\n",
    "\n",
    "Datasets for this lab are gathered from the [UCI Machine Learning Repository](https://archive.ics.uci.edu/?utm_medium=Exinfluencer&utm_source=Exinfluencer&utm_content=000026UJ&utm_term=10006555&utm_id=NA-SkillsNetwork-Channel-SkillsNetworkCoursesIBMML0187ENSkillsNetwork31430127-2022-01-01) under the MIT License.\n"
   ]
  },
  {
   "cell_type": "markdown",
   "metadata": {},
   "source": [
    "### Installing Required Libraries\n",
    "\n",
    "The following required modules are pre-installed in the Skills Network Labs environment. However if you run this notebook commands in a different Jupyter environment (e.g. Watson Studio or locally) you will need to install these libraries by removing the `#` sign before `!mamba` in the code cell below.\n"
   ]
  },
  {
   "cell_type": "code",
   "execution_count": null,
   "metadata": {},
   "outputs": [],
   "source": [
    "import numpy as np\n",
    "import pandas as pd\n",
    "import matplotlib.pyplot as plt\n",
    "import seaborn as sns"
   ]
  },
  {
   "cell_type": "code",
   "execution_count": null,
   "metadata": {},
   "outputs": [],
   "source": [
    "from tqdm import tqdm\n",
    "from itertools import accumulate\n",
    "from sklearn.preprocessing import StandardScaler\n",
    "from sklearn.decomposition import PCA\n",
    "from sklearn.model_selection import train_test_split, RandomizedSearchCV\n",
    "from sklearn.datasets import fetch_lfw_people\n",
    "from sklearn.metrics import classification_report, confusion_matrix\n",
    "from sklearn.svm import SVC\n",
    "from scipy.stats import loguniform"
   ]
  },
  {
   "cell_type": "code",
   "execution_count": null,
   "metadata": {},
   "outputs": [],
   "source": [
    "import warnings\n",
    "\n",
    "warnings.filterwarnings('ignore')"
   ]
  },
  {
   "cell_type": "code",
   "execution_count": null,
   "metadata": {},
   "outputs": [],
   "source": [
    "sns.set_context('notebook')\n",
    "sns.set_style('white')"
   ]
  },
  {
   "cell_type": "markdown",
   "metadata": {},
   "source": [
    "### Helper Functions\n",
    "\n",
    "Below, we define helper functions to simplify your code later on:\n"
   ]
  },
  {
   "cell_type": "code",
   "execution_count": null,
   "metadata": {},
   "outputs": [],
   "source": [
    "def plot_explained_variance(pca):\n",
    "    # This function graphs the accumulated explained variance ratio for a fitted PCA object.\n",
    "    acc = [*accumulate(pca.explained_variance_ratio_)]\n",
    "    fig, ax = plt.subplots(1, figsize=(50, 20))\n",
    "    ax.stackplot(range(pca.n_components_), acc)\n",
    "    ax.scatter(range(pca.n_components_), acc, color='black')\n",
    "    ax.set_ylim(0, 1)\n",
    "    ax.set_xlim(0, pca.n_components_ - 1)\n",
    "    ax.tick_params(axis='both', labelsize=36)\n",
    "    ax.set_xlabel('N Components', fontsize=48)\n",
    "    ax.set_ylabel('Accumulated explained variance', fontsize=48)\n",
    "    plt.tight_layout()\n",
    "    plt.show()"
   ]
  },
  {
   "cell_type": "markdown",
   "metadata": {},
   "source": [
    "## Background\n",
    "\n",
    "Before we begin using **PCA**, we should first understand:\n",
    "\n",
    "1.  What PCA does\n",
    "2.  How PCA Works\n"
   ]
  },
  {
   "cell_type": "markdown",
   "metadata": {},
   "source": [
    "### What does PCA do?\n",
    "\n",
    "*   Reduces the dimensionality of data. By reducing data dimensionality, PCA can also help with visualization.\n",
    "*   May reduce noise in the process\n",
    "\n",
    "\\-Can be used to pre-process data improving the result of your algorithm\n"
   ]
  },
  {
   "cell_type": "markdown",
   "metadata": {},
   "source": [
    "### How does PCA work? (optional)\n",
    "\n",
    "1.  Looks at an $n$ -dimensional dataset and breaks it down into \"general trends\" or **components**\n",
    "\n",
    "```\n",
    "- When we say \"$n$-dimensional\", we mean the data has $n$ features.\n",
    "```\n",
    "\n",
    "2.  The components are then **sorted by how much of the explained variance they account for** (*eigenvalues* provide this information)\n",
    "\n",
    "```\n",
    "- This means if a component is highly-uncorrelated with all others, it's a \"strong\" component and provides useful information that is very hard to infer from all other components.\n",
    "```\n",
    "\n",
    "3.  Then, given some parameter (usually chosen by the data engineer), the new dimension of the data is decided. Let this be $k$.\n",
    "\n",
    "```\n",
    "- Note $k$ is always $k \\leq n$ because we're only trying to reduce the dimension of our data.\n",
    "```\n",
    "\n",
    "4.  Finally, the original $n$ dimensional dataset is projected onto the $k$-dimensional plane chosen by our **top-$k$ components that take care of the most explained variance**.\n",
    "\n",
    "```\n",
    "- These top- $k$ components are now used \n",
    "```\n",
    "\n",
    "Because principle components span an (at most) $k$-dimensional surface, we have successfully reduced our data to at least $k \\leq n$ dimensions!\n"
   ]
  },
  {
   "cell_type": "markdown",
   "metadata": {},
   "source": [
    "## Visual Example\n",
    "\n",
    "Let's look at an example that will visually demonstrate PCA in action.\n",
    "\n",
    "Load the dataset `HeightsWeights.csv` which contains a list of various people's heights (in inches) and weight (in pounds and kg):\n"
   ]
  },
  {
   "cell_type": "code",
   "execution_count": 1,
   "metadata": {},
   "outputs": [
    {
     "ename": "NameError",
     "evalue": "name 'pd' is not defined",
     "output_type": "error",
     "traceback": [
      "\u001b[0;31m---------------------------------------------------------------------------\u001b[0m",
      "\u001b[0;31mNameError\u001b[0m                                 Traceback (most recent call last)",
      "Cell \u001b[0;32mIn[1], line 1\u001b[0m\n\u001b[0;32m----> 1\u001b[0m hwdf \u001b[38;5;241m=\u001b[39m \u001b[43mpd\u001b[49m\u001b[38;5;241m.\u001b[39mread_csv(\u001b[38;5;124m'\u001b[39m\u001b[38;5;124mhttps://cf-courses-data.s3.us.cloud-object-storage.appdomain.cloud/IBM-ML0187EN-SkillsNetwork/labs/module\u001b[39m\u001b[38;5;124m%\u001b[39m\u001b[38;5;124m203/data/HeightsWeights.csv\u001b[39m\u001b[38;5;124m'\u001b[39m, index_col\u001b[38;5;241m=\u001b[39m\u001b[38;5;241m0\u001b[39m)\n\u001b[1;32m      2\u001b[0m hwdf\u001b[38;5;241m.\u001b[39mhead()\n",
      "\u001b[0;31mNameError\u001b[0m: name 'pd' is not defined"
     ]
    }
   ],
   "source": [
    "hwdf = pd.read_csv('https://cf-courses-data.s3.us.cloud-object-storage.appdomain.cloud/IBM-ML0187EN-SkillsNetwork/labs/module%203/data/HeightsWeights.csv', index_col=0)\n",
    "hwdf.head()"
   ]
  },
  {
   "cell_type": "code",
   "execution_count": null,
   "metadata": {},
   "outputs": [],
   "source": []
  }
 ],
 "metadata": {
  "kernelspec": {
   "display_name": ".venv",
   "language": "python",
   "name": "python3"
  },
  "language_info": {
   "codemirror_mode": {
    "name": "ipython",
    "version": 3
   },
   "file_extension": ".py",
   "mimetype": "text/x-python",
   "name": "python",
   "nbconvert_exporter": "python",
   "pygments_lexer": "ipython3",
   "version": "3.10.12"
  }
 },
 "nbformat": 4,
 "nbformat_minor": 2
}
