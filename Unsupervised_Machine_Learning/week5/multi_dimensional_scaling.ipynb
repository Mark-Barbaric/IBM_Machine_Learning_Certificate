{
 "cells": [
  {
   "cell_type": "markdown",
   "metadata": {},
   "source": [
    "<p style=\"text-align:center\">\n",
    "    <a href=\"https://skills.network/?utm_medium=Exinfluencer&utm_source=Exinfluencer&utm_content=000026UJ&utm_term=10006555&utm_id=NA-SkillsNetwork-Channel-SkillsNetworkCoursesIBMML0187ENSkillsNetwork31430127-2022-01-01\" target=\"_blank\">\n",
    "    <img src=\"https://cf-courses-data.s3.us.cloud-object-storage.appdomain.cloud/assets/logos/SN_web_lightmode.png\" width=\"200\" alt=\"Skills Network Logo\"  />\n",
    "    </a>\n",
    "</p>\n"
   ]
  },
  {
   "cell_type": "markdown",
   "metadata": {},
   "source": [
    "# **Multi-Dimensional Scaling**\n"
   ]
  },
  {
   "cell_type": "markdown",
   "metadata": {},
   "source": [
    "Estimated time needed: **45** minutes\n"
   ]
  },
  {
   "cell_type": "markdown",
   "metadata": {},
   "source": [
    "## Use cases of Multi-Dimensional Scaling\n",
    "\n",
    "*   Recognizing families of parts in order to design cellular manufacturing systems.\n",
    "*   Creating groups of products when designing assembly areas.\n",
    "*   Market research, multi-dimensional scaling is often used to plot data such as the perception of products in an easy to interpret, visual way.\n",
    "\n",
    "For instance, suppose a realtor has many listings to sell. Each listing has several attributes such as number of bedrooms, number of bathrooms, square feet, etc. You as a Data Scientist, are hired by the realtor to find out the similarities and dissimilarities of the listings, so that the brokers can use this information when providing recommendations for the buyers.\n",
    "\n",
    "However, since the number of attributes each listing has is bigger than what could be visualized, to have a clearer sense of how different each listing is you would need to reproduce the listing data on a lower dimension.\n",
    "\n",
    "<img src=\"https://cf-courses-data.s3.us.cloud-object-storage.appdomain.cloud/IBM-ML0187EN-SkillsNetwork/labs/module%203/images/realtor.jpeg\" width=60%>\n"
   ]
  },
  {
   "cell_type": "markdown",
   "metadata": {},
   "source": [
    "Multi-Dimensional Scaling (MDS) is a family of algorithms, one version of which is Principal Component Analysis (PCA). Like PCA, MDS can be used for dimensionality reduction; MDS can also be used to map complex differences into visual space. Additional articles on MDS:   <a href=\"https://link.springer.com/chapter/10.1007/978-3-642-82580-4_139?utm_medium=Exinfluencer&utm_source=Exinfluencer&utm_content=000026UJ&utm_term=10006555&utm_id=NA-SkillsNetwork-Channel-SkillsNetworkCoursesIBMML0187ENSkillsNetwork31430127-2022-01-01\"> \\[1]</a>, <a href=\"https://www.djsresearch.co.uk/glossary/item/Multi-Dimensional-Scaling?utm_medium=Exinfluencer&utm_source=Exinfluencer&utm_content=000026UJ&utm_term=10006555&utm_id=NA-SkillsNetwork-Channel-SkillsNetworkCoursesIBMML0187ENSkillsNetwork31430127-2022-01-01\"> \\[2]</a>\n",
    "\n",
    "There are several different categories of Multidimensional scaling (MDS). In this lab, we will review  Metric MDS as well as Non-Metric MDS scaling using **scikit-learn** library. For more information on MDS, please see <a href=\"https://arxiv.org/pdf/2009.08136.pdf?utm_medium=Exinfluencer&utm_source=Exinfluencer&utm_content=000026UJ&utm_term=10006555&utm_id=NA-SkillsNetwork-Channel-SkillsNetworkCoursesIBMML0187ENSkillsNetwork31430127-2022-01-01\"> \\[3]</a>.\n"
   ]
  },
  {
   "cell_type": "markdown",
   "metadata": {},
   "source": [
    "Steps in MDS analysis:\n",
    "\n",
    "*   Pre-process and generate training and testing datasets\n",
    "*   Train and fine-tune logistic regression models\n",
    "*   Interpret trained logistic regression models\n",
    "*   Evaluate trained logistic regression models\n"
   ]
  },
  {
   "cell_type": "markdown",
   "metadata": {},
   "source": [
    "## **Table of Contents**\n",
    "\n",
    "<ol>\n",
    "    <li><a href=\"https://#Objectives\">Objectives</a></li>\n",
    "    <li><a href=\"https://#Datasets\">Datasets</a></li>\n",
    "    <li>\n",
    "        <a href=\"https://#Setup\">Setup</a>\n",
    "        <ol>\n",
    "            <li><a href=\"https://#Installing-Required-Libraries\">Installing Required Libraries</a></li>\n",
    "            <li><a href=\"https://#Importing-Required-Libraries\">Importing Required Libraries</a></li>\n",
    "            <li><a href=\"https://#Defining-Helper-Functions\">Defining-Helper-Functions</a></li>\n",
    "        </ol>\n",
    "    </li>\n",
    "    <li>\n",
    "        <a href=\"https://#Metric-MDS\">Metric MDS</a>\n",
    "        <ol>\n",
    "            <li><a href=\"https://#From-Relative-Location-to-Absolute-Location\">From Relative Location to Absolute Location</a></li>\n",
    "            <li><a href=\"https://#Example-1\">Example 1</a></li>\n",
    "        </ol>\n",
    "    </li>\n",
    "    <li><a href=\"https://#Non-Metric-MDS\">Non-Metric MDS</a></li>\n",
    "    <li>\n",
    "        <a href=\"https://#Dimensionality-reduction-with-MDS\">Dimensionality reduction with MDS</a>\n",
    "        <ol>\n",
    "            <li><a href=\"https://#Exercise-1\">Exercise 1 </a></li>\n",
    "        </ol>    \n",
    "    </li>   \n",
    "    <li><a href=\"https://#T-Distributed-Stochastic-Neighbor-Embedding-(optional)\">T-Distributed Stochastic Neighbor Embedding (optional)</a></li>\n",
    "</ol>\n"
   ]
  },
  {
   "cell_type": "markdown",
   "metadata": {},
   "source": [
    "## Objectives\n"
   ]
  },
  {
   "cell_type": "markdown",
   "metadata": {},
   "source": [
    "After completing this lab you will be able to:\n"
   ]
  },
  {
   "cell_type": "markdown",
   "metadata": {},
   "source": [
    "*   **Understand** different types of Multi-Dimensional Scaling\n",
    "*   **Understand** concepts of Metric MDS and Non-Metric MDS, including: embedding space, minimization and Stress\n",
    "*   **Apply**  Metric-MDS and Non-Metric MDS\n",
    "*   **Apply** different distance metrics to  Metric MDS and Non-Metric MDS\n",
    "*   **Apply**  MDS to dimensionality reduction\n"
   ]
  },
  {
   "cell_type": "markdown",
   "metadata": {},
   "source": [
    "## Datasets\n",
    "\n",
    "Datasets for this lab are gathered from the [UCI Machine Learning Repository](https://archive.ics.uci.edu/?utm_medium=Exinfluencer&utm_source=Exinfluencer&utm_content=000026UJ&utm_term=10006555&utm_id=NA-SkillsNetwork-Channel-SkillsNetworkCoursesIBMML0187ENSkillsNetwork31430127-2022-01-01) under the MIT License.\n"
   ]
  },
  {
   "cell_type": "markdown",
   "metadata": {},
   "source": [
    "## Setup\n"
   ]
  },
  {
   "cell_type": "markdown",
   "metadata": {},
   "source": [
    "### Installing Required Libraries\n",
    "\n",
    "The following required modules are pre-installed in the Skills Network Labs environment. However if you run this notebook commands in a different Jupyter environment (e.g. Watson Studio or Ananconda) you will need to install these libraries by removing the `#` sign before `!mamba` in the code cell below.\n"
   ]
  },
  {
   "cell_type": "code",
   "execution_count": 5,
   "metadata": {},
   "outputs": [],
   "source": [
    "import pandas as pd\n",
    "import numpy as np\n",
    "import matplotlib.pyplot as plt\n",
    "import seaborn as sns"
   ]
  },
  {
   "cell_type": "code",
   "execution_count": 11,
   "metadata": {},
   "outputs": [],
   "source": [
    "from scipy.spatial.distance import euclidean, cityblock, cosine\n",
    "from sklearn.metrics import pairwise\n",
    "from sklearn.preprocessing import  MinMaxScaler\n",
    "from matplotlib import offsetbox\n",
    "from sklearn.manifold import MDS"
   ]
  },
  {
   "cell_type": "code",
   "execution_count": 7,
   "metadata": {},
   "outputs": [],
   "source": [
    "import warnings\n",
    "warnings.filterwarnings(\"ignore\", category=DeprecationWarning) "
   ]
  },
  {
   "cell_type": "markdown",
   "metadata": {},
   "source": [
    "### Defining Helper Functions\n"
   ]
  },
  {
   "cell_type": "markdown",
   "metadata": {},
   "source": [
    "This function plots out labeled scatter plots of latitude and longitude data\n"
   ]
  },
  {
   "cell_type": "code",
   "execution_count": 8,
   "metadata": {},
   "outputs": [],
   "source": [
    "def plot_points(df, color=\"red\", title=\"\"):\n",
    "    X = df['lon']\n",
    "    Y = df['lat']\n",
    "    annotations = df.index\n",
    "    plt.figure(figsize=(8, 6))\n",
    "    plt.scatter(X, Y, s=100, color=color)\n",
    "    plt.title(title)\n",
    "    plt.xlabel(\"lat\")\n",
    "    plt.ylabel(\"log\")\n",
    "    \n",
    "    for i, label in enumerate(annotations):\n",
    "        plt.annotate(label, (X[i], Y[i]))\n",
    "    plt.axis('equal')\n",
    "    plt.show()"
   ]
  },
  {
   "cell_type": "markdown",
   "metadata": {},
   "source": [
    "This function plots out labelled scatter plots of digits dataset in two dimensions  after a Dimensionality reduction:\n"
   ]
  },
  {
   "cell_type": "code",
   "execution_count": 9,
   "metadata": {},
   "outputs": [],
   "source": [
    "def plot_embedding(X, title, ax):\n",
    "    X = MinMaxScaler().fit_transform(X)\n",
    "    for digit in digits.target_names:\n",
    "        ax.scatter(\n",
    "            *X[y == digit].T,\n",
    "            marker=f\"${digit}$\",\n",
    "            s=60,\n",
    "            color=plt.cm.Dark2(digit),\n",
    "            alpha=0.425,\n",
    "            zorder=2,\n",
    "        )\n",
    "    shown_images = np.array([[1.0, 1.0]])  # just something big\n",
    "    for i in range(X.shape[0]):\n",
    "        # plot every digit on the embedding\n",
    "        # show an annotation box for a group of digits\n",
    "        dist = np.sum((X[i] - shown_images) ** 2, 1)\n",
    "        if np.min(dist) < 4e-3:\n",
    "            # don't show points that are too close\n",
    "            continue\n",
    "        shown_images = np.concatenate([shown_images, [X[i]]], axis=0)\n",
    "        imagebox = offsetbox.AnnotationBbox(\n",
    "            offsetbox.OffsetImage(digits.images[i], cmap=plt.cm.gray_r), X[i]\n",
    "        )\n",
    "        imagebox.set(zorder=1)\n",
    "        ax.add_artist(imagebox)\n",
    "\n",
    "    ax.set_title(title)\n",
    "    ax.axis(\"off\")"
   ]
  },
  {
   "cell_type": "markdown",
   "metadata": {},
   "source": [
    "## Metric MDS\n"
   ]
  },
  {
   "cell_type": "markdown",
   "metadata": {},
   "source": [
    "Metric MDS  represents points in an embedding space $\\boldsymbol{Z}$  by preserving the distances $d\\_{i,j}$ distance between $i-th $ and $j-th $ objects. Each distance is given by:\n"
   ]
  },
  {
   "cell_type": "markdown",
   "metadata": {},
   "source": [
    "\\begin{pmatrix}\n",
    "d\\_{1,1} & d\\_{1,2} & \\cdots & d\\_{1,N} \\\\\\\\\\\\\\\\\n",
    "d\\_{2,1} & d\\_{2,2} & \\cdots & d\\_{2,N} \\\\\\\\\\\\\\\\\n",
    "\\vdots & \\vdots & & \\vdots \\\\\\\\\\\\\\\\\n",
    "d\\_{N,1} & d\\_{N,2} & \\cdots & d\\_{N,N}\n",
    "\\end{pmatrix}.\n"
   ]
  },
  {
   "cell_type": "markdown",
   "metadata": {},
   "source": [
    "For the distance $d\\_{i,j}$ between objects $x_i$ and $x_j$,  we find corresponding points $z_i$ and $z_j$ that minimize the cost function called “**Stress**”, which is a residual sum of squares:\n"
   ]
  },
  {
   "cell_type": "markdown",
   "metadata": {},
   "source": [
    "$\\text{Stress}*D(z\\_1,z\\_2,...,z_N)=\\Biggl(\\sum*{i\\ne j=1,...,N}\\bigl(d\\_{ij}-|z_i-z_j|\\bigr)^2\\Biggr)^{1/2}$\n"
   ]
  },
  {
   "cell_type": "markdown",
   "metadata": {},
   "source": [
    "The goal is to find the embeddings   $z_i$ ,$z_j$ whose euclidean distance is most similar to the original $d\\_{i,j}$. We will experiment with several different distance metrics for $d\\_{i,j}$, and for the embedding space we can use any distance metric $d(z_i,z_j)$.  We will focus on the euclidean distance $d(z_i,z_j)= |z_i-z_j|$. For more check out <a href=\"https://arxiv.org/pdf/2009.08136.pdf?utm_medium=Exinfluencer&utm_source=Exinfluencer&utm_content=000026UJ&utm_term=10006555&utm_id=NA-SkillsNetwork-Channel-SkillsNetworkCoursesIBMML0187ENSkillsNetwork31430127-2022-01-01\"> \\[1]</a>.\n"
   ]
  },
  {
   "cell_type": "markdown",
   "metadata": {},
   "source": [
    "### From Relative Location to Absolute  Location\n"
   ]
  },
  {
   "cell_type": "markdown",
   "metadata": {},
   "source": [
    "To better understand how MDS works, we would like to find the  position of several cities, given the length of the Relative latitude and longitude. Latitude is an angle that specifies the north–south position of a point on the Earth, which ranges from 0° at the Equator to 90° (North or South) at the poles. Lines of constant latitude, or parallels, run east–west as circles parallel to the equator. Longitude(λ) specifies the east–west position of a point on the Earth's surface, usually denoted by the Greek letter lambda (λ). Meridians (lines running from pole to pole) connect points with the same longitude as show here.\n"
   ]
  },
  {
   "cell_type": "markdown",
   "metadata": {},
   "source": [
    "<center>\n",
    "    <img src=\"https://cf-courses-data.s3.us.cloud-object-storage.appdomain.cloud/IBM-ML0187EN-SkillsNetwork/images/lat-log.png\" width=\"300\" alt=\"loglat\"  />\n",
    "</center>\n"
   ]
  },
  {
   "cell_type": "markdown",
   "metadata": {},
   "source": [
    "Latitude and longitude are calculated by examining celestial bodies' angles, sometimes in combination with time. We can calculate the difference between the angle relatively easily. This is shown in the figure below, where the boat and the city have different angles with the sun:\n"
   ]
  },
  {
   "cell_type": "markdown",
   "metadata": {},
   "source": [
    "<center>\n",
    "    <img src=\"https://cf-courses-data.s3.us.cloud-object-storage.appdomain.cloud/IBM-ML0187EN-SkillsNetwork/images/Screen_Shot_2022-03-01_at_6.26.10_PM.png\"  width=\"600\" />\n",
    "</center>\n"
   ]
  },
  {
   "cell_type": "code",
   "execution_count": 10,
   "metadata": {},
   "outputs": [
    {
     "data": {
      "text/html": [
       "<div>\n",
       "<style scoped>\n",
       "    .dataframe tbody tr th:only-of-type {\n",
       "        vertical-align: middle;\n",
       "    }\n",
       "\n",
       "    .dataframe tbody tr th {\n",
       "        vertical-align: top;\n",
       "    }\n",
       "\n",
       "    .dataframe thead th {\n",
       "        text-align: right;\n",
       "    }\n",
       "</style>\n",
       "<table border=\"1\" class=\"dataframe\">\n",
       "  <thead>\n",
       "    <tr style=\"text-align: right;\">\n",
       "      <th></th>\n",
       "      <th>Buenos Aires</th>\n",
       "      <th>Paris</th>\n",
       "      <th>Melbourne</th>\n",
       "      <th>St Petersbourg</th>\n",
       "      <th>Abidjan</th>\n",
       "      <th>Montreal</th>\n",
       "      <th>Nairobi</th>\n",
       "      <th>Salvador</th>\n",
       "    </tr>\n",
       "    <tr>\n",
       "      <th>name</th>\n",
       "      <th></th>\n",
       "      <th></th>\n",
       "      <th></th>\n",
       "      <th></th>\n",
       "      <th></th>\n",
       "      <th></th>\n",
       "      <th></th>\n",
       "      <th></th>\n",
       "    </tr>\n",
       "  </thead>\n",
       "  <tbody>\n",
       "    <tr>\n",
       "      <th>Buenos Aires</th>\n",
       "      <td>0.00</td>\n",
       "      <td>83.00</td>\n",
       "      <td>4.00</td>\n",
       "      <td>93.93</td>\n",
       "      <td>39.33</td>\n",
       "      <td>79.52</td>\n",
       "      <td>32.71</td>\n",
       "      <td>21.03</td>\n",
       "    </tr>\n",
       "    <tr>\n",
       "      <th>Paris</th>\n",
       "      <td>83.00</td>\n",
       "      <td>0.00</td>\n",
       "      <td>87.00</td>\n",
       "      <td>10.93</td>\n",
       "      <td>43.67</td>\n",
       "      <td>3.48</td>\n",
       "      <td>50.29</td>\n",
       "      <td>61.97</td>\n",
       "    </tr>\n",
       "    <tr>\n",
       "      <th>Melbourne</th>\n",
       "      <td>4.00</td>\n",
       "      <td>87.00</td>\n",
       "      <td>0.00</td>\n",
       "      <td>97.93</td>\n",
       "      <td>43.33</td>\n",
       "      <td>83.52</td>\n",
       "      <td>36.71</td>\n",
       "      <td>25.03</td>\n",
       "    </tr>\n",
       "    <tr>\n",
       "      <th>St Petersbourg</th>\n",
       "      <td>93.93</td>\n",
       "      <td>10.93</td>\n",
       "      <td>97.93</td>\n",
       "      <td>0.00</td>\n",
       "      <td>54.60</td>\n",
       "      <td>14.41</td>\n",
       "      <td>61.22</td>\n",
       "      <td>72.90</td>\n",
       "    </tr>\n",
       "    <tr>\n",
       "      <th>Abidjan</th>\n",
       "      <td>39.33</td>\n",
       "      <td>43.67</td>\n",
       "      <td>43.33</td>\n",
       "      <td>54.60</td>\n",
       "      <td>0.00</td>\n",
       "      <td>40.19</td>\n",
       "      <td>6.62</td>\n",
       "      <td>18.30</td>\n",
       "    </tr>\n",
       "    <tr>\n",
       "      <th>Montreal</th>\n",
       "      <td>79.52</td>\n",
       "      <td>3.48</td>\n",
       "      <td>83.52</td>\n",
       "      <td>14.41</td>\n",
       "      <td>40.19</td>\n",
       "      <td>0.00</td>\n",
       "      <td>46.81</td>\n",
       "      <td>58.49</td>\n",
       "    </tr>\n",
       "    <tr>\n",
       "      <th>Nairobi</th>\n",
       "      <td>32.71</td>\n",
       "      <td>50.29</td>\n",
       "      <td>36.71</td>\n",
       "      <td>61.22</td>\n",
       "      <td>6.62</td>\n",
       "      <td>46.81</td>\n",
       "      <td>0.00</td>\n",
       "      <td>11.68</td>\n",
       "    </tr>\n",
       "    <tr>\n",
       "      <th>Salvador</th>\n",
       "      <td>21.03</td>\n",
       "      <td>61.97</td>\n",
       "      <td>25.03</td>\n",
       "      <td>72.90</td>\n",
       "      <td>18.30</td>\n",
       "      <td>58.49</td>\n",
       "      <td>11.68</td>\n",
       "      <td>0.00</td>\n",
       "    </tr>\n",
       "  </tbody>\n",
       "</table>\n",
       "</div>"
      ],
      "text/plain": [
       "                Buenos Aires  Paris  Melbourne  St Petersbourg  Abidjan  \\\n",
       "name                                                                      \n",
       "Buenos Aires            0.00  83.00       4.00           93.93    39.33   \n",
       "Paris                  83.00   0.00      87.00           10.93    43.67   \n",
       "Melbourne               4.00  87.00       0.00           97.93    43.33   \n",
       "St Petersbourg         93.93  10.93      97.93            0.00    54.60   \n",
       "Abidjan                39.33  43.67      43.33           54.60     0.00   \n",
       "Montreal               79.52   3.48      83.52           14.41    40.19   \n",
       "Nairobi                32.71  50.29      36.71           61.22     6.62   \n",
       "Salvador               21.03  61.97      25.03           72.90    18.30   \n",
       "\n",
       "                Montreal  Nairobi  Salvador  \n",
       "name                                         \n",
       "Buenos Aires       79.52    32.71     21.03  \n",
       "Paris               3.48    50.29     61.97  \n",
       "Melbourne          83.52    36.71     25.03  \n",
       "St Petersbourg     14.41    61.22     72.90  \n",
       "Abidjan            40.19     6.62     18.30  \n",
       "Montreal            0.00    46.81     58.49  \n",
       "Nairobi            46.81     0.00     11.68  \n",
       "Salvador           58.49    11.68      0.00  "
      ]
     },
     "execution_count": 10,
     "metadata": {},
     "output_type": "execute_result"
    }
   ],
   "source": [
    "distance = pd.read_csv('https://cf-courses-data.s3.us.cloud-object-storage.appdomain.cloud/IBM-ML0187EN-SkillsNetwork/labs/module%203/distance.csv').set_index('name')\n",
    "distance.head(8)\n"
   ]
  },
  {
   "cell_type": "markdown",
   "metadata": {},
   "source": [
    "For Multidimensional Scaling in `sklearn`, we import the `MDS` constructor from the `manifold` module:\n"
   ]
  },
  {
   "cell_type": "markdown",
   "metadata": {},
   "source": [
    "We create an MDS object `embedding` with the following parameters:\n"
   ]
  },
  {
   "cell_type": "markdown",
   "metadata": {},
   "source": [
    "`n_components`: Number of dimensions in which to immerse the dissimilarities, default=2\n",
    "\n",
    "`precomputed`: Pre-computed dissimilarities are passed directly to **fit** and **fit_transform**\n",
    "\n",
    "`max_iter` : Maximum number of iterations of the <a href='https://scikit-learn.org/stable/modules/generated/sklearn.manifold.smacof.html?utm_medium=Exinfluencer&utm_source=Exinfluencer&utm_content=000026UJ&utm_term=10006555&utm_id=NA-SkillsNetwork-Channel-SkillsNetworkCoursesIBMML0187ENSkillsNetwork31430127-2022-01-01'> SMACOF</a> algorithm for a single run, default = 300\n",
    "\n",
    "`eps`: Relative tolerance with respect to stress at which to declare convergence, default=1e-3\n"
   ]
  }
 ],
 "metadata": {
  "kernelspec": {
   "display_name": ".venv",
   "language": "python",
   "name": "python3"
  },
  "language_info": {
   "codemirror_mode": {
    "name": "ipython",
    "version": 3
   },
   "file_extension": ".py",
   "mimetype": "text/x-python",
   "name": "python",
   "nbconvert_exporter": "python",
   "pygments_lexer": "ipython3",
   "version": "3.10.12"
  }
 },
 "nbformat": 4,
 "nbformat_minor": 2
}
