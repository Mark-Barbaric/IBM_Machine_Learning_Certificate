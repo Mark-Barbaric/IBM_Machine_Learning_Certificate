{
 "cells": [
  {
   "cell_type": "markdown",
   "metadata": {},
   "source": [
    "<center>\n",
    "    <img src=\"https://cf-courses-data.s3.us.cloud-object-storage.appdomain.cloud/assets/logos/SN_web_lightmode.png\" width=\"300\" alt=\"cognitiveclass.ai logo\"  />\n",
    "</center>\n"
   ]
  },
  {
   "cell_type": "markdown",
   "metadata": {},
   "source": [
    "# **Kernel Principal Component Analysis**\n"
   ]
  },
  {
   "cell_type": "markdown",
   "metadata": {},
   "source": [
    "Rumor has it that the ultra-wealthy community consists of either investment bankers or entrepreneurs in the tech industry that dropped out of college. Is that stereotype really true? Ever wonder if the top billionaires in the world share anything in common? Although, we can't say with certainty what it takes to be one, we do have a way to determine if any patterns exist among the richest people in the world.\n",
    "\n",
    "In this notebook, you will explore Kernel Principal Component Analysis (Kernel PCA) - an extension of principal component analysis (PCA) - to extract key feature patterns in the dataset, which is usually of higher dimension. In addition to analyzing billionaires around the globe, we will also use this unsupervised learning technique to denoise images.\n",
    "\n",
    "![img](https://cf-courses-data.s3.us.cloud-object-storage.appdomain.cloud/IBM-ML0187EN-SkillsNetwork/labs/module%203/images/RichPeople.png)\n"
   ]
  },
  {
   "cell_type": "markdown",
   "metadata": {},
   "source": [
    "## **Table of Contents**\n",
    "\n",
    "<!-- <a href=\"#Principle-Component-Analysis\">Principle Component Analysis</a> -->\n",
    "\n",
    "<ol>\n",
    "    <li><a href=\"https://#Objectives\">Objectives</a>\n",
    "        <ol>\n",
    "            <li><a href=\"https://#Datasets\">Datasets</a></li>\n",
    "        </ol>\n",
    "    </li>\n",
    "    <li>\n",
    "        <a href=\"https://#Setup\">Setup</a>\n",
    "        <ol>\n",
    "            <li><a href=\"https://#Installing-Required-Libraries\">Installing Required Libraries</a></li>\n",
    "            <li><a href=\"https://#Importing-Required-Libraries\">Importing Required Libraries</a></li>\n",
    "            <li><a href=\"https://#Defining-Helper-Functions\">Defining Helper Functions</a></li>\n",
    "        </ol>\n",
    "    </li>\n",
    "    <li>\n",
    "        <a href=\"https://#Background\">Background</a>\n",
    "        <ol>\n",
    "            <li><a href=\"https://#What-does-kernel-PCA-do-?\">What does PCA do?</a></li>\n",
    "        </ol>\n",
    "    </li>\n",
    "    <li>\n",
    "        <a href=\"https://#Visual-Example-Transform-a-Dataset-Before-Applying-PCA\">Visual Example - Transform a Dataset Before Applying PCA  </a>\n",
    "        <ol>\n",
    "            <li><a href=\"https://#Apply-PCA\"> Apply PCA </a></li>\n",
    "            <li><a href=\"https://#Transform-a-Dataset-to-a-Higher-Dimension-and-Then-Apply-PCA\">Transform a Dataset to a Higher Dimension and Then Apply PCA</a></li>\n",
    "        </ol>\n",
    "    </li>\n",
    "     <li>\n",
    "        <a href=\"https://#Kernel-PCA\"> Kernel PCA </a>\n",
    "        <ol>\n",
    "            <li><a href=\"https://#Whats-a-Kernel\">What's a Kernel? </a></li>\n",
    "            <li><a href=\"https://https://#Applying-Kernel-PCA\">Applying Kernel PCA</a></li>\n",
    "        </ol>\n",
    "    </li>\n",
    "    <li>\n",
    "        <a href=\"https://#Using-Kernel-PCA-to-Predict-if-Youre-the-Richest-Person-in-the-World\"> Using  Kernel PCA to Predict if You're the Richest Person in the World </a>\n",
    "        <ol>\n",
    "            <li><a href=\"https://#Data-Analysis\">Data Analysis</a></li>\n",
    "            <li><a href=\"#Applying-Kernel-PCA\">Applying Kernel PCA</a></li>\n",
    "            <li><a href=\"https://#Using-Kernel-PCA-to-Improve-Visualization\">Using Kernel PCA to Improve Visualization  </a></li>\n",
    "            <li><a href=\"https://#Using-Kernel-PCA-to-Improve-Prediction\">Using Kernel PCA to Improve Prediction </a></li>\n",
    "        </ol>\n",
    "    </li>\n",
    "</ol>\n",
    "\n",
    "<a href=\"https://#Exercises\">Exercises</a>\n",
    "\n",
    "<ol>\n",
    "    <li><a href=\"https://#Exercise-1---Fitting-PCA-Kernel\">Exercise 1 - Fitting PCA and Kernel PCA Objects</a></li>\n",
    "    <li><a href=\"https://#Exercise-2---Reconstruct-the-Digits\">Exercise 2 - Reconstruct the Digits</a></li>\n",
    "    <li><a href=\"https://#Exercise-3---Visualize-Denoised-Digit-Images\">Exercise 3 - Visualize Denoised Digit Images</a></li>\n",
    "</ol>\n"
   ]
  },
  {
   "cell_type": "markdown",
   "metadata": {},
   "source": [
    "## Objectives\n",
    "\n",
    "After completing this lab, you will be able to:\n",
    "\n",
    "*   **Understand** why we  transform a dataset to a higher dimension and apply PCA.\n",
    "*   **Understand** what is Kernel PCA.\n",
    "*   **Apply** Kernel PCA effectively to real world datasets for purposes ranging from prediction to visualization.\n"
   ]
  },
  {
   "cell_type": "markdown",
   "metadata": {},
   "source": [
    "### Installing Required Libraries\n",
    "\n",
    "The following required modules are pre-installed in the Skills Network Labs environment. However if you run this notebook commands in a different Jupyter environment (e.g. Watson Studio or Anaconda) you will need to install these libraries by removing the `#` sign before `!mamba` in the following code cell.\n"
   ]
  },
  {
   "cell_type": "code",
   "execution_count": 1,
   "metadata": {},
   "outputs": [],
   "source": [
    "import numpy as np\n",
    "import pandas as pd\n",
    "from itertools import accumulate\n",
    "\n",
    "import matplotlib.pyplot as plt\n",
    "import seaborn as sns"
   ]
  },
  {
   "cell_type": "code",
   "execution_count": 2,
   "metadata": {},
   "outputs": [],
   "source": [
    "from sklearn.preprocessing import StandardScaler\n",
    "from sklearn.decomposition import PCA, KernelPCA\n",
    "from sklearn.model_selection import train_test_split\n",
    "from sklearn.compose import ColumnTransformer\n",
    "from sklearn.preprocessing import OneHotEncoder"
   ]
  },
  {
   "cell_type": "code",
   "execution_count": 3,
   "metadata": {},
   "outputs": [],
   "source": [
    "import warnings\n",
    "\n",
    "warnings.filterwarnings('ignore')"
   ]
  },
  {
   "cell_type": "code",
   "execution_count": 4,
   "metadata": {},
   "outputs": [],
   "source": [
    "sns.set_context('notebook')\n",
    "sns.set_style('white')"
   ]
  },
  {
   "cell_type": "markdown",
   "metadata": {},
   "source": [
    "### Installing Required Libraries\n",
    "\n",
    "The following required modules are pre-installed in the Skills Network Labs environment. However if you run this notebook commands in a different Jupyter environment (e.g. Watson Studio or Anaconda) you will need to install these libraries by removing the `#` sign before `!mamba` in the following code cell.\n"
   ]
  },
  {
   "cell_type": "code",
   "execution_count": null,
   "metadata": {},
   "outputs": [],
   "source": [
    "def plot_proj(A,v,y,name=None):\n",
    "\n",
    "    plt.scatter(A[:, 0] ,A[:, 1], label='data', c=y, cmap='viridis')\n",
    "    \n",
    "    #plt.plot(np.linspace(A[:,0].min(),A[:,0].max()),np.linspace(A[:,1].min(),A[:,1].max())*(v[1]/v[0]),color='black',linestyle='--',linewidth=1.5,label=name)   \n",
    "    plt.plot(np.linspace(-1, 1), np.linspace(-1, 1) * (v[1] / v[0]), color='black', linestyle='--', linewidth=1.5, label=name)  \n",
    "    # Run through all the data\n",
    "\n",
    "    for i in range(len(A[:, 0]) - 1):\n",
    "        #data point \n",
    "        w=A[i, :]\n",
    "\n",
    "        # projection\n",
    "        cv = (np.dot(A[i, :], v)) / np.dot(v, np.transpose(v)) * v\n",
    "\n",
    "        # line between data point and projection\n",
    "        plt.plot([A[i, 0], cv[0]], [A[i, 1], cv[1]],'r--', linewidth=1.5)\n",
    "\n",
    "    plt.plot([A[-1, 0], cv[0]], [A[-1, 1], cv[1]], 'r--', linewidth=1.5, label='projections' )\n",
    "    plt.legend()\n",
    "    plt.show()"
   ]
  }
 ],
 "metadata": {
  "kernelspec": {
   "display_name": ".venv",
   "language": "python",
   "name": "python3"
  },
  "language_info": {
   "codemirror_mode": {
    "name": "ipython",
    "version": 3
   },
   "file_extension": ".py",
   "mimetype": "text/x-python",
   "name": "python",
   "nbconvert_exporter": "python",
   "pygments_lexer": "ipython3",
   "version": "3.10.12"
  }
 },
 "nbformat": 4,
 "nbformat_minor": 2
}
