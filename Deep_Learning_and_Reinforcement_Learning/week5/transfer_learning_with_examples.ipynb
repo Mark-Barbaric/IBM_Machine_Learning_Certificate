{
 "cells": [
  {
   "cell_type": "markdown",
   "metadata": {},
   "source": [
    "<center>\n",
    "    <img src=\"https://cf-courses-data.s3.us.cloud-object-storage.appdomain.cloud/assets/logos/SN_web_lightmode.png\" width=\"300\" alt=\"cognitiveclass.ai logo\">\n",
    "</center>\n"
   ]
  },
  {
   "cell_type": "markdown",
   "metadata": {},
   "source": [
    "# **End-to-End Example: Transfer Learning**\n"
   ]
  },
  {
   "cell_type": "markdown",
   "metadata": {},
   "source": [
    "Estimated time needed: **45** minutes\n"
   ]
  },
  {
   "cell_type": "markdown",
   "metadata": {},
   "source": [
    "In this lab, we will walk through an end-to-end example of transfer learning and fine-tuning. \n"
   ]
  },
  {
   "cell_type": "markdown",
   "metadata": {},
   "source": [
    "<h1> Is the waste product organic or a recyclable? </h1></s>\n"
   ]
  },
  {
   "cell_type": "markdown",
   "metadata": {},
   "source": [
    "You are a data science intern at a waste management service. Your manager has asked you to create a waste classification pipeline that categorizes waste streams based on disposal options: organic or recyclable. \n",
    "\n",
    "In this lab we're going to train a transfer learning model to perform this image classification task.\n"
   ]
  },
  {
   "cell_type": "markdown",
   "metadata": {},
   "source": [
    "<img src=\"https://cf-courses-data.s3.us.cloud-object-storage.appdomain.cloud/IBMDeveloperSkillsNetwork-ML311-Coursera/labs/Module3/L2/img/transfer_learning.gif\" width=\"600\" height=\"600\">\n"
   ]
  },
  {
   "cell_type": "markdown",
   "metadata": {},
   "source": [
    "## **Table of Contents**\n",
    "\n",
    "<ol>\n",
    "    <li><a href=\"#Objectives\">Objectives</a></li>\n",
    "    <li>\n",
    "        <a href=\"#Setup\">Setup</a>\n",
    "    </li>\n",
    "    <li>\n",
    "        <a href=\"#Background\">Background</a>\n",
    "        <ol>\n",
    "            <li><a href=\"#What is transfer learning?\">What is transfer learning?</a></li>\n",
    "        </ol>\n",
    "    </li>\n",
    "        <li>\n",
    "        <a href=\"#Example 1: Create a ML model for distinguishing recyclable and organic waste images\">Example 1: Create a ML model for distinguishing recyclable and organic waste images</a>\n",
    "            <ol>\n",
    "            <li><a href=\"#Dataset\">Dataset</a></li>\n",
    "            <li><a href=\"#Importing data\">Importing data</a></li>\n",
    "            <li><a href=\"#Data visualization\">Data visualization</a></li>\n",
    "            <li><a href=\"#Define configuration options\">Define configuration options</a></li>\n",
    "            <li><a href=\"#Loading Images using ImageGeneratorClass\">Loading Images using ImageGeneratorClass</a></li>\n",
    "            <li><a href=\"#Pre-trained models\">Pre-trained models</a></li>\n",
    "            <li><a href=\"#Compile the model\">Compile the model</a></li>\n",
    "            <li><a href=\"#Fine-Tuning\">Fine-Tuning</a></li>\n",
    "            <li><a href=\"#Evaluate both models on test data\">Evaluate both models on test data</a></li>\n",
    "        </ol>\n",
    "        </li>\n",
    "    <li>\n",
    "        <a href=\"#Example 2: Use Transfer Learning for identifying Stop Signs\">Example 2: Use Transfer Learning for identifying Stop Signs</a>\n",
    "            <ol>\n",
    "            <li><a href=\"#Loading images\">Loading images</a></li>\n",
    "            <li><a href=\"#Defining a helper function\">Defining a helper function</a></li>\n",
    "            <li><a href=\"#Pre-trained Model 1: Incepton-v3\">Pre-trained Model 1: Incepton-v3</a></li>\n",
    "            <li><a href=\"#Pre-trained Model 2: MobileNet\">Pre-trained Model 2: MobileNet</a></li>\n",
    "            <li><a href=\"#Pre-trained Model 3: ResNet-50\">Pre-trained Model 3: ResNet-50</a></li>\n",
    "         </ol>\n",
    "        </li>\n",
    "</ol>\n"
   ]
  },
  {
   "cell_type": "markdown",
   "metadata": {},
   "source": [
    "## Objectives\n",
    "\n",
    "After completing this lab you will be able to:\n",
    "\n",
    "- __Perform__ pre-processing and image augmentation on ImageGeneratorClass objects in Keras. \n",
    "- __Implement__ transfer learning in five general steps: \n",
    "    - obtain pre-trained model, \n",
    "    - create base model, \n",
    "    - freeze layers, \n",
    "    - train new layers on dataset, \n",
    "    - improve model through fine tuning.\n",
    "- __Build__ an end-to-end VGG16-based transfer learning model for binary image classification tasks.\n"
   ]
  },
  {
   "cell_type": "markdown",
   "metadata": {},
   "source": [
    "### Installing Required Libraries\n",
    "\n",
    "The following required libraries are pre-installed in the Skills Network Labs environment. However, if you run these notebook commands in a different Jupyter environment (like Watson Studio or Ananconda), you will need to install these libraries by removing the `#` sign before `!pip install tensorflow_datasets`, `!pip install --upgrade tensorflow` and `!pip install opendatasets` in the following code cell.\n"
   ]
  },
  {
   "cell_type": "code",
   "execution_count": null,
   "metadata": {},
   "outputs": [],
   "source": [
    "!pip install --upgrade tensorflow"
   ]
  },
  {
   "cell_type": "code",
   "execution_count": null,
   "metadata": {},
   "outputs": [],
   "source": [
    "import numpy as np\n",
    "import datetime\n",
    "import os\n",
    "import random, shutil\n",
    "import glob\n",
    "import skillsnetwork\n",
    "\n",
    "import warnings\n",
    "warnings.simplefilter('ignore')\n",
    "\n",
    "os.environ['TF_CPP_MIN_LOG_LEVEL'] = '2' \n",
    "\n",
    "from matplotlib import pyplot as plt\n",
    "import seaborn as sns\n",
    "from matplotlib import pyplot\n",
    "from matplotlib.image import imread\n",
    "\n",
    "from os import makedirs,listdir\n",
    "from shutil import copyfile\n",
    "from random import seed\n",
    "from random import random\n",
    "import keras \n",
    "import tensorflow as tf\n",
    "print(tf.__version__)\n",
    "from tensorflow.keras.models import Sequential\n",
    "from keras.layers import Conv2D, MaxPooling2D, Flatten, Dense, Dropout, InputLayer\n",
    "from keras.models import Sequential\n",
    "from keras import optimizers\n",
    "from tensorflow.keras.callbacks import EarlyStopping, ModelCheckpoint\n",
    "from tensorflow.keras.layers import Conv2D, MaxPooling2D,GlobalAveragePooling2D, Input\n",
    "from tensorflow.keras.layers import Dense, Dropout, Flatten\n",
    "from tensorflow.keras.models import Sequential, Model\n",
    "from tensorflow.keras.preprocessing.image import ImageDataGenerator\n",
    "from tensorflow.keras.applications import InceptionV3\n",
    "from sklearn import metrics\n",
    "\n",
    "\n",
    "sns.set_context('notebook')\n",
    "sns.set_style('white')"
   ]
  },
  {
   "cell_type": "markdown",
   "metadata": {},
   "source": [
    "## Background\n"
   ]
  },
  {
   "cell_type": "markdown",
   "metadata": {},
   "source": [
    "### What is transfer learning?\n"
   ]
  },
  {
   "cell_type": "markdown",
   "metadata": {},
   "source": [
    "Most popular models are difficult to train from scratch as they require huge datasets (like ImageNet), a large number of training iterations, and very heavy computing machinery. The basic features (edges, shapes) learned by early layers in a network are generalizable. While the later layers in an already trained network tend to capture features that are more particular to a specific image classification task. \n",
    "\n",
    "__Transfer learning__ uses the idea that if we keep the early layers of a pre-trained network, and re-train the later layers on a specific dataset, we might be able to leverage some state of that network on a related task.\n"
   ]
  },
  {
   "cell_type": "markdown",
   "metadata": {},
   "source": [
    "A typical transfer learning workflow in Keras looks something like this:\n",
    "    \n",
    "1. Initialize base model, and load pre-trained weights (like ImageNet).\n",
    "2. \"Freeze\" layers in the base model by setting `training = False`.\n",
    "3. Define a new model that goes on top of the output of the base model's layers.\n",
    "4. Train resulting model on your data set.\n"
   ]
  },
  {
   "cell_type": "markdown",
   "metadata": {},
   "source": [
    "## Example 1: Create a ML model for distinguishing recyclable and organic waste images\n"
   ]
  },
  {
   "cell_type": "markdown",
   "metadata": {},
   "source": [
    "### Dataset\n"
   ]
  },
  {
   "cell_type": "markdown",
   "metadata": {},
   "source": [
    "The dataset used in this Lab was found on Kaggle, which is an awesome community for people who enjoy anything related to data science and machine learning. We will be using the Waste Classification Dataset [dataset](https://www.kaggle.com/datasets/techsash/waste-classification-data):\n"
   ]
  },
  {
   "cell_type": "markdown",
   "metadata": {},
   "source": [
    "> PROBLEM: \n",
    "> - Waste management is a big problem in our country. Most of the wastes end up in landfills.\n",
    "\n",
    "> APPROACH: \n",
    "> - Segregated into two classes (Organic and recyclable)\n",
    "> - Automated the process by using IOT and machine learning\n",
    "\n",
    "> IMPLEMENTATION:\n",
    "> - Dataset is divided into train data (85%) and test data (15%)\n",
    "> - Training data - 22,564 images Test data - 2,513 images\n"
   ]
  },
  {
   "cell_type": "markdown",
   "metadata": {},
   "source": [
    "* The dataset contains ~25,000 images of recyclable and organic products split into a train and test set.\n",
    "* Our goal is to train an algorithm on these files and to predict the labels for images in our test set (1 = recyclable, 0 = organic).\n"
   ]
  },
  {
   "cell_type": "markdown",
   "metadata": {},
   "source": [
    "Now that we have obtained the necessary context and some insight in today's dataset, we're moving on to the practical part: using transfer learning to classify images. In this task, we will be using Tensorflow, which is a highly used ML library for training neural networks, and Keras, which is an API that makes this process simpler.\n"
   ]
  },
  {
   "cell_type": "markdown",
   "metadata": {},
   "source": [
    "We will go through the following steps to create our classification model:\n"
   ]
  },
  {
   "cell_type": "markdown",
   "metadata": {},
   "source": [
    "1. Import data directly from Kaggle.\n",
    "2. Visualize a few random images from the train set.\n",
    "3. Load images in using the ImageGeneratorClass from Keras.\n",
    "4. Define model configuration options.\n",
    "5. Perform some image augmentation for improved model generalizability.\n",
    "6. Load, compile and train a pre-trained model like VGG-16.\n",
    "7. Perform inference on the test set. \n"
   ]
  },
  {
   "cell_type": "markdown",
   "metadata": {},
   "source": [
    "### Importing Data\n"
   ]
  },
  {
   "cell_type": "markdown",
   "metadata": {},
   "source": [
    "This will create a `o-vs-r-split` directory in your environment.\n"
   ]
  },
  {
   "cell_type": "code",
   "execution_count": null,
   "metadata": {},
   "outputs": [],
   "source": [
    "import skillsnetwork\n",
    "await skillsnetwork.prepare(\"https://cf-courses-data.s3.us.cloud-object-storage.appdomain.cloud/IBMDeveloperSkillsNetwork-ML311-Coursera/datasets/o-vs-r-split.tar.gz\",\n",
    "                           overwrite=True)\n"
   ]
  }
 ],
 "metadata": {
  "kernelspec": {
   "display_name": ".venv",
   "language": "python",
   "name": "python3"
  },
  "language_info": {
   "name": "python",
   "version": "3.10.12"
  }
 },
 "nbformat": 4,
 "nbformat_minor": 2
}
