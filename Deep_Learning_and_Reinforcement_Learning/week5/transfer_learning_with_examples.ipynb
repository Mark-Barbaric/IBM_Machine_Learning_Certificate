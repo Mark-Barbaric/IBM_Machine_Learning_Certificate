{
  "cells": [
    {
      "cell_type": "markdown",
      "metadata": {
        "id": "view-in-github",
        "colab_type": "text"
      },
      "source": [
        "<a href=\"https://colab.research.google.com/github/Mark-Barbaric/IBM_Machine_Learning_Certificate/blob/dl_wee5/Deep_Learning_and_Reinforcement_Learning/week5/transfer_learning_with_examples.ipynb\" target=\"_parent\"><img src=\"https://colab.research.google.com/assets/colab-badge.svg\" alt=\"Open In Colab\"/></a>"
      ]
    },
    {
      "cell_type": "markdown",
      "metadata": {
        "id": "EbSJOZQ05FPZ"
      },
      "source": [
        "<center>\n",
        "    <img src=\"https://cf-courses-data.s3.us.cloud-object-storage.appdomain.cloud/assets/logos/SN_web_lightmode.png\" width=\"300\" alt=\"cognitiveclass.ai logo\">\n",
        "</center>\n"
      ]
    },
    {
      "cell_type": "markdown",
      "metadata": {
        "id": "JV6h_YCJ5FPe"
      },
      "source": [
        "# **End-to-End Example: Transfer Learning**\n"
      ]
    },
    {
      "cell_type": "markdown",
      "metadata": {
        "id": "HbJRTjp45FPg"
      },
      "source": [
        "Estimated time needed: **45** minutes\n"
      ]
    },
    {
      "cell_type": "markdown",
      "metadata": {
        "id": "xOpQegI05FPh"
      },
      "source": [
        "In this lab, we will walk through an end-to-end example of transfer learning and fine-tuning.\n"
      ]
    },
    {
      "cell_type": "markdown",
      "metadata": {
        "id": "Xy-qxXv35FPh"
      },
      "source": [
        "<h1> Is the waste product organic or a recyclable? </h1></s>\n"
      ]
    },
    {
      "cell_type": "markdown",
      "metadata": {
        "id": "QyAwYobi5FPi"
      },
      "source": [
        "You are a data science intern at a waste management service. Your manager has asked you to create a waste classification pipeline that categorizes waste streams based on disposal options: organic or recyclable.\n",
        "\n",
        "In this lab we're going to train a transfer learning model to perform this image classification task.\n"
      ]
    },
    {
      "cell_type": "markdown",
      "metadata": {
        "id": "HeaoUN-k5FPi"
      },
      "source": [
        "<img src=\"https://cf-courses-data.s3.us.cloud-object-storage.appdomain.cloud/IBMDeveloperSkillsNetwork-ML311-Coursera/labs/Module3/L2/img/transfer_learning.gif\" width=\"600\" height=\"600\">\n"
      ]
    },
    {
      "cell_type": "markdown",
      "metadata": {
        "id": "lv0844ua5FPj"
      },
      "source": [
        "## **Table of Contents**\n",
        "\n",
        "<ol>\n",
        "    <li><a href=\"#Objectives\">Objectives</a></li>\n",
        "    <li>\n",
        "        <a href=\"#Setup\">Setup</a>\n",
        "    </li>\n",
        "    <li>\n",
        "        <a href=\"#Background\">Background</a>\n",
        "        <ol>\n",
        "            <li><a href=\"#What is transfer learning?\">What is transfer learning?</a></li>\n",
        "        </ol>\n",
        "    </li>\n",
        "        <li>\n",
        "        <a href=\"#Example 1: Create a ML model for distinguishing recyclable and organic waste images\">Example 1: Create a ML model for distinguishing recyclable and organic waste images</a>\n",
        "            <ol>\n",
        "            <li><a href=\"#Dataset\">Dataset</a></li>\n",
        "            <li><a href=\"#Importing data\">Importing data</a></li>\n",
        "            <li><a href=\"#Data visualization\">Data visualization</a></li>\n",
        "            <li><a href=\"#Define configuration options\">Define configuration options</a></li>\n",
        "            <li><a href=\"#Loading Images using ImageGeneratorClass\">Loading Images using ImageGeneratorClass</a></li>\n",
        "            <li><a href=\"#Pre-trained models\">Pre-trained models</a></li>\n",
        "            <li><a href=\"#Compile the model\">Compile the model</a></li>\n",
        "            <li><a href=\"#Fine-Tuning\">Fine-Tuning</a></li>\n",
        "            <li><a href=\"#Evaluate both models on test data\">Evaluate both models on test data</a></li>\n",
        "        </ol>\n",
        "        </li>\n",
        "    <li>\n",
        "        <a href=\"#Example 2: Use Transfer Learning for identifying Stop Signs\">Example 2: Use Transfer Learning for identifying Stop Signs</a>\n",
        "            <ol>\n",
        "            <li><a href=\"#Loading images\">Loading images</a></li>\n",
        "            <li><a href=\"#Defining a helper function\">Defining a helper function</a></li>\n",
        "            <li><a href=\"#Pre-trained Model 1: Incepton-v3\">Pre-trained Model 1: Incepton-v3</a></li>\n",
        "            <li><a href=\"#Pre-trained Model 2: MobileNet\">Pre-trained Model 2: MobileNet</a></li>\n",
        "            <li><a href=\"#Pre-trained Model 3: ResNet-50\">Pre-trained Model 3: ResNet-50</a></li>\n",
        "         </ol>\n",
        "        </li>\n",
        "</ol>\n"
      ]
    },
    {
      "cell_type": "markdown",
      "metadata": {
        "id": "zRQzzWiT5FPk"
      },
      "source": [
        "## Objectives\n",
        "\n",
        "After completing this lab you will be able to:\n",
        "\n",
        "- __Perform__ pre-processing and image augmentation on ImageGeneratorClass objects in Keras.\n",
        "- __Implement__ transfer learning in five general steps:\n",
        "    - obtain pre-trained model,\n",
        "    - create base model,\n",
        "    - freeze layers,\n",
        "    - train new layers on dataset,\n",
        "    - improve model through fine tuning.\n",
        "- __Build__ an end-to-end VGG16-based transfer learning model for binary image classification tasks.\n"
      ]
    },
    {
      "cell_type": "markdown",
      "metadata": {
        "id": "3ujmz8rH5FPk"
      },
      "source": [
        "### Installing Required Libraries\n",
        "\n",
        "The following required libraries are pre-installed in the Skills Network Labs environment. However, if you run these notebook commands in a different Jupyter environment (like Watson Studio or Ananconda), you will need to install these libraries by removing the `#` sign before `!pip install tensorflow_datasets`, `!pip install --upgrade tensorflow` and `!pip install opendatasets` in the following code cell.\n"
      ]
    },
    {
      "cell_type": "code",
      "source": [
        "!pip install skillsnetwork"
      ],
      "metadata": {
        "id": "wEJ46LhG6PuK",
        "outputId": "5e827b5f-45e0-45e8-9dad-676aab89cf9f",
        "colab": {
          "base_uri": "https://localhost:8080/"
        }
      },
      "execution_count": 5,
      "outputs": [
        {
          "output_type": "stream",
          "name": "stdout",
          "text": [
            "Collecting skillsnetwork\n",
            "  Downloading skillsnetwork-0.21.9-py3-none-any.whl.metadata (2.0 kB)\n",
            "Requirement already satisfied: ipython in /usr/local/lib/python3.10/dist-packages (from skillsnetwork) (7.34.0)\n",
            "Collecting ipywidgets<9,>=8 (from skillsnetwork)\n",
            "  Downloading ipywidgets-8.1.5-py3-none-any.whl.metadata (2.3 kB)\n",
            "Requirement already satisfied: requests<3,>=2 in /usr/local/lib/python3.10/dist-packages (from skillsnetwork) (2.32.3)\n",
            "Requirement already satisfied: tqdm<5,>=4 in /usr/local/lib/python3.10/dist-packages (from skillsnetwork) (4.66.6)\n",
            "Collecting comm>=0.1.3 (from ipywidgets<9,>=8->skillsnetwork)\n",
            "  Downloading comm-0.2.2-py3-none-any.whl.metadata (3.7 kB)\n",
            "Requirement already satisfied: traitlets>=4.3.1 in /usr/local/lib/python3.10/dist-packages (from ipywidgets<9,>=8->skillsnetwork) (5.7.1)\n",
            "Collecting widgetsnbextension~=4.0.12 (from ipywidgets<9,>=8->skillsnetwork)\n",
            "  Downloading widgetsnbextension-4.0.13-py3-none-any.whl.metadata (1.6 kB)\n",
            "Requirement already satisfied: jupyterlab-widgets~=3.0.12 in /usr/local/lib/python3.10/dist-packages (from ipywidgets<9,>=8->skillsnetwork) (3.0.13)\n",
            "Requirement already satisfied: setuptools>=18.5 in /usr/local/lib/python3.10/dist-packages (from ipython->skillsnetwork) (75.1.0)\n",
            "Collecting jedi>=0.16 (from ipython->skillsnetwork)\n",
            "  Downloading jedi-0.19.2-py2.py3-none-any.whl.metadata (22 kB)\n",
            "Requirement already satisfied: decorator in /usr/local/lib/python3.10/dist-packages (from ipython->skillsnetwork) (4.4.2)\n",
            "Requirement already satisfied: pickleshare in /usr/local/lib/python3.10/dist-packages (from ipython->skillsnetwork) (0.7.5)\n",
            "Requirement already satisfied: prompt-toolkit!=3.0.0,!=3.0.1,<3.1.0,>=2.0.0 in /usr/local/lib/python3.10/dist-packages (from ipython->skillsnetwork) (3.0.48)\n",
            "Requirement already satisfied: pygments in /usr/local/lib/python3.10/dist-packages (from ipython->skillsnetwork) (2.18.0)\n",
            "Requirement already satisfied: backcall in /usr/local/lib/python3.10/dist-packages (from ipython->skillsnetwork) (0.2.0)\n",
            "Requirement already satisfied: matplotlib-inline in /usr/local/lib/python3.10/dist-packages (from ipython->skillsnetwork) (0.1.7)\n",
            "Requirement already satisfied: pexpect>4.3 in /usr/local/lib/python3.10/dist-packages (from ipython->skillsnetwork) (4.9.0)\n",
            "Requirement already satisfied: charset-normalizer<4,>=2 in /usr/local/lib/python3.10/dist-packages (from requests<3,>=2->skillsnetwork) (3.4.0)\n",
            "Requirement already satisfied: idna<4,>=2.5 in /usr/local/lib/python3.10/dist-packages (from requests<3,>=2->skillsnetwork) (3.10)\n",
            "Requirement already satisfied: urllib3<3,>=1.21.1 in /usr/local/lib/python3.10/dist-packages (from requests<3,>=2->skillsnetwork) (2.2.3)\n",
            "Requirement already satisfied: certifi>=2017.4.17 in /usr/local/lib/python3.10/dist-packages (from requests<3,>=2->skillsnetwork) (2024.8.30)\n",
            "Requirement already satisfied: parso<0.9.0,>=0.8.4 in /usr/local/lib/python3.10/dist-packages (from jedi>=0.16->ipython->skillsnetwork) (0.8.4)\n",
            "Requirement already satisfied: ptyprocess>=0.5 in /usr/local/lib/python3.10/dist-packages (from pexpect>4.3->ipython->skillsnetwork) (0.7.0)\n",
            "Requirement already satisfied: wcwidth in /usr/local/lib/python3.10/dist-packages (from prompt-toolkit!=3.0.0,!=3.0.1,<3.1.0,>=2.0.0->ipython->skillsnetwork) (0.2.13)\n",
            "Downloading skillsnetwork-0.21.9-py3-none-any.whl (26 kB)\n",
            "Downloading ipywidgets-8.1.5-py3-none-any.whl (139 kB)\n",
            "\u001b[2K   \u001b[90m━━━━━━━━━━━━━━━━━━━━━━━━━━━━━━━━━━━━━━━━\u001b[0m \u001b[32m139.8/139.8 kB\u001b[0m \u001b[31m4.1 MB/s\u001b[0m eta \u001b[36m0:00:00\u001b[0m\n",
            "\u001b[?25hDownloading comm-0.2.2-py3-none-any.whl (7.2 kB)\n",
            "Downloading jedi-0.19.2-py2.py3-none-any.whl (1.6 MB)\n",
            "\u001b[2K   \u001b[90m━━━━━━━━━━━━━━━━━━━━━━━━━━━━━━━━━━━━━━━━\u001b[0m \u001b[32m1.6/1.6 MB\u001b[0m \u001b[31m28.7 MB/s\u001b[0m eta \u001b[36m0:00:00\u001b[0m\n",
            "\u001b[?25hDownloading widgetsnbextension-4.0.13-py3-none-any.whl (2.3 MB)\n",
            "\u001b[2K   \u001b[90m━━━━━━━━━━━━━━━━━━━━━━━━━━━━━━━━━━━━━━━━\u001b[0m \u001b[32m2.3/2.3 MB\u001b[0m \u001b[31m42.5 MB/s\u001b[0m eta \u001b[36m0:00:00\u001b[0m\n",
            "\u001b[?25hInstalling collected packages: widgetsnbextension, jedi, comm, ipywidgets, skillsnetwork\n",
            "  Attempting uninstall: widgetsnbextension\n",
            "    Found existing installation: widgetsnbextension 3.6.10\n",
            "    Uninstalling widgetsnbextension-3.6.10:\n",
            "      Successfully uninstalled widgetsnbextension-3.6.10\n",
            "  Attempting uninstall: ipywidgets\n",
            "    Found existing installation: ipywidgets 7.7.1\n",
            "    Uninstalling ipywidgets-7.7.1:\n",
            "      Successfully uninstalled ipywidgets-7.7.1\n",
            "Successfully installed comm-0.2.2 ipywidgets-8.1.5 jedi-0.19.2 skillsnetwork-0.21.9 widgetsnbextension-4.0.13\n"
          ]
        }
      ]
    },
    {
      "cell_type": "code",
      "execution_count": 6,
      "metadata": {
        "id": "1O5pQpHy5FPm",
        "outputId": "6858feb7-4faf-480b-a6ad-f27c339e06f0",
        "colab": {
          "base_uri": "https://localhost:8080/"
        }
      },
      "outputs": [
        {
          "output_type": "stream",
          "name": "stdout",
          "text": [
            "2.17.1\n"
          ]
        }
      ],
      "source": [
        "import numpy as np\n",
        "import datetime\n",
        "import os\n",
        "import random, shutil\n",
        "import glob\n",
        "import skillsnetwork\n",
        "\n",
        "import warnings\n",
        "warnings.simplefilter('ignore')\n",
        "\n",
        "os.environ['TF_CPP_MIN_LOG_LEVEL'] = '2'\n",
        "\n",
        "from matplotlib import pyplot as plt\n",
        "import seaborn as sns\n",
        "from matplotlib import pyplot\n",
        "from matplotlib.image import imread\n",
        "\n",
        "from os import makedirs,listdir\n",
        "from shutil import copyfile\n",
        "from random import seed\n",
        "from random import random\n",
        "import keras\n",
        "import tensorflow as tf\n",
        "print(tf.__version__)\n",
        "from tensorflow.keras.models import Sequential\n",
        "from keras.layers import Conv2D, MaxPooling2D, Flatten, Dense, Dropout, InputLayer\n",
        "from keras.models import Sequential\n",
        "from keras import optimizers\n",
        "from tensorflow.keras.callbacks import EarlyStopping, ModelCheckpoint\n",
        "from tensorflow.keras.layers import Conv2D, MaxPooling2D,GlobalAveragePooling2D, Input\n",
        "from tensorflow.keras.layers import Dense, Dropout, Flatten\n",
        "from tensorflow.keras.models import Sequential, Model\n",
        "from tensorflow.keras.preprocessing.image import ImageDataGenerator\n",
        "from tensorflow.keras.applications import InceptionV3\n",
        "from sklearn import metrics\n",
        "\n",
        "\n",
        "sns.set_context('notebook')\n",
        "sns.set_style('white')"
      ]
    },
    {
      "cell_type": "markdown",
      "metadata": {
        "id": "B6-kjMUc5FPn"
      },
      "source": [
        "## Background\n"
      ]
    },
    {
      "cell_type": "markdown",
      "metadata": {
        "id": "AU4jfCvl5FPn"
      },
      "source": [
        "### What is transfer learning?\n"
      ]
    },
    {
      "cell_type": "markdown",
      "metadata": {
        "id": "oPU0nvxb5FPn"
      },
      "source": [
        "Most popular models are difficult to train from scratch as they require huge datasets (like ImageNet), a large number of training iterations, and very heavy computing machinery. The basic features (edges, shapes) learned by early layers in a network are generalizable. While the later layers in an already trained network tend to capture features that are more particular to a specific image classification task.\n",
        "\n",
        "__Transfer learning__ uses the idea that if we keep the early layers of a pre-trained network, and re-train the later layers on a specific dataset, we might be able to leverage some state of that network on a related task.\n"
      ]
    },
    {
      "cell_type": "markdown",
      "metadata": {
        "id": "g8mZjp-z5FPo"
      },
      "source": [
        "A typical transfer learning workflow in Keras looks something like this:\n",
        "    \n",
        "1. Initialize base model, and load pre-trained weights (like ImageNet).\n",
        "2. \"Freeze\" layers in the base model by setting `training = False`.\n",
        "3. Define a new model that goes on top of the output of the base model's layers.\n",
        "4. Train resulting model on your data set.\n"
      ]
    },
    {
      "cell_type": "markdown",
      "metadata": {
        "id": "AlcxnSam5FPo"
      },
      "source": [
        "## Example 1: Create a ML model for distinguishing recyclable and organic waste images\n"
      ]
    },
    {
      "cell_type": "markdown",
      "metadata": {
        "id": "pHRDmu_p5FPo"
      },
      "source": [
        "### Dataset\n"
      ]
    },
    {
      "cell_type": "markdown",
      "metadata": {
        "id": "PQKiMDvE5FPo"
      },
      "source": [
        "The dataset used in this Lab was found on Kaggle, which is an awesome community for people who enjoy anything related to data science and machine learning. We will be using the Waste Classification Dataset [dataset](https://www.kaggle.com/datasets/techsash/waste-classification-data):\n"
      ]
    },
    {
      "cell_type": "markdown",
      "metadata": {
        "id": "nN-oMmMR5FPo"
      },
      "source": [
        "> PROBLEM:\n",
        "> - Waste management is a big problem in our country. Most of the wastes end up in landfills.\n",
        "\n",
        "> APPROACH:\n",
        "> - Segregated into two classes (Organic and recyclable)\n",
        "> - Automated the process by using IOT and machine learning\n",
        "\n",
        "> IMPLEMENTATION:\n",
        "> - Dataset is divided into train data (85%) and test data (15%)\n",
        "> - Training data - 22,564 images Test data - 2,513 images\n"
      ]
    },
    {
      "cell_type": "markdown",
      "metadata": {
        "id": "VS1wlfXa5FPp"
      },
      "source": [
        "* The dataset contains ~25,000 images of recyclable and organic products split into a train and test set.\n",
        "* Our goal is to train an algorithm on these files and to predict the labels for images in our test set (1 = recyclable, 0 = organic).\n"
      ]
    },
    {
      "cell_type": "markdown",
      "metadata": {
        "id": "2FuRpgc15FPp"
      },
      "source": [
        "Now that we have obtained the necessary context and some insight in today's dataset, we're moving on to the practical part: using transfer learning to classify images. In this task, we will be using Tensorflow, which is a highly used ML library for training neural networks, and Keras, which is an API that makes this process simpler.\n"
      ]
    },
    {
      "cell_type": "markdown",
      "metadata": {
        "id": "ATWvNIQ25FPp"
      },
      "source": [
        "We will go through the following steps to create our classification model:\n"
      ]
    },
    {
      "cell_type": "markdown",
      "metadata": {
        "id": "M-J5EUq15FPp"
      },
      "source": [
        "1. Import data directly from Kaggle.\n",
        "2. Visualize a few random images from the train set.\n",
        "3. Load images in using the ImageGeneratorClass from Keras.\n",
        "4. Define model configuration options.\n",
        "5. Perform some image augmentation for improved model generalizability.\n",
        "6. Load, compile and train a pre-trained model like VGG-16.\n",
        "7. Perform inference on the test set.\n"
      ]
    },
    {
      "cell_type": "markdown",
      "metadata": {
        "id": "Wf2aM3TK5FPq"
      },
      "source": [
        "### Importing Data\n"
      ]
    },
    {
      "cell_type": "markdown",
      "metadata": {
        "id": "LgU2ke5i5FPq"
      },
      "source": [
        "This will create a `o-vs-r-split` directory in your environment.\n"
      ]
    },
    {
      "cell_type": "code",
      "execution_count": 7,
      "metadata": {
        "id": "fw_7n5cv5FPq",
        "outputId": "1dedf796-281e-45bb-ce98-f87c15083a51",
        "colab": {
          "base_uri": "https://localhost:8080/",
          "height": 34,
          "referenced_widgets": [
            "94929b06a2da420e81475a9559ceb2b2",
            "b6db12ef40364cc8abcb857a96ae0b6d",
            "06d297154f344137ae1854ec50dbd0b4",
            "9a107e1df744420e916db96c672b3250",
            "b2e27ba8d77d48f786a6fb932ad79411",
            "82f1e447566c4f2ead11858502c6d657",
            "b9b56745125d4a37a3297b9a7e2ca989",
            "c1dd3802e45a43c3a24858b46e7ae243",
            "9bb27d9f66354984a0d18e00d62c4b15",
            "d22f9e8cb92843af85ae75ad9c50723a",
            "a8af2fa4a8c746d8bb0e1bad7b047699",
            "5429ac1fc34441c9b0728f76b604f746",
            "18ba5bf4d27443e6830cc57216793aa3",
            "36e6454a75d04151a0af1a2b4fce2059",
            "a3d802309c91472895f1413ef1546f7f",
            "0740d2b35427479ab34e514b91dd6e24",
            "80bfd3347a4d40f9a16c3c08d0440d98",
            "a2692681579a4de8b98c017ce51162f2",
            "5571db391bef47e6a5ec4f86b4a977ca",
            "c5c4318dc6594fa9b5dff6a8875ea185",
            "5127c48c58a74894ad22d31a7a113beb",
            "0261031f8f97427a8d565582e21e7adf"
          ]
        }
      },
      "outputs": [
        {
          "output_type": "display_data",
          "data": {
            "text/plain": [
              "Downloading o-vs-r-split.tar.gz:   0%|          | 0/69513243 [00:00<?, ?it/s]"
            ],
            "application/vnd.jupyter.widget-view+json": {
              "version_major": 2,
              "version_minor": 0,
              "model_id": "94929b06a2da420e81475a9559ceb2b2"
            }
          },
          "metadata": {}
        },
        {
          "output_type": "display_data",
          "data": {
            "text/plain": [
              "  0%|          | 0/8097 [00:00<?, ?it/s]"
            ],
            "application/vnd.jupyter.widget-view+json": {
              "version_major": 2,
              "version_minor": 0,
              "model_id": "5429ac1fc34441c9b0728f76b604f746"
            }
          },
          "metadata": {}
        },
        {
          "output_type": "stream",
          "name": "stdout",
          "text": [
            "Saved to '.'\n"
          ]
        }
      ],
      "source": [
        "import skillsnetwork\n",
        "await skillsnetwork.prepare(\"https://cf-courses-data.s3.us.cloud-object-storage.appdomain.cloud/IBMDeveloperSkillsNetwork-ML311-Coursera/datasets/o-vs-r-split.tar.gz\",\n",
        "                           overwrite=True)\n"
      ]
    },
    {
      "cell_type": "markdown",
      "source": [
        "### Define configuration options\n"
      ],
      "metadata": {
        "id": "JQ786V5i5HOr"
      }
    },
    {
      "cell_type": "markdown",
      "source": [
        "* __img_rows__ and __img_cols__ are used to specify width and height of the images expected by MobileNet.\n",
        "* __batch size__ is set to 32.\n",
        "* The __number of epochs__ (that is, iterations) is set to 5, but as we are using Early Stopping, the number of iterations might be lower if early stopping conditions are met before 5 iterations.\n",
        "* The __number of classes__ is 2.\n",
        "* We will use 20% of the data for __validation__ purposes.\n",
        "* We want to be able to see the model output, so we set __verbosity__ to 1, or True.\n",
        "* The __path__ is a path to the directory with the training data and __path_test__ should contain the test data.\n",
        "* The __input_shape__ is common for an image: (w, h, d).\n",
        "* We have two __labels__ in our dataset: organic (O), recyclable (R).\n",
        "* The __checkpoint_path__ is where ModelCheckpoint will save our model.\n"
      ],
      "metadata": {
        "id": "f6onJJQc5KWU"
      }
    },
    {
      "cell_type": "code",
      "source": [
        "img_rows, img_cols = 150, 150\n",
        "batch_size = 32\n",
        "n_epochs = 10\n",
        "n_classes = 2\n",
        "val_split = 0.2\n",
        "verbosity = 1\n",
        "path = 'o-vs-r-split/train/'\n",
        "path_test = 'o-vs-r-split/test/'\n",
        "input_shape = (img_rows, img_cols, 3) #RGB\n",
        "labels = ['O', 'R']\n",
        "seed = 10\n",
        "checkpoint_path='ORnet.h5'"
      ],
      "metadata": {
        "id": "4oIXEfJf5Hk4"
      },
      "execution_count": 8,
      "outputs": []
    },
    {
      "cell_type": "markdown",
      "source": [
        "### Loading Images using ImageGeneratorClass\n"
      ],
      "metadata": {
        "id": "x9otnuHw5WsJ"
      }
    },
    {
      "cell_type": "markdown",
      "source": [
        "Transfer learning works best when models are trained on smaller datasets. We are using 10,000 images from the original dataset of 25,000 images. We are setting aside 10% of the set for testing purposes.\n"
      ],
      "metadata": {
        "id": "keDmiM_15Ynr"
      }
    },
    {
      "cell_type": "markdown",
      "source": [
        "```python\n",
        "o-vs-r-split/\n",
        "└── train\n",
        "    ├── O\n",
        "    └── R\n",
        "└── test\n",
        "    ├── O\n",
        "    └── R\n",
        "```\n"
      ],
      "metadata": {
        "id": "273xSny55ZxL"
      }
    },
    {
      "cell_type": "markdown",
      "source": [
        "#### Image Augmentation\n"
      ],
      "metadata": {
        "id": "8W-a0inK5cDO"
      }
    },
    {
      "cell_type": "markdown",
      "source": [
        "Now we will create ImageDataGenerators used for training, validation, and testing.\n",
        "\n",
        "Image data generators create batches of tensor image data with real-time data augmentation. They loop over the data in batches and are useful in feeding data to the training process. We specify a 20% validation split.\n",
        "\n",
        "We will perform a few image augmentation steps. We set __rescale__ to 1./255. This means that each image pixel will be divided by 255 in order to normalize the image. We set the __width_shift_range__ and __height_shift_range__ to 0.1 each, and the __horizontal_flip__ to True.\n",
        "* The __width_shift_range__ shifts the image horizontally (left or right).\n",
        "* The __height_shift_range__ shifts the image vertically (up or down).\n",
        "* The __horizontal_flip__ randomly flip inputs horizontally.\n"
      ],
      "metadata": {
        "id": "druHPD595dUy"
      }
    },
    {
      "cell_type": "code",
      "source": [
        "train_datagen = ImageDataGenerator(\n",
        "    validation_split=val_split,\n",
        "    rescale=1.0/255.0,\n",
        "    width_shift_range=0.1,\n",
        "    height_shift_range=0.1,\n",
        "    horizontal_flip=True\n",
        ")\n",
        "\n",
        "val_datagen = ImageDataGenerator(\n",
        "    validation_split=val_split,\n",
        "    rescale=1.0/255.0,\n",
        "    width_shift_range=0.1,\n",
        "    height_shift_range=0.1,\n",
        "    horizontal_flip=True\n",
        ")\n",
        "\n",
        "test_datagen = ImageDataGenerator(\n",
        "    rescale=1.0/255.0\n",
        ")"
      ],
      "metadata": {
        "id": "hk-aATKs5WOH"
      },
      "execution_count": 9,
      "outputs": []
    },
    {
      "cell_type": "markdown",
      "source": [
        "Since it is undesirable to load all of our image data into memory all at once, we make use of the __flow_from_directory__ method. It takes the ImageDataGenerator training/validation sets and flows image batches from a specified folder.\n",
        "\n",
        "* We set __directory__ to the __path__, specifying the path to our training dataset.\n",
        "* We specify classes using __labels__ we had defined in the configuration step.\n",
        "* We apply a __seed__ so our random initializer is generated in the same way each time we perform this step. This allows for direct comparison between experiments.\n"
      ],
      "metadata": {
        "id": "KMmLznSM6zy2"
      }
    },
    {
      "cell_type": "code",
      "source": [
        "train_generator = train_datagen.flow_from_directory(\n",
        "    directory=path,\n",
        "    classes=labels,\n",
        "    seed=seed,\n",
        "    batch_size=batch_size,\n",
        "    shuffle=True,\n",
        "    target_size=(img_rows, img_rows),\n",
        "    subset=\"training\"\n",
        ")"
      ],
      "metadata": {
        "id": "-yt0WNzX602Z",
        "outputId": "109fbb8d-d449-4165-d210-f9b5f8db7867",
        "colab": {
          "base_uri": "https://localhost:8080/"
        }
      },
      "execution_count": 10,
      "outputs": [
        {
          "output_type": "stream",
          "name": "stdout",
          "text": [
            "Found 5810 images belonging to 2 classes.\n"
          ]
        }
      ]
    },
    {
      "cell_type": "code",
      "source": [
        "val_generator = val_datagen.flow_from_directory(\n",
        "    directory=path,\n",
        "    classes=labels,\n",
        "    seed=seed,\n",
        "    batch_size=batch_size,\n",
        "    class_mode=\"binary\",\n",
        "    shuffle=True,\n",
        "    target_size=(img_rows, img_rows),\n",
        "    subset=\"validation\"\n",
        ")"
      ],
      "metadata": {
        "id": "Cga-czaQ7GJb",
        "outputId": "c3e577ad-e8e1-4e76-b891-61ac32ee5e63",
        "colab": {
          "base_uri": "https://localhost:8080/"
        }
      },
      "execution_count": 12,
      "outputs": [
        {
          "output_type": "stream",
          "name": "stdout",
          "text": [
            "Found 1452 images belonging to 2 classes.\n"
          ]
        }
      ]
    },
    {
      "cell_type": "code",
      "source": [
        "test_generator = test_datagen.flow_from_directory(\n",
        "    directory=path_test,\n",
        "    classes=labels,\n",
        "    class_mode=\"binary\",\n",
        "    seed=seed,\n",
        "    batch_size=batch_size,\n",
        "    shuffle=True,\n",
        "    target_size=(img_rows, img_rows)\n",
        ")"
      ],
      "metadata": {
        "id": "Bid60zjy7SEs",
        "outputId": "2c1e291c-883c-4fdf-d8b5-86c90c1d8276",
        "colab": {
          "base_uri": "https://localhost:8080/"
        }
      },
      "execution_count": 13,
      "outputs": [
        {
          "output_type": "stream",
          "name": "stdout",
          "text": [
            "Found 828 images belonging to 2 classes.\n"
          ]
        }
      ]
    },
    {
      "cell_type": "code",
      "source": [],
      "metadata": {
        "id": "vZ9Y_dpH7hPs"
      },
      "execution_count": null,
      "outputs": []
    }
  ],
  "metadata": {
    "kernelspec": {
      "display_name": "Python 3",
      "name": "python3"
    },
    "language_info": {
      "name": "python",
      "version": "3.10.12"
    },
    "colab": {
      "provenance": [],
      "include_colab_link": true
    },
    "widgets": {
      "application/vnd.jupyter.widget-state+json": {
        "94929b06a2da420e81475a9559ceb2b2": {
          "model_module": "@jupyter-widgets/controls",
          "model_name": "HBoxModel",
          "model_module_version": "2.0.0",
          "state": {
            "_dom_classes": [],
            "_model_module": "@jupyter-widgets/controls",
            "_model_module_version": "2.0.0",
            "_model_name": "HBoxModel",
            "_view_count": null,
            "_view_module": "@jupyter-widgets/controls",
            "_view_module_version": "2.0.0",
            "_view_name": "HBoxView",
            "box_style": "",
            "children": [
              "IPY_MODEL_b6db12ef40364cc8abcb857a96ae0b6d",
              "IPY_MODEL_06d297154f344137ae1854ec50dbd0b4",
              "IPY_MODEL_9a107e1df744420e916db96c672b3250"
            ],
            "layout": "IPY_MODEL_b2e27ba8d77d48f786a6fb932ad79411",
            "tabbable": null,
            "tooltip": null
          }
        },
        "b6db12ef40364cc8abcb857a96ae0b6d": {
          "model_module": "@jupyter-widgets/controls",
          "model_name": "HTMLModel",
          "model_module_version": "2.0.0",
          "state": {
            "_dom_classes": [],
            "_model_module": "@jupyter-widgets/controls",
            "_model_module_version": "2.0.0",
            "_model_name": "HTMLModel",
            "_view_count": null,
            "_view_module": "@jupyter-widgets/controls",
            "_view_module_version": "2.0.0",
            "_view_name": "HTMLView",
            "description": "",
            "description_allow_html": false,
            "layout": "IPY_MODEL_82f1e447566c4f2ead11858502c6d657",
            "placeholder": "​",
            "style": "IPY_MODEL_b9b56745125d4a37a3297b9a7e2ca989",
            "tabbable": null,
            "tooltip": null,
            "value": "Downloading o-vs-r-split.tar.gz: 100%"
          }
        },
        "06d297154f344137ae1854ec50dbd0b4": {
          "model_module": "@jupyter-widgets/controls",
          "model_name": "FloatProgressModel",
          "model_module_version": "2.0.0",
          "state": {
            "_dom_classes": [],
            "_model_module": "@jupyter-widgets/controls",
            "_model_module_version": "2.0.0",
            "_model_name": "FloatProgressModel",
            "_view_count": null,
            "_view_module": "@jupyter-widgets/controls",
            "_view_module_version": "2.0.0",
            "_view_name": "ProgressView",
            "bar_style": "success",
            "description": "",
            "description_allow_html": false,
            "layout": "IPY_MODEL_c1dd3802e45a43c3a24858b46e7ae243",
            "max": 69513243,
            "min": 0,
            "orientation": "horizontal",
            "style": "IPY_MODEL_9bb27d9f66354984a0d18e00d62c4b15",
            "tabbable": null,
            "tooltip": null,
            "value": 69513243
          }
        },
        "9a107e1df744420e916db96c672b3250": {
          "model_module": "@jupyter-widgets/controls",
          "model_name": "HTMLModel",
          "model_module_version": "2.0.0",
          "state": {
            "_dom_classes": [],
            "_model_module": "@jupyter-widgets/controls",
            "_model_module_version": "2.0.0",
            "_model_name": "HTMLModel",
            "_view_count": null,
            "_view_module": "@jupyter-widgets/controls",
            "_view_module_version": "2.0.0",
            "_view_name": "HTMLView",
            "description": "",
            "description_allow_html": false,
            "layout": "IPY_MODEL_d22f9e8cb92843af85ae75ad9c50723a",
            "placeholder": "​",
            "style": "IPY_MODEL_a8af2fa4a8c746d8bb0e1bad7b047699",
            "tabbable": null,
            "tooltip": null,
            "value": " 69513243/69513243 [00:02&lt;00:00, 40481038.96it/s]"
          }
        },
        "b2e27ba8d77d48f786a6fb932ad79411": {
          "model_module": "@jupyter-widgets/base",
          "model_name": "LayoutModel",
          "model_module_version": "2.0.0",
          "state": {
            "_model_module": "@jupyter-widgets/base",
            "_model_module_version": "2.0.0",
            "_model_name": "LayoutModel",
            "_view_count": null,
            "_view_module": "@jupyter-widgets/base",
            "_view_module_version": "2.0.0",
            "_view_name": "LayoutView",
            "align_content": null,
            "align_items": null,
            "align_self": null,
            "border_bottom": null,
            "border_left": null,
            "border_right": null,
            "border_top": null,
            "bottom": null,
            "display": null,
            "flex": null,
            "flex_flow": null,
            "grid_area": null,
            "grid_auto_columns": null,
            "grid_auto_flow": null,
            "grid_auto_rows": null,
            "grid_column": null,
            "grid_gap": null,
            "grid_row": null,
            "grid_template_areas": null,
            "grid_template_columns": null,
            "grid_template_rows": null,
            "height": null,
            "justify_content": null,
            "justify_items": null,
            "left": null,
            "margin": null,
            "max_height": null,
            "max_width": null,
            "min_height": null,
            "min_width": null,
            "object_fit": null,
            "object_position": null,
            "order": null,
            "overflow": null,
            "padding": null,
            "right": null,
            "top": null,
            "visibility": null,
            "width": null
          }
        },
        "82f1e447566c4f2ead11858502c6d657": {
          "model_module": "@jupyter-widgets/base",
          "model_name": "LayoutModel",
          "model_module_version": "2.0.0",
          "state": {
            "_model_module": "@jupyter-widgets/base",
            "_model_module_version": "2.0.0",
            "_model_name": "LayoutModel",
            "_view_count": null,
            "_view_module": "@jupyter-widgets/base",
            "_view_module_version": "2.0.0",
            "_view_name": "LayoutView",
            "align_content": null,
            "align_items": null,
            "align_self": null,
            "border_bottom": null,
            "border_left": null,
            "border_right": null,
            "border_top": null,
            "bottom": null,
            "display": null,
            "flex": null,
            "flex_flow": null,
            "grid_area": null,
            "grid_auto_columns": null,
            "grid_auto_flow": null,
            "grid_auto_rows": null,
            "grid_column": null,
            "grid_gap": null,
            "grid_row": null,
            "grid_template_areas": null,
            "grid_template_columns": null,
            "grid_template_rows": null,
            "height": null,
            "justify_content": null,
            "justify_items": null,
            "left": null,
            "margin": null,
            "max_height": null,
            "max_width": null,
            "min_height": null,
            "min_width": null,
            "object_fit": null,
            "object_position": null,
            "order": null,
            "overflow": null,
            "padding": null,
            "right": null,
            "top": null,
            "visibility": null,
            "width": null
          }
        },
        "b9b56745125d4a37a3297b9a7e2ca989": {
          "model_module": "@jupyter-widgets/controls",
          "model_name": "HTMLStyleModel",
          "model_module_version": "2.0.0",
          "state": {
            "_model_module": "@jupyter-widgets/controls",
            "_model_module_version": "2.0.0",
            "_model_name": "HTMLStyleModel",
            "_view_count": null,
            "_view_module": "@jupyter-widgets/base",
            "_view_module_version": "2.0.0",
            "_view_name": "StyleView",
            "background": null,
            "description_width": "",
            "font_size": null,
            "text_color": null
          }
        },
        "c1dd3802e45a43c3a24858b46e7ae243": {
          "model_module": "@jupyter-widgets/base",
          "model_name": "LayoutModel",
          "model_module_version": "2.0.0",
          "state": {
            "_model_module": "@jupyter-widgets/base",
            "_model_module_version": "2.0.0",
            "_model_name": "LayoutModel",
            "_view_count": null,
            "_view_module": "@jupyter-widgets/base",
            "_view_module_version": "2.0.0",
            "_view_name": "LayoutView",
            "align_content": null,
            "align_items": null,
            "align_self": null,
            "border_bottom": null,
            "border_left": null,
            "border_right": null,
            "border_top": null,
            "bottom": null,
            "display": null,
            "flex": null,
            "flex_flow": null,
            "grid_area": null,
            "grid_auto_columns": null,
            "grid_auto_flow": null,
            "grid_auto_rows": null,
            "grid_column": null,
            "grid_gap": null,
            "grid_row": null,
            "grid_template_areas": null,
            "grid_template_columns": null,
            "grid_template_rows": null,
            "height": null,
            "justify_content": null,
            "justify_items": null,
            "left": null,
            "margin": null,
            "max_height": null,
            "max_width": null,
            "min_height": null,
            "min_width": null,
            "object_fit": null,
            "object_position": null,
            "order": null,
            "overflow": null,
            "padding": null,
            "right": null,
            "top": null,
            "visibility": null,
            "width": null
          }
        },
        "9bb27d9f66354984a0d18e00d62c4b15": {
          "model_module": "@jupyter-widgets/controls",
          "model_name": "ProgressStyleModel",
          "model_module_version": "2.0.0",
          "state": {
            "_model_module": "@jupyter-widgets/controls",
            "_model_module_version": "2.0.0",
            "_model_name": "ProgressStyleModel",
            "_view_count": null,
            "_view_module": "@jupyter-widgets/base",
            "_view_module_version": "2.0.0",
            "_view_name": "StyleView",
            "bar_color": null,
            "description_width": ""
          }
        },
        "d22f9e8cb92843af85ae75ad9c50723a": {
          "model_module": "@jupyter-widgets/base",
          "model_name": "LayoutModel",
          "model_module_version": "2.0.0",
          "state": {
            "_model_module": "@jupyter-widgets/base",
            "_model_module_version": "2.0.0",
            "_model_name": "LayoutModel",
            "_view_count": null,
            "_view_module": "@jupyter-widgets/base",
            "_view_module_version": "2.0.0",
            "_view_name": "LayoutView",
            "align_content": null,
            "align_items": null,
            "align_self": null,
            "border_bottom": null,
            "border_left": null,
            "border_right": null,
            "border_top": null,
            "bottom": null,
            "display": null,
            "flex": null,
            "flex_flow": null,
            "grid_area": null,
            "grid_auto_columns": null,
            "grid_auto_flow": null,
            "grid_auto_rows": null,
            "grid_column": null,
            "grid_gap": null,
            "grid_row": null,
            "grid_template_areas": null,
            "grid_template_columns": null,
            "grid_template_rows": null,
            "height": null,
            "justify_content": null,
            "justify_items": null,
            "left": null,
            "margin": null,
            "max_height": null,
            "max_width": null,
            "min_height": null,
            "min_width": null,
            "object_fit": null,
            "object_position": null,
            "order": null,
            "overflow": null,
            "padding": null,
            "right": null,
            "top": null,
            "visibility": null,
            "width": null
          }
        },
        "a8af2fa4a8c746d8bb0e1bad7b047699": {
          "model_module": "@jupyter-widgets/controls",
          "model_name": "HTMLStyleModel",
          "model_module_version": "2.0.0",
          "state": {
            "_model_module": "@jupyter-widgets/controls",
            "_model_module_version": "2.0.0",
            "_model_name": "HTMLStyleModel",
            "_view_count": null,
            "_view_module": "@jupyter-widgets/base",
            "_view_module_version": "2.0.0",
            "_view_name": "StyleView",
            "background": null,
            "description_width": "",
            "font_size": null,
            "text_color": null
          }
        },
        "5429ac1fc34441c9b0728f76b604f746": {
          "model_module": "@jupyter-widgets/controls",
          "model_name": "HBoxModel",
          "model_module_version": "2.0.0",
          "state": {
            "_dom_classes": [],
            "_model_module": "@jupyter-widgets/controls",
            "_model_module_version": "2.0.0",
            "_model_name": "HBoxModel",
            "_view_count": null,
            "_view_module": "@jupyter-widgets/controls",
            "_view_module_version": "2.0.0",
            "_view_name": "HBoxView",
            "box_style": "",
            "children": [
              "IPY_MODEL_18ba5bf4d27443e6830cc57216793aa3",
              "IPY_MODEL_36e6454a75d04151a0af1a2b4fce2059",
              "IPY_MODEL_a3d802309c91472895f1413ef1546f7f"
            ],
            "layout": "IPY_MODEL_0740d2b35427479ab34e514b91dd6e24",
            "tabbable": null,
            "tooltip": null
          }
        },
        "18ba5bf4d27443e6830cc57216793aa3": {
          "model_module": "@jupyter-widgets/controls",
          "model_name": "HTMLModel",
          "model_module_version": "2.0.0",
          "state": {
            "_dom_classes": [],
            "_model_module": "@jupyter-widgets/controls",
            "_model_module_version": "2.0.0",
            "_model_name": "HTMLModel",
            "_view_count": null,
            "_view_module": "@jupyter-widgets/controls",
            "_view_module_version": "2.0.0",
            "_view_name": "HTMLView",
            "description": "",
            "description_allow_html": false,
            "layout": "IPY_MODEL_80bfd3347a4d40f9a16c3c08d0440d98",
            "placeholder": "​",
            "style": "IPY_MODEL_a2692681579a4de8b98c017ce51162f2",
            "tabbable": null,
            "tooltip": null,
            "value": "Extracting o-vs-r-split.tar.gz: 100%"
          }
        },
        "36e6454a75d04151a0af1a2b4fce2059": {
          "model_module": "@jupyter-widgets/controls",
          "model_name": "FloatProgressModel",
          "model_module_version": "2.0.0",
          "state": {
            "_dom_classes": [],
            "_model_module": "@jupyter-widgets/controls",
            "_model_module_version": "2.0.0",
            "_model_name": "FloatProgressModel",
            "_view_count": null,
            "_view_module": "@jupyter-widgets/controls",
            "_view_module_version": "2.0.0",
            "_view_name": "ProgressView",
            "bar_style": "success",
            "description": "",
            "description_allow_html": false,
            "layout": "IPY_MODEL_5571db391bef47e6a5ec4f86b4a977ca",
            "max": 8097,
            "min": 0,
            "orientation": "horizontal",
            "style": "IPY_MODEL_c5c4318dc6594fa9b5dff6a8875ea185",
            "tabbable": null,
            "tooltip": null,
            "value": 8097
          }
        },
        "a3d802309c91472895f1413ef1546f7f": {
          "model_module": "@jupyter-widgets/controls",
          "model_name": "HTMLModel",
          "model_module_version": "2.0.0",
          "state": {
            "_dom_classes": [],
            "_model_module": "@jupyter-widgets/controls",
            "_model_module_version": "2.0.0",
            "_model_name": "HTMLModel",
            "_view_count": null,
            "_view_module": "@jupyter-widgets/controls",
            "_view_module_version": "2.0.0",
            "_view_name": "HTMLView",
            "description": "",
            "description_allow_html": false,
            "layout": "IPY_MODEL_5127c48c58a74894ad22d31a7a113beb",
            "placeholder": "​",
            "style": "IPY_MODEL_0261031f8f97427a8d565582e21e7adf",
            "tabbable": null,
            "tooltip": null,
            "value": " 8097/8097 [00:02&lt;00:00, 3627.62it/s]"
          }
        },
        "0740d2b35427479ab34e514b91dd6e24": {
          "model_module": "@jupyter-widgets/base",
          "model_name": "LayoutModel",
          "model_module_version": "2.0.0",
          "state": {
            "_model_module": "@jupyter-widgets/base",
            "_model_module_version": "2.0.0",
            "_model_name": "LayoutModel",
            "_view_count": null,
            "_view_module": "@jupyter-widgets/base",
            "_view_module_version": "2.0.0",
            "_view_name": "LayoutView",
            "align_content": null,
            "align_items": null,
            "align_self": null,
            "border_bottom": null,
            "border_left": null,
            "border_right": null,
            "border_top": null,
            "bottom": null,
            "display": null,
            "flex": null,
            "flex_flow": null,
            "grid_area": null,
            "grid_auto_columns": null,
            "grid_auto_flow": null,
            "grid_auto_rows": null,
            "grid_column": null,
            "grid_gap": null,
            "grid_row": null,
            "grid_template_areas": null,
            "grid_template_columns": null,
            "grid_template_rows": null,
            "height": null,
            "justify_content": null,
            "justify_items": null,
            "left": null,
            "margin": null,
            "max_height": null,
            "max_width": null,
            "min_height": null,
            "min_width": null,
            "object_fit": null,
            "object_position": null,
            "order": null,
            "overflow": null,
            "padding": null,
            "right": null,
            "top": null,
            "visibility": null,
            "width": null
          }
        },
        "80bfd3347a4d40f9a16c3c08d0440d98": {
          "model_module": "@jupyter-widgets/base",
          "model_name": "LayoutModel",
          "model_module_version": "2.0.0",
          "state": {
            "_model_module": "@jupyter-widgets/base",
            "_model_module_version": "2.0.0",
            "_model_name": "LayoutModel",
            "_view_count": null,
            "_view_module": "@jupyter-widgets/base",
            "_view_module_version": "2.0.0",
            "_view_name": "LayoutView",
            "align_content": null,
            "align_items": null,
            "align_self": null,
            "border_bottom": null,
            "border_left": null,
            "border_right": null,
            "border_top": null,
            "bottom": null,
            "display": null,
            "flex": null,
            "flex_flow": null,
            "grid_area": null,
            "grid_auto_columns": null,
            "grid_auto_flow": null,
            "grid_auto_rows": null,
            "grid_column": null,
            "grid_gap": null,
            "grid_row": null,
            "grid_template_areas": null,
            "grid_template_columns": null,
            "grid_template_rows": null,
            "height": null,
            "justify_content": null,
            "justify_items": null,
            "left": null,
            "margin": null,
            "max_height": null,
            "max_width": null,
            "min_height": null,
            "min_width": null,
            "object_fit": null,
            "object_position": null,
            "order": null,
            "overflow": null,
            "padding": null,
            "right": null,
            "top": null,
            "visibility": null,
            "width": null
          }
        },
        "a2692681579a4de8b98c017ce51162f2": {
          "model_module": "@jupyter-widgets/controls",
          "model_name": "HTMLStyleModel",
          "model_module_version": "2.0.0",
          "state": {
            "_model_module": "@jupyter-widgets/controls",
            "_model_module_version": "2.0.0",
            "_model_name": "HTMLStyleModel",
            "_view_count": null,
            "_view_module": "@jupyter-widgets/base",
            "_view_module_version": "2.0.0",
            "_view_name": "StyleView",
            "background": null,
            "description_width": "",
            "font_size": null,
            "text_color": null
          }
        },
        "5571db391bef47e6a5ec4f86b4a977ca": {
          "model_module": "@jupyter-widgets/base",
          "model_name": "LayoutModel",
          "model_module_version": "2.0.0",
          "state": {
            "_model_module": "@jupyter-widgets/base",
            "_model_module_version": "2.0.0",
            "_model_name": "LayoutModel",
            "_view_count": null,
            "_view_module": "@jupyter-widgets/base",
            "_view_module_version": "2.0.0",
            "_view_name": "LayoutView",
            "align_content": null,
            "align_items": null,
            "align_self": null,
            "border_bottom": null,
            "border_left": null,
            "border_right": null,
            "border_top": null,
            "bottom": null,
            "display": null,
            "flex": null,
            "flex_flow": null,
            "grid_area": null,
            "grid_auto_columns": null,
            "grid_auto_flow": null,
            "grid_auto_rows": null,
            "grid_column": null,
            "grid_gap": null,
            "grid_row": null,
            "grid_template_areas": null,
            "grid_template_columns": null,
            "grid_template_rows": null,
            "height": null,
            "justify_content": null,
            "justify_items": null,
            "left": null,
            "margin": null,
            "max_height": null,
            "max_width": null,
            "min_height": null,
            "min_width": null,
            "object_fit": null,
            "object_position": null,
            "order": null,
            "overflow": null,
            "padding": null,
            "right": null,
            "top": null,
            "visibility": null,
            "width": null
          }
        },
        "c5c4318dc6594fa9b5dff6a8875ea185": {
          "model_module": "@jupyter-widgets/controls",
          "model_name": "ProgressStyleModel",
          "model_module_version": "2.0.0",
          "state": {
            "_model_module": "@jupyter-widgets/controls",
            "_model_module_version": "2.0.0",
            "_model_name": "ProgressStyleModel",
            "_view_count": null,
            "_view_module": "@jupyter-widgets/base",
            "_view_module_version": "2.0.0",
            "_view_name": "StyleView",
            "bar_color": null,
            "description_width": ""
          }
        },
        "5127c48c58a74894ad22d31a7a113beb": {
          "model_module": "@jupyter-widgets/base",
          "model_name": "LayoutModel",
          "model_module_version": "2.0.0",
          "state": {
            "_model_module": "@jupyter-widgets/base",
            "_model_module_version": "2.0.0",
            "_model_name": "LayoutModel",
            "_view_count": null,
            "_view_module": "@jupyter-widgets/base",
            "_view_module_version": "2.0.0",
            "_view_name": "LayoutView",
            "align_content": null,
            "align_items": null,
            "align_self": null,
            "border_bottom": null,
            "border_left": null,
            "border_right": null,
            "border_top": null,
            "bottom": null,
            "display": null,
            "flex": null,
            "flex_flow": null,
            "grid_area": null,
            "grid_auto_columns": null,
            "grid_auto_flow": null,
            "grid_auto_rows": null,
            "grid_column": null,
            "grid_gap": null,
            "grid_row": null,
            "grid_template_areas": null,
            "grid_template_columns": null,
            "grid_template_rows": null,
            "height": null,
            "justify_content": null,
            "justify_items": null,
            "left": null,
            "margin": null,
            "max_height": null,
            "max_width": null,
            "min_height": null,
            "min_width": null,
            "object_fit": null,
            "object_position": null,
            "order": null,
            "overflow": null,
            "padding": null,
            "right": null,
            "top": null,
            "visibility": null,
            "width": null
          }
        },
        "0261031f8f97427a8d565582e21e7adf": {
          "model_module": "@jupyter-widgets/controls",
          "model_name": "HTMLStyleModel",
          "model_module_version": "2.0.0",
          "state": {
            "_model_module": "@jupyter-widgets/controls",
            "_model_module_version": "2.0.0",
            "_model_name": "HTMLStyleModel",
            "_view_count": null,
            "_view_module": "@jupyter-widgets/base",
            "_view_module_version": "2.0.0",
            "_view_name": "StyleView",
            "background": null,
            "description_width": "",
            "font_size": null,
            "text_color": null
          }
        }
      }
    }
  },
  "nbformat": 4,
  "nbformat_minor": 0
}