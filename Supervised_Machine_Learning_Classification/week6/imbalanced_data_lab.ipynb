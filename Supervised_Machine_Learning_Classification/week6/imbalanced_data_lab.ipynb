{
 "cells": [
  {
   "cell_type": "markdown",
   "metadata": {},
   "source": [
    "<p style=\"text-align:center\">\n",
    "    <a href=\"https://skills.network/?utm_medium=Exinfluencer&utm_source=Exinfluencer&utm_content=000026UJ&utm_term=10006555&utm_id=NA-SkillsNetwork-Channel-SkillsNetworkCoursesIBMML241ENSkillsNetwork820-2023-01-01\">\n",
    "    <img src=\"https://cf-courses-data.s3.us.cloud-object-storage.appdomain.cloud/assets/logos/SN_web_lightmode.png\" width=\"200\" alt=\"Skills Network Logo\"  />\n",
    "    </a>\n",
    "</p>\n"
   ]
  },
  {
   "cell_type": "markdown",
   "metadata": {},
   "source": [
    "# **Tackle Imbalanced Data Challenge**\n"
   ]
  },
  {
   "cell_type": "markdown",
   "metadata": {},
   "source": [
    "Estimated time needed: **60** minutes\n"
   ]
  },
  {
   "cell_type": "markdown",
   "metadata": {},
   "source": [
    "In this lab, you will identify the imbalanced data problems in four binary classification scenarios, all with skewed class distributions: \n"
   ]
  },
  {
   "cell_type": "markdown",
   "metadata": {},
   "source": [
    "| Task Name     | Class Ratio (Negative vs. Positive)  |\n",
    "| ------------- |:-------------:|\n",
    "| _Credit Card Fraud Detection_      | ~1000 : 1      | \n",
    "| _Predicting Customer Churn_ | ~5 : 1      | \n",
    "| _Tumor Type Estimation_ | ~2 : 1     | \n",
    "| _Predicting Job Change_ | ~10 : 1      | \n"
   ]
  },
  {
   "cell_type": "markdown",
   "metadata": {},
   "source": [
    "Next, you will try to tackle the imbalanced data challenges in the above tasks using class weighting and resampling methods:\n",
    "- Effective class weighting strategies will assign minority class with more weights, so that it may have a larger impact on the model training process\n",
    "- Resampling methods will generate synthetic datasets from the original datasets\n"
   ]
  },
  {
   "cell_type": "markdown",
   "metadata": {},
   "source": [
    "## Objectives\n"
   ]
  },
  {
   "cell_type": "markdown",
   "metadata": {},
   "source": [
    "After completing this lab you will be able to:\n"
   ]
  },
  {
   "cell_type": "markdown",
   "metadata": {},
   "source": [
    "* Identify typical patterns of imbalanced data challenges\n",
    "* Apply `Class Re-weighting` method to adjust the impacts of different classes in model training processes\n",
    "* Apply `Oversampling` and `Undersampling` to generate synthetic datasets and rebalance classes\n",
    "* Evaluate your consolidated classifiers using robust metrics such as `F-score` and `AUC`\n"
   ]
  },
  {
   "cell_type": "code",
   "execution_count": 4,
   "metadata": {},
   "outputs": [],
   "source": [
    "import pandas as pd\n",
    "import numpy as np\n",
    "import imblearn\n",
    "from imblearn.under_sampling import RandomUnderSampler\n",
    "import matplotlib.pyplot as plt\n",
    "from sklearn.utils import shuffle\n",
    "from sklearn.preprocessing import OneHotEncoder, LabelEncoder, MinMaxScaler\n",
    "from sklearn.impute import SimpleImputer, KNNImputer\n",
    "from sklearn.inspection import permutation_importance\n",
    "from sklearn.model_selection import train_test_split, learning_curve, GridSearchCV\n",
    "from sklearn.linear_model import LogisticRegression\n",
    "from sklearn.tree import DecisionTreeClassifier\n",
    "from sklearn.metrics import classification_report, accuracy_score, precision_recall_fscore_support, confusion_matrix, roc_auc_score\n",
    "from sklearn.ensemble import RandomForestClassifier, GradientBoostingClassifier\n",
    "from collections import Counter"
   ]
  },
  {
   "cell_type": "markdown",
   "metadata": {},
   "source": [
    "Grid Search CV Methods."
   ]
  },
  {
   "cell_type": "code",
   "execution_count": 5,
   "metadata": {},
   "outputs": [],
   "source": [
    "RANDOM_STATE = 123"
   ]
  },
  {
   "cell_type": "code",
   "execution_count": 6,
   "metadata": {},
   "outputs": [],
   "source": [
    "def grid_search_lr(X_train, y_train, random_state=RANDOM_STATE):\n",
    "    param_grid = {\n",
    "        'class_weight': [\n",
    "            {0: 0.05, 1: 0.95},\n",
    "            {0: 0.1, 1: 0.9},\n",
    "            {0: 0.2, 1: 0.8}\n",
    "        ]\n",
    "    }\n",
    "    lr_model = LogisticRegression(random_state=random_state, max_iter=1000)\n",
    "    grid_search = GridSearchCV(\n",
    "        estimator=lr_model,\n",
    "        param_grid=param_grid,\n",
    "        scoring='f1',\n",
    "        cv=5,\n",
    "        verbose=True\n",
    "    )\n",
    "    grid_search.fit(X_train, y_train)\n",
    "    best_params = grid_search.best_params_\n",
    "    return best_params\n",
    "\n",
    "def grid_search_rf(X_train, y_train, random_state=RANDOM_STATE):\n",
    "    param_grid = {\n",
    "        'max_depth': [5, 10, 15, 20],\n",
    "        'n_estimators': [25, 50, 100],\n",
    "        'min_samples_split': [2, 5],\n",
    "        'class_weight': [\n",
    "            {0: 0.1, 1: 0.9},\n",
    "            {0: 0.2, 1: 0.8},\n",
    "            {0: 0.3, 1: 0.7}\n",
    "        ]\n",
    "    }\n",
    "    rf_model = RandomForestClassifier(random_state=random_state)\n",
    "    grid_search = GridSearchCV(\n",
    "        estimator=rf_model,\n",
    "        param_grid=param_grid,\n",
    "        scoring='f1',\n",
    "        cv=5,\n",
    "        verbose=True\n",
    "    )\n",
    "    grid_search.fit(X_train, y_train)\n",
    "    best_params = grid_search.best_params_\n",
    "    return best_params"
   ]
  },
  {
   "cell_type": "code",
   "execution_count": 7,
   "metadata": {},
   "outputs": [],
   "source": [
    "def split_data(df, y_column, random_state=RANDOM_STATE):\n",
    "    X = df.drop(y_column, axis=1)\n",
    "    y = df[y_column]\n",
    "    return train_test_split(X, y, test_size=0.2, stratify=y, random_state=random_state)"
   ]
  },
  {
   "cell_type": "markdown",
   "metadata": {},
   "source": [
    "## Scenario: Credit Card Fraud Detection\n",
    "\n",
    "Let's start with a credit card fraud detection scenario.\n",
    "The dataset contains transactions made by credit cards. As you can imagine, the majority of transactions are normal and only a very few real fraud transactions are in the dataset. Our goal is to train a classification model to recognize those fraudulent credit card transactions.\n"
   ]
  },
  {
   "cell_type": "code",
   "execution_count": 8,
   "metadata": {},
   "outputs": [],
   "source": [
    "credit_df = pd.read_csv(\"https://cf-courses-data.s3.us.cloud-object-storage.appdomain.cloud/IBM-ML201EN-SkillsNetwork/labs/module_4/datasets/im_credit.csv\", index_col=False)"
   ]
  },
  {
   "cell_type": "code",
   "execution_count": 9,
   "metadata": {},
   "outputs": [
    {
     "data": {
      "text/html": [
       "<div>\n",
       "<style scoped>\n",
       "    .dataframe tbody tr th:only-of-type {\n",
       "        vertical-align: middle;\n",
       "    }\n",
       "\n",
       "    .dataframe tbody tr th {\n",
       "        vertical-align: top;\n",
       "    }\n",
       "\n",
       "    .dataframe thead th {\n",
       "        text-align: right;\n",
       "    }\n",
       "</style>\n",
       "<table border=\"1\" class=\"dataframe\">\n",
       "  <thead>\n",
       "    <tr style=\"text-align: right;\">\n",
       "      <th></th>\n",
       "      <th>V14</th>\n",
       "      <th>V17</th>\n",
       "      <th>V4</th>\n",
       "      <th>V10</th>\n",
       "      <th>V28</th>\n",
       "      <th>Class</th>\n",
       "    </tr>\n",
       "  </thead>\n",
       "  <tbody>\n",
       "    <tr>\n",
       "      <th>0</th>\n",
       "      <td>0.423619</td>\n",
       "      <td>-0.210863</td>\n",
       "      <td>0.933459</td>\n",
       "      <td>0.027866</td>\n",
       "      <td>0.019308</td>\n",
       "      <td>0</td>\n",
       "    </tr>\n",
       "    <tr>\n",
       "      <th>1</th>\n",
       "      <td>0.986727</td>\n",
       "      <td>0.174009</td>\n",
       "      <td>-2.019905</td>\n",
       "      <td>-1.620065</td>\n",
       "      <td>-0.307753</td>\n",
       "      <td>0</td>\n",
       "    </tr>\n",
       "    <tr>\n",
       "      <th>2</th>\n",
       "      <td>-0.023094</td>\n",
       "      <td>-0.541985</td>\n",
       "      <td>-0.902618</td>\n",
       "      <td>-0.192212</td>\n",
       "      <td>-0.048965</td>\n",
       "      <td>0</td>\n",
       "    </tr>\n",
       "    <tr>\n",
       "      <th>3</th>\n",
       "      <td>-0.152111</td>\n",
       "      <td>-0.615094</td>\n",
       "      <td>1.276126</td>\n",
       "      <td>-0.026822</td>\n",
       "      <td>0.044480</td>\n",
       "      <td>0</td>\n",
       "    </tr>\n",
       "    <tr>\n",
       "      <th>4</th>\n",
       "      <td>-0.535807</td>\n",
       "      <td>-0.248563</td>\n",
       "      <td>4.517539</td>\n",
       "      <td>1.871441</td>\n",
       "      <td>0.120955</td>\n",
       "      <td>0</td>\n",
       "    </tr>\n",
       "  </tbody>\n",
       "</table>\n",
       "</div>"
      ],
      "text/plain": [
       "        V14       V17        V4       V10       V28  Class\n",
       "0  0.423619 -0.210863  0.933459  0.027866  0.019308      0\n",
       "1  0.986727  0.174009 -2.019905 -1.620065 -0.307753      0\n",
       "2 -0.023094 -0.541985 -0.902618 -0.192212 -0.048965      0\n",
       "3 -0.152111 -0.615094  1.276126 -0.026822  0.044480      0\n",
       "4 -0.535807 -0.248563  4.517539  1.871441  0.120955      0"
      ]
     },
     "execution_count": 9,
     "metadata": {},
     "output_type": "execute_result"
    }
   ],
   "source": [
    "credit_df.head()"
   ]
  },
  {
   "cell_type": "code",
   "execution_count": 10,
   "metadata": {},
   "outputs": [],
   "source": [
    "Y_COLUMN = 'Class'"
   ]
  },
  {
   "cell_type": "code",
   "execution_count": 11,
   "metadata": {},
   "outputs": [
    {
     "data": {
      "text/plain": [
       "Class\n",
       "0    0.999001\n",
       "1    0.000999\n",
       "Name: proportion, dtype: float64"
      ]
     },
     "execution_count": 11,
     "metadata": {},
     "output_type": "execute_result"
    }
   ],
   "source": [
    "credit_df[Y_COLUMN].value_counts(normalize=True)"
   ]
  },
  {
   "cell_type": "code",
   "execution_count": 12,
   "metadata": {},
   "outputs": [
    {
     "data": {
      "text/plain": [
       "<Axes: xlabel='Class'>"
      ]
     },
     "execution_count": 12,
     "metadata": {},
     "output_type": "execute_result"
    },
    {
     "data": {
      "image/png": "[encoded data removed]",
      "text/plain": [
       "<Figure size 640x480 with 1 Axes>"
      ]
     },
     "metadata": {},
     "output_type": "display_data"
    }
   ],
   "source": [
    "credit_df[Y_COLUMN].value_counts().plot.bar(color=['green', 'red'])"
   ]
  },
  {
   "cell_type": "markdown",
   "metadata": {},
   "source": [
    "As you can see, we only have about 0.001% fraud transactions in the dataset and you can not even see it on the previous bar chart! This is an extremely imbalanced dataset."
   ]
  },
  {
   "cell_type": "code",
   "execution_count": 13,
   "metadata": {},
   "outputs": [],
   "source": [
    "X_train, X_test, y_train, y_test = split_data(credit_df, Y_COLUMN)"
   ]
  },
  {
   "cell_type": "code",
   "execution_count": 14,
   "metadata": {},
   "outputs": [],
   "source": [
    "model = LogisticRegression(random_state=RANDOM_STATE,\n",
    "                           max_iter=1000)\n",
    "model.fit(X_train, y_train)\n",
    "preds = model.predict(X_test)"
   ]
  },
  {
   "cell_type": "code",
   "execution_count": 15,
   "metadata": {},
   "outputs": [
    {
     "data": {
      "text/plain": [
       "0.9992757242757243"
      ]
     },
     "execution_count": 15,
     "metadata": {},
     "output_type": "execute_result"
    }
   ],
   "source": [
    "accuracy_score(y_test, preds)"
   ]
  },
  {
   "cell_type": "markdown",
   "metadata": {},
   "source": [
    "OK, it achieves 99% prediction accuracy on the test dataset, looks like a great model! Before concluding we have found a simple and great model to detect credit card frauds, let's try other metrics first.\n"
   ]
  },
  {
   "cell_type": "markdown",
   "metadata": {},
   "source": [
    "### More Robust Evaluation Metrics\n"
   ]
  },
  {
   "cell_type": "markdown",
   "metadata": {},
   "source": [
    "Here are some effective robust binary classification evaluation metrics such as Precision, Recall, and Fscore, which can be defined as follows:\n"
   ]
  },
  {
   "cell_type": "markdown",
   "metadata": {},
   "source": [
    "- `Precision`: the percentage of accurately predicted positive instances\n",
    "\n",
    "- `Recall`: the percentage of successfully recognized positive instances\n",
    "\n",
    "- `Fscore`: can also be called F-beta score, which is a weighted average of precision and recall to evaluate the model. The weights between recall and precision are controlled by the `beta`  parameter, the default value is 1 so the most common F-beta is F1 score\n"
   ]
  },
  {
   "cell_type": "markdown",
   "metadata": {},
   "source": [
    "<center>\n",
    "    <img src=\"https://cf-courses-data.s3.us.cloud-object-storage.appdomain.cloud/IBM-ML201EN-SkillsNetwork/labs/module_4/images/evaluation_metrics.png\" width=\"720\" alt=\"evaluation metrics\">\n",
    "</center>\n"
   ]
  },
  {
   "cell_type": "markdown",
   "metadata": {},
   "source": [
    "In addition, the plot of True positive rate and false positive ratio under different thresholds, known as Receiver operating characteristic `ROC` and its associated Area Under the Curve `AUC` are also reliable metrics.\n"
   ]
  },
  {
   "cell_type": "code",
   "execution_count": 52,
   "metadata": {},
   "outputs": [],
   "source": [
    "def print_classification_metrics(y_true, y_pred, target='Original'):\n",
    "    accuracy = accuracy_score(y_true, y_pred)\n",
    "    precision, recall, fbeta, support = precision_recall_fscore_support(y_true, y_pred, beta=5, pos_label=1, average='binary')\n",
    "    auc = roc_auc_score(y_test, preds)\n",
    "    print(f\"Accuracy is: {accuracy:.2f}\")\n",
    "    print(f\"Precision is: {precision:.2f}\")\n",
    "    print(f\"Recall is: {recall:.2f}\")\n",
    "    print(f\"Fscore is: {fbeta:.2f}\")\n",
    "    print(f\"AUC is: {auc:.2f}\")\n",
    "    return {\n",
    "        'target': target,\n",
    "        'accuracy': accuracy,\n",
    "        'precision': precision,\n",
    "        'recall': recall,\n",
    "        'f-score': fbeta,\n",
    "        'auc': auc\n",
    "    }"
   ]
  },
  {
   "cell_type": "code",
   "execution_count": 53,
   "metadata": {},
   "outputs": [
    {
     "name": "stdout",
     "output_type": "stream",
     "text": [
      "Accuracy is: 0.86\n",
      "Precision is: 0.68\n",
      "Recall is: 0.28\n",
      "Fscore is: 0.29\n",
      "AUC is: 0.63\n"
     ]
    }
   ],
   "source": [
    "original = print_classification_metrics(y_test, preds)"
   ]
  },
  {
   "cell_type": "markdown",
   "metadata": {},
   "source": [
    "For many machine learning tasks on imbalanced datasets, like this credit card fraud detection, we normally care more about recall than precision. As a baseline, we want the model to be able to find all frauds and we would allow the model to make false-positive errors because the cost of false positives is usually not very high (maybe just costs a false notification email or phone call to confirm with customers). On the other hand, failing to recognize positive examples (such as fraud or a deadly disease) can be life-threatening \n",
    "\n",
    "As such, our priority is to improve the model's recall, then we will also want to keep precision as high as possible. \n"
   ]
  },
  {
   "cell_type": "markdown",
   "metadata": {},
   "source": [
    "### Synthetic Minority Oversampling Technique (SMOTE)\n"
   ]
  },
  {
   "cell_type": "markdown",
   "metadata": {},
   "source": [
    "SMOTE first creates many pairs or small clusters with two or more similar instances, the measure by instance distance such as Euclidean distance.\n",
    "Then, within the boundary of each pair or cluster, SMOTE uniformly permutes features value, one feature at a time, to populate a collection of similar synthesized instances within each pair or cluster.\n",
    "\n",
    "As a result, SMOTE creates a class-balanced synthetic dataset without adding duplicated instances with minority labels. \n"
   ]
  },
  {
   "cell_type": "markdown",
   "metadata": {},
   "source": [
    "The `imblearn` package provides us with many effective samplers including `SMOTE`, `RandomOverSampler`, and `RandomUnderSampler`. Let's use its `SMOTE` class to define a SMOTE sampler first\n"
   ]
  },
  {
   "cell_type": "code",
   "execution_count": 18,
   "metadata": {},
   "outputs": [],
   "source": [
    "from imblearn.over_sampling import RandomOverSampler, SMOTE"
   ]
  },
  {
   "cell_type": "code",
   "execution_count": 19,
   "metadata": {},
   "outputs": [],
   "source": [
    "smote_sampler = SMOTE(random_state=RANDOM_STATE)"
   ]
  },
  {
   "cell_type": "code",
   "execution_count": 20,
   "metadata": {},
   "outputs": [],
   "source": [
    "X_smo, y_smo = smote_sampler.fit_resample(X_train, y_train)"
   ]
  },
  {
   "cell_type": "code",
   "execution_count": 21,
   "metadata": {},
   "outputs": [
    {
     "data": {
      "text/plain": [
       "<Axes: xlabel='Class'>"
      ]
     },
     "execution_count": 21,
     "metadata": {},
     "output_type": "execute_result"
    },
    {
     "data": {
      "image/png": "[encoded data removed]",
      "text/plain": [
       "<Figure size 640x480 with 1 Axes>"
      ]
     },
     "metadata": {},
     "output_type": "display_data"
    }
   ],
   "source": [
    "y_smo.value_counts().plot.bar(color=['green', 'red'])"
   ]
  },
  {
   "cell_type": "code",
   "execution_count": 22,
   "metadata": {},
   "outputs": [],
   "source": [
    "model.fit(X_smo, y_smo)\n",
    "preds = model.predict(X_test)"
   ]
  },
  {
   "cell_type": "code",
   "execution_count": 54,
   "metadata": {},
   "outputs": [
    {
     "name": "stdout",
     "output_type": "stream",
     "text": [
      "Accuracy is: 0.86\n",
      "Precision is: 0.68\n",
      "Recall is: 0.28\n",
      "Fscore is: 0.29\n",
      "AUC is: 0.63\n"
     ]
    }
   ],
   "source": [
    "smo = print_classification_metrics(y_test, preds, 'SMOTE')"
   ]
  },
  {
   "cell_type": "markdown",
   "metadata": {},
   "source": [
    "First, we can see AUC is improved from 0.72 to 0.91, this is a good sign as SMOTE improves model classification ability.\n"
   ]
  },
  {
   "cell_type": "markdown",
   "metadata": {},
   "source": [
    "Next, let's take a look at the recall. The recall is now 0.88, mostly two times larger than the original recall value of 0.45. \n"
   ]
  },
  {
   "cell_type": "markdown",
   "metadata": {},
   "source": [
    "However, our model's precision is only 0.03. One possible reason is our dataset was extremely skewed, and oversampling the minority class significantly disrupts the original data distribution so that the model trained on the SMOTE dataset generates large false positives on the test dataset sampled from the original dataset.\n"
   ]
  },
  {
   "cell_type": "markdown",
   "metadata": {},
   "source": [
    "As such, for an extremely skewed dataset, we generally do not use oversampling as it significantly shifts the original data distribution. \n"
   ]
  },
  {
   "cell_type": "markdown",
   "metadata": {},
   "source": [
    "Next, let's try class re-weighting to see if it can achieve better results than SMOTE in terms of Precision, Recall, and Fscore.\n"
   ]
  },
  {
   "cell_type": "markdown",
   "metadata": {},
   "source": [
    "### Class reweighting\n"
   ]
  },
  {
   "cell_type": "markdown",
   "metadata": {},
   "source": [
    "For binary classification models, its loss function is normally calculated via a sum of the loss with respect to class 0 and the loss with respect to class 1. By default, their class weights are all 1s meaning we treat each class equally important.\n",
    "\n",
    "However, since the class distribution is skewed in imbalanced datasets and the loss function optimization process will be dominated by the majority class, we want to help the minority class by increasing its class weight in the loss function.\n"
   ]
  },
  {
   "cell_type": "markdown",
   "metadata": {},
   "source": [
    "Class weights can be generally calculated via the following three strategies:\n"
   ]
  },
  {
   "cell_type": "markdown",
   "metadata": {},
   "source": [
    "- Based on their instances portion in the dataset. For example, if positive instances only take 10% of the dataset, we assign its weight to be 0.9 and weight for the majority class to be 0.1\n",
    "- Heuristics or domain knowledge. Misclassification normally has different costs per class, for example, the cost of failure to diagnose a disease is much higher than a false positive diagnose. If we already know such misclassification costs beforehand, we may use them to assign class weights\n",
    "- Hyper-parameter tuning. Standard hyper-parameter tuning methods can be used to find optimized class weights. For example, grid searching from 0.1 to 0.9 for positive class weight to find out which hyperparameter combination generates the best model.\n"
   ]
  },
  {
   "cell_type": "markdown",
   "metadata": {},
   "source": [
    "Python `sklearn` package provides a very convenient way to adjust class weights during model training via providing a class weight argument. Many standard classifiers in `sklearn` such as `LogisticRegression` and `RandomForestClassifier` support class reweighting natively.\n"
   ]
  },
  {
   "cell_type": "markdown",
   "metadata": {},
   "source": [
    "Let see an example of class reweighting in `LogisticRegression`:\n"
   ]
  },
  {
   "cell_type": "code",
   "execution_count": 24,
   "metadata": {},
   "outputs": [],
   "source": [
    "class_weight = {0: 0.1, 1: 0.9}"
   ]
  },
  {
   "cell_type": "markdown",
   "metadata": {},
   "source": [
    "Note that `0.1 vs. 0.9` is a pre-tuned weight combination, you could check the provided `grid_search_lr()` method at the beginning of this lab and use it to tune the optimized class weights yourself.\n"
   ]
  },
  {
   "cell_type": "markdown",
   "metadata": {},
   "source": [
    "Next, let's use the class weight dict in a `LogisticRegression` model by specifying its `class_weight` argument.\n"
   ]
  },
  {
   "cell_type": "code",
   "execution_count": 25,
   "metadata": {},
   "outputs": [],
   "source": [
    "model = LogisticRegression(\n",
    "    random_state=RANDOM_STATE,\n",
    "    max_iter=1000,\n",
    "    class_weight=class_weight\n",
    ")"
   ]
  },
  {
   "cell_type": "markdown",
   "metadata": {},
   "source": [
    "During the training process, the positive instance will have much larger influence on reducing the total loss and weight updates. The trained classifier will be enhanced to recognize positive instances (increase recall). \n"
   ]
  },
  {
   "cell_type": "code",
   "execution_count": 26,
   "metadata": {},
   "outputs": [],
   "source": [
    "model.fit(X_train, y_train)\n",
    "preds = model.predict(X_test)"
   ]
  },
  {
   "cell_type": "code",
   "execution_count": 55,
   "metadata": {},
   "outputs": [
    {
     "name": "stdout",
     "output_type": "stream",
     "text": [
      "Accuracy is: 0.86\n",
      "Precision is: 0.68\n",
      "Recall is: 0.28\n",
      "Fscore is: 0.29\n",
      "AUC is: 0.63\n"
     ]
    }
   ],
   "source": [
    "class_weight = print_classification_metrics(y_test, preds, 'Class Weight')"
   ]
  },
  {
   "cell_type": "markdown",
   "metadata": {},
   "source": [
    "As you can see, we have much balanced `Precision` and `Recall` values. It indicates that, for an extremely imbalanced dataset like credit card fraud detection, often class reweighting is a better strategy than oversampling. Since undersampling will significantly shrink the training dataset, we normally do not use undersampling for an extremely imbalanced dataset.\n"
   ]
  },
  {
   "cell_type": "markdown",
   "metadata": {},
   "source": [
    "To summarize the findings from the credit card fraud detection task:\n",
    "- All models have very high accuracy and AUC values but this does not always mean they have good prediction performance, especially for classifying the fraud cases\n",
    "- Classification on an extremly imbalanced dataset is usually a hard task, especially if we want to have both high recall and precision values\n",
    "- `SMOTE` can achieve high recall but extremely low precision due to the caused disruptions of original data distribution\n",
    "- Class reweighting can achieve a more balanced recall and precision value\n"
   ]
  },
  {
   "cell_type": "markdown",
   "metadata": {},
   "source": [
    "Next, let's consolidate your understandings about the imbalanced data challenge with a few more imbalanced classification scenarios.\n"
   ]
  },
  {
   "cell_type": "markdown",
   "metadata": {},
   "source": [
    "## Some utility model training and evaluation methods \n"
   ]
  },
  {
   "cell_type": "code",
   "execution_count": 28,
   "metadata": {},
   "outputs": [],
   "source": [
    "def build_lr(X_train, y_train, X_test, threshold=0.5, random_state=RANDOM_STATE, best_params=None):\n",
    "    model = LogisticRegression(\n",
    "        random_state=random_state,\n",
    "        max_iter=1000\n",
    "    )\n",
    "    \n",
    "    if best_params:\n",
    "        model = LogisticRegression(\n",
    "            penalty='l2',\n",
    "            random_state=random_state,\n",
    "            max_iter=1000,\n",
    "            class_weight=best_params['class_weight']\n",
    "        )\n",
    "    \n",
    "    model.fit(X_train, y_train)\n",
    "    predicted_proba = model.predict_proba(X_test)\n",
    "    yp = (predicted_proba[:, 1] >= threshold).astype(int)\n",
    "    return yp, model\n",
    "\n",
    "def build_rf(X_train, y_train, X_test, threshold=0.5, random_state=RANDOM_STATE, best_params=None):\n",
    "    model = RandomForestClassifier(random_state=RANDOM_STATE)\n",
    "    \n",
    "    if best_params:\n",
    "        model = RandomForestClassifier(\n",
    "            random_state=RANDOM_STATE,\n",
    "            bootstrap=best_params['bootstrap'],\n",
    "            max_depth=best_params['max_depth'],\n",
    "            class_weight=best_params['class_weight'],\n",
    "            n_estimators=best_params['n_estimators'],\n",
    "            min_samples_split=best_params['min_samples_split']\n",
    "        )\n",
    "    \n",
    "    model.fit(X_train, y_train)\n",
    "    predicted_proba = model.predict_proba(X_test)\n",
    "    yp = (predicted_proba[:, 1] >= threshold).astype(int)\n",
    "    return yp, model"
   ]
  },
  {
   "cell_type": "code",
   "execution_count": 47,
   "metadata": {},
   "outputs": [],
   "source": [
    "def resample(X_train, y_train):\n",
    "    smote_sample = SMOTE(random_state=RANDOM_STATE)\n",
    "    under_sampler = RandomUnderSampler(random_state=RANDOM_STATE)\n",
    "    X_smo, y_smo = smote_sampler.fit_resample(X_train, y_train)\n",
    "    X_under, y_under = under_sampler.fit_resample(X_train, y_train)\n",
    "    return X_smo, y_smo, X_under, y_under"
   ]
  },
  {
   "cell_type": "code",
   "execution_count": 64,
   "metadata": {},
   "outputs": [],
   "source": [
    "def visualize_eval_metrics(results):\n",
    "    df = pd.DataFrame(data=results)\n",
    "    x = np.arange(5)\n",
    "    original = df.iloc[0, 1:].values\n",
    "    class_weight = df.iloc[1, 1:].values\n",
    "    smote = df.iloc[2, 1:].values\n",
    "    under = df.iloc[3, 1:].values\n",
    "    width = 0.2\n",
    "    plt.figure(figsize=(12, 10), dpi=80)\n",
    "    plt.bar(x-0.2, original, width, color='#95a5a6')\n",
    "    plt.bar(x, class_weight, width, color='#d35400')\n",
    "    plt.bar(x+0.2, smote, width, color='#2980b9')\n",
    "    plt.bar(x+0.4, under, width, color='#3498db')\n",
    "    plt.xticks(x, ['Accuracy', 'Recall', 'AUC', 'Precision', 'Fscore'])\n",
    "    plt.xlabel(\"Evaluation Metrics\")\n",
    "    plt.ylabel(\"Score\")\n",
    "    plt.legend([\"Original\", \"Class Weight\", \"SMOTE\", \"Undersampling\"])\n",
    "    plt.show()"
   ]
  },
  {
   "cell_type": "markdown",
   "metadata": {},
   "source": [
    "## Scenario: Predicting Customer Churn\n"
   ]
  },
  {
   "cell_type": "code",
   "execution_count": 29,
   "metadata": {},
   "outputs": [],
   "source": [
    "churn_df = pd.read_csv(\"https://cf-courses-data.s3.us.cloud-object-storage.appdomain.cloud/IBM-ML201EN-SkillsNetwork/labs/module_4/datasets/im_churn.csv\", index_col=False)"
   ]
  },
  {
   "cell_type": "code",
   "execution_count": 30,
   "metadata": {},
   "outputs": [
    {
     "data": {
      "text/html": [
       "<div>\n",
       "<style scoped>\n",
       "    .dataframe tbody tr th:only-of-type {\n",
       "        vertical-align: middle;\n",
       "    }\n",
       "\n",
       "    .dataframe tbody tr th {\n",
       "        vertical-align: top;\n",
       "    }\n",
       "\n",
       "    .dataframe thead th {\n",
       "        text-align: right;\n",
       "    }\n",
       "</style>\n",
       "<table border=\"1\" class=\"dataframe\">\n",
       "  <thead>\n",
       "    <tr style=\"text-align: right;\">\n",
       "      <th></th>\n",
       "      <th>tenure</th>\n",
       "      <th>MonthlyCharges</th>\n",
       "      <th>TotalCharges</th>\n",
       "      <th>Partner_0</th>\n",
       "      <th>Partner_1</th>\n",
       "      <th>Dependents_0</th>\n",
       "      <th>Dependents_1</th>\n",
       "      <th>PhoneService_0</th>\n",
       "      <th>PhoneService_1</th>\n",
       "      <th>MultipleLines_0</th>\n",
       "      <th>...</th>\n",
       "      <th>Contract_0</th>\n",
       "      <th>Contract_1</th>\n",
       "      <th>Contract_2</th>\n",
       "      <th>PaperlessBilling_0</th>\n",
       "      <th>PaperlessBilling_1</th>\n",
       "      <th>PaymentMethod_0</th>\n",
       "      <th>PaymentMethod_1</th>\n",
       "      <th>PaymentMethod_2</th>\n",
       "      <th>PaymentMethod_3</th>\n",
       "      <th>Class</th>\n",
       "    </tr>\n",
       "  </thead>\n",
       "  <tbody>\n",
       "    <tr>\n",
       "      <th>0</th>\n",
       "      <td>27</td>\n",
       "      <td>70.55</td>\n",
       "      <td>1943.90</td>\n",
       "      <td>1.0</td>\n",
       "      <td>0.0</td>\n",
       "      <td>1.0</td>\n",
       "      <td>0.0</td>\n",
       "      <td>0.0</td>\n",
       "      <td>1.0</td>\n",
       "      <td>0.0</td>\n",
       "      <td>...</td>\n",
       "      <td>1.0</td>\n",
       "      <td>0.0</td>\n",
       "      <td>0.0</td>\n",
       "      <td>1.0</td>\n",
       "      <td>0.0</td>\n",
       "      <td>1.0</td>\n",
       "      <td>0.0</td>\n",
       "      <td>0.0</td>\n",
       "      <td>0.0</td>\n",
       "      <td>0</td>\n",
       "    </tr>\n",
       "    <tr>\n",
       "      <th>1</th>\n",
       "      <td>69</td>\n",
       "      <td>93.30</td>\n",
       "      <td>6398.05</td>\n",
       "      <td>1.0</td>\n",
       "      <td>0.0</td>\n",
       "      <td>0.0</td>\n",
       "      <td>1.0</td>\n",
       "      <td>0.0</td>\n",
       "      <td>1.0</td>\n",
       "      <td>0.0</td>\n",
       "      <td>...</td>\n",
       "      <td>0.0</td>\n",
       "      <td>0.0</td>\n",
       "      <td>1.0</td>\n",
       "      <td>1.0</td>\n",
       "      <td>0.0</td>\n",
       "      <td>0.0</td>\n",
       "      <td>0.0</td>\n",
       "      <td>1.0</td>\n",
       "      <td>0.0</td>\n",
       "      <td>0</td>\n",
       "    </tr>\n",
       "    <tr>\n",
       "      <th>2</th>\n",
       "      <td>55</td>\n",
       "      <td>59.20</td>\n",
       "      <td>3175.85</td>\n",
       "      <td>0.0</td>\n",
       "      <td>1.0</td>\n",
       "      <td>1.0</td>\n",
       "      <td>0.0</td>\n",
       "      <td>0.0</td>\n",
       "      <td>1.0</td>\n",
       "      <td>0.0</td>\n",
       "      <td>...</td>\n",
       "      <td>0.0</td>\n",
       "      <td>0.0</td>\n",
       "      <td>1.0</td>\n",
       "      <td>1.0</td>\n",
       "      <td>0.0</td>\n",
       "      <td>1.0</td>\n",
       "      <td>0.0</td>\n",
       "      <td>0.0</td>\n",
       "      <td>0.0</td>\n",
       "      <td>0</td>\n",
       "    </tr>\n",
       "    <tr>\n",
       "      <th>3</th>\n",
       "      <td>49</td>\n",
       "      <td>59.60</td>\n",
       "      <td>2970.30</td>\n",
       "      <td>1.0</td>\n",
       "      <td>0.0</td>\n",
       "      <td>0.0</td>\n",
       "      <td>1.0</td>\n",
       "      <td>0.0</td>\n",
       "      <td>1.0</td>\n",
       "      <td>0.0</td>\n",
       "      <td>...</td>\n",
       "      <td>1.0</td>\n",
       "      <td>0.0</td>\n",
       "      <td>0.0</td>\n",
       "      <td>0.0</td>\n",
       "      <td>1.0</td>\n",
       "      <td>0.0</td>\n",
       "      <td>0.0</td>\n",
       "      <td>0.0</td>\n",
       "      <td>1.0</td>\n",
       "      <td>0</td>\n",
       "    </tr>\n",
       "    <tr>\n",
       "      <th>4</th>\n",
       "      <td>72</td>\n",
       "      <td>109.55</td>\n",
       "      <td>7887.25</td>\n",
       "      <td>1.0</td>\n",
       "      <td>0.0</td>\n",
       "      <td>0.0</td>\n",
       "      <td>1.0</td>\n",
       "      <td>0.0</td>\n",
       "      <td>1.0</td>\n",
       "      <td>0.0</td>\n",
       "      <td>...</td>\n",
       "      <td>0.0</td>\n",
       "      <td>0.0</td>\n",
       "      <td>1.0</td>\n",
       "      <td>0.0</td>\n",
       "      <td>1.0</td>\n",
       "      <td>0.0</td>\n",
       "      <td>0.0</td>\n",
       "      <td>0.0</td>\n",
       "      <td>1.0</td>\n",
       "      <td>0</td>\n",
       "    </tr>\n",
       "  </tbody>\n",
       "</table>\n",
       "<p>5 rows × 43 columns</p>\n",
       "</div>"
      ],
      "text/plain": [
       "   tenure  MonthlyCharges  TotalCharges  Partner_0  Partner_1  Dependents_0  \\\n",
       "0      27           70.55       1943.90        1.0        0.0           1.0   \n",
       "1      69           93.30       6398.05        1.0        0.0           0.0   \n",
       "2      55           59.20       3175.85        0.0        1.0           1.0   \n",
       "3      49           59.60       2970.30        1.0        0.0           0.0   \n",
       "4      72          109.55       7887.25        1.0        0.0           0.0   \n",
       "\n",
       "   Dependents_1  PhoneService_0  PhoneService_1  MultipleLines_0  ...  \\\n",
       "0           0.0             0.0             1.0              0.0  ...   \n",
       "1           1.0             0.0             1.0              0.0  ...   \n",
       "2           0.0             0.0             1.0              0.0  ...   \n",
       "3           1.0             0.0             1.0              0.0  ...   \n",
       "4           1.0             0.0             1.0              0.0  ...   \n",
       "\n",
       "   Contract_0  Contract_1  Contract_2  PaperlessBilling_0  PaperlessBilling_1  \\\n",
       "0         1.0         0.0         0.0                 1.0                 0.0   \n",
       "1         0.0         0.0         1.0                 1.0                 0.0   \n",
       "2         0.0         0.0         1.0                 1.0                 0.0   \n",
       "3         1.0         0.0         0.0                 0.0                 1.0   \n",
       "4         0.0         0.0         1.0                 0.0                 1.0   \n",
       "\n",
       "   PaymentMethod_0  PaymentMethod_1  PaymentMethod_2  PaymentMethod_3  Class  \n",
       "0              1.0              0.0              0.0              0.0      0  \n",
       "1              0.0              0.0              1.0              0.0      0  \n",
       "2              1.0              0.0              0.0              0.0      0  \n",
       "3              0.0              0.0              0.0              1.0      0  \n",
       "4              0.0              0.0              0.0              1.0      0  \n",
       "\n",
       "[5 rows x 43 columns]"
      ]
     },
     "execution_count": 30,
     "metadata": {},
     "output_type": "execute_result"
    }
   ],
   "source": [
    "churn_df.head()"
   ]
  },
  {
   "cell_type": "code",
   "execution_count": 31,
   "metadata": {},
   "outputs": [],
   "source": [
    "Y_COLUMN = 'Class'"
   ]
  },
  {
   "cell_type": "code",
   "execution_count": 32,
   "metadata": {},
   "outputs": [
    {
     "data": {
      "text/plain": [
       "Class\n",
       "0    0.83803\n",
       "1    0.16197\n",
       "Name: proportion, dtype: float64"
      ]
     },
     "execution_count": 32,
     "metadata": {},
     "output_type": "execute_result"
    }
   ],
   "source": [
    "churn_df[Y_COLUMN].value_counts(normalize=True)"
   ]
  },
  {
   "cell_type": "code",
   "execution_count": 33,
   "metadata": {},
   "outputs": [
    {
     "data": {
      "text/plain": [
       "<Axes: xlabel='Class'>"
      ]
     },
     "execution_count": 33,
     "metadata": {},
     "output_type": "execute_result"
    },
    {
     "data": {
      "image/png": "[encoded data removed]",
      "text/plain": [
       "<Figure size 640x480 with 1 Axes>"
      ]
     },
     "metadata": {},
     "output_type": "display_data"
    }
   ],
   "source": [
    "churn_df[Y_COLUMN].value_counts().plot.bar(color=['green', 'red'])"
   ]
  },
  {
   "cell_type": "markdown",
   "metadata": {},
   "source": [
    "`RandomForestClassifier` has many hyperparameters that need to be tuned, we have pre-tuned the main parameters for you. You may also use the provided `grid_search_rf()` method to play with hyperparameter tuning yourself.\n"
   ]
  },
  {
   "cell_type": "code",
   "execution_count": 34,
   "metadata": {},
   "outputs": [],
   "source": [
    "best_params_no_weight = {\n",
    "    'bootstrap': True,\n",
    "    'class_weight': None,\n",
    "    'max_depth': 10,\n",
    "    'min_samples_split': 5,\n",
    "    'n_estimators': 50\n",
    "}"
   ]
  },
  {
   "cell_type": "code",
   "execution_count": 38,
   "metadata": {},
   "outputs": [],
   "source": [
    "X_train, X_test, y_train, y_test = split_data(churn_df, Y_COLUMN)"
   ]
  },
  {
   "cell_type": "code",
   "execution_count": 39,
   "metadata": {},
   "outputs": [],
   "source": [
    "preds, model = build_rf(X_train, y_train, X_test, best_params=best_params_no_weight)"
   ]
  },
  {
   "cell_type": "code",
   "execution_count": 56,
   "metadata": {},
   "outputs": [
    {
     "name": "stdout",
     "output_type": "stream",
     "text": [
      "Accuracy is: 0.86\n",
      "Precision is: 0.68\n",
      "Recall is: 0.28\n",
      "Fscore is: 0.29\n",
      "AUC is: 0.63\n"
     ]
    }
   ],
   "source": [
    "original = print_classification_metrics(y_test, preds)"
   ]
  },
  {
   "cell_type": "markdown",
   "metadata": {},
   "source": [
    "As you may expect, we have a very high prediction `accuracy` but even using a random forest classifier, our `recall` is very low with only 0.28. \n",
    "Next, let's try the class reweighting method to see if we can improve the performance.\n"
   ]
  },
  {
   "cell_type": "markdown",
   "metadata": {},
   "source": [
    "### Add class re-weighting\n"
   ]
  },
  {
   "cell_type": "code",
   "execution_count": 41,
   "metadata": {},
   "outputs": [],
   "source": [
    "class_weight = {0: 0.2, 1: 0.8}"
   ]
  },
  {
   "cell_type": "code",
   "execution_count": 42,
   "metadata": {},
   "outputs": [],
   "source": [
    "best_params_weight = {\n",
    "    'bootstrap': True,\n",
    "    'class_weight': class_weight,\n",
    "    'max_depth': 10,\n",
    "    'min_samples_split': 5,\n",
    "    'n_estimators': 50\n",
    "}"
   ]
  },
  {
   "cell_type": "code",
   "execution_count": 44,
   "metadata": {},
   "outputs": [],
   "source": [
    "preds_cw, weight_model = build_rf(X_train, y_train, X_test, best_params=best_params_weight)"
   ]
  },
  {
   "cell_type": "code",
   "execution_count": 57,
   "metadata": {},
   "outputs": [
    {
     "name": "stdout",
     "output_type": "stream",
     "text": [
      "Accuracy is: 0.81\n",
      "Precision is: 0.45\n",
      "Recall is: 0.62\n",
      "Fscore is: 0.61\n",
      "AUC is: 0.63\n"
     ]
    }
   ],
   "source": [
    "class_weights = print_classification_metrics(y_test, preds_cw, 'Class Weights')"
   ]
  },
  {
   "cell_type": "markdown",
   "metadata": {},
   "source": [
    "### Resampling: SMOTE and Undersampling\n"
   ]
  },
  {
   "cell_type": "code",
   "execution_count": 48,
   "metadata": {},
   "outputs": [],
   "source": [
    "X_smo, y_smo, X_under, y_under = resample(X_train, y_train)"
   ]
  },
  {
   "cell_type": "markdown",
   "metadata": {},
   "source": [
    "Then we can retrain a random forest classifier using SMOTE resampled input `X_smo` and output `y_smo` and evaluate its performance,\n"
   ]
  },
  {
   "cell_type": "code",
   "execution_count": 58,
   "metadata": {},
   "outputs": [
    {
     "name": "stdout",
     "output_type": "stream",
     "text": [
      "Accuracy is: 0.84\n",
      "Precision is: 0.50\n",
      "Recall is: 0.53\n",
      "Fscore is: 0.52\n",
      "AUC is: 0.63\n"
     ]
    }
   ],
   "source": [
    "preds_smo, smo_model = build_rf(X_smo, y_smo, X_test, best_params=best_params_no_weight)\n",
    "smote = print_classification_metrics(y_test, preds_smo, 'SMOTE')"
   ]
  },
  {
   "cell_type": "markdown",
   "metadata": {},
   "source": [
    "and we can retrain a random forest classifier using the undersampled input `X_under` and output `y_under` and evaluate its performance.\n"
   ]
  },
  {
   "cell_type": "code",
   "execution_count": 59,
   "metadata": {},
   "outputs": [
    {
     "name": "stdout",
     "output_type": "stream",
     "text": [
      "Accuracy is: 0.73\n",
      "Precision is: 0.36\n",
      "Recall is: 0.79\n",
      "Fscore is: 0.75\n",
      "AUC is: 0.63\n"
     ]
    }
   ],
   "source": [
    "preds_under, under_model = build_rf(X_under, y_under, X_test, best_params=best_params_no_weight)\n",
    "under = print_classification_metrics(y_test, preds_under, 'Under Sampling')"
   ]
  },
  {
   "cell_type": "code",
   "execution_count": 60,
   "metadata": {},
   "outputs": [],
   "source": [
    "results = [original, class_weights, smote, under]"
   ]
  },
  {
   "cell_type": "code",
   "execution_count": 65,
   "metadata": {},
   "outputs": [
    {
     "data": {
      "image/png": "[encoded data removed]",
      "text/plain": [
       "<Figure size 960x800 with 1 Axes>"
      ]
     },
     "metadata": {},
     "output_type": "display_data"
    }
   ],
   "source": [
    "visualize_eval_metrics(results)"
   ]
  },
  {
   "cell_type": "markdown",
   "metadata": {},
   "source": [
    "By analyzing the bar chart above, we can see that undersampling seems to be the best method to help alleviate the imbalanced challenge in the customer churn dataset. Although all class weights, SMOTE, and undersampling decreased the precision (increased false positives) but sometimes it is not a bad idea to assume some of your customers are about to leave (even if they are not) as motivation to improve your services.\n"
   ]
  },
  {
   "cell_type": "markdown",
   "metadata": {},
   "source": [
    "- All models have high accuracy\n",
    "- Recall is improved with class weights and resampling methods, and undersampling produces the highest recall\n",
    "- AUC is also improved with class weights and resampling methods, and undersampling produces the highest AUC again\n",
    "- Precisions are decreased with class weights and resampling methods as they all introduced many false positives (which are expected as we are trying to increase the impact of the positive class)\n",
    "- Fscore is improved with class weights and resampling method, and undersampling has the highest Fscore\n"
   ]
  },
  {
   "cell_type": "markdown",
   "metadata": {},
   "source": [
    "## Scenario: Tumor Type Estimation\n"
   ]
  },
  {
   "cell_type": "markdown",
   "metadata": {},
   "source": [
    "Finally, let's see an interesting imbalanced dataset that has very high Precision, Recall, and F-score initially without using class reweighting and resampling.\n"
   ]
  },
  {
   "cell_type": "markdown",
   "metadata": {},
   "source": [
    "This dataset contains tumor samples and we need to estimate/predict if a tumor sample is cancerous or not.\n",
    "\n",
    "First, like other scenarios, let's load and split the dataset\n"
   ]
  },
  {
   "cell_type": "code",
   "execution_count": 67,
   "metadata": {},
   "outputs": [],
   "source": [
    "tumor_df = pd.read_csv(\"https://cf-courses-data.s3.us.cloud-object-storage.appdomain.cloud/IBM-ML201EN-SkillsNetwork/labs/module_4/datasets/im_cancer.csv\", index_col=False)"
   ]
  },
  {
   "cell_type": "code",
   "execution_count": 68,
   "metadata": {},
   "outputs": [
    {
     "data": {
      "text/html": [
       "<div>\n",
       "<style scoped>\n",
       "    .dataframe tbody tr th:only-of-type {\n",
       "        vertical-align: middle;\n",
       "    }\n",
       "\n",
       "    .dataframe tbody tr th {\n",
       "        vertical-align: top;\n",
       "    }\n",
       "\n",
       "    .dataframe thead th {\n",
       "        text-align: right;\n",
       "    }\n",
       "</style>\n",
       "<table border=\"1\" class=\"dataframe\">\n",
       "  <thead>\n",
       "    <tr style=\"text-align: right;\">\n",
       "      <th></th>\n",
       "      <th>Clump</th>\n",
       "      <th>UnifSize</th>\n",
       "      <th>UnifShape</th>\n",
       "      <th>MargAdh</th>\n",
       "      <th>SingEpiSize</th>\n",
       "      <th>BareNuc</th>\n",
       "      <th>BlandChrom</th>\n",
       "      <th>NormNucl</th>\n",
       "      <th>Mit</th>\n",
       "      <th>Class</th>\n",
       "    </tr>\n",
       "  </thead>\n",
       "  <tbody>\n",
       "    <tr>\n",
       "      <th>0</th>\n",
       "      <td>5</td>\n",
       "      <td>1</td>\n",
       "      <td>1</td>\n",
       "      <td>1</td>\n",
       "      <td>2</td>\n",
       "      <td>1</td>\n",
       "      <td>3</td>\n",
       "      <td>1</td>\n",
       "      <td>1</td>\n",
       "      <td>0</td>\n",
       "    </tr>\n",
       "    <tr>\n",
       "      <th>1</th>\n",
       "      <td>4</td>\n",
       "      <td>3</td>\n",
       "      <td>1</td>\n",
       "      <td>1</td>\n",
       "      <td>2</td>\n",
       "      <td>1</td>\n",
       "      <td>4</td>\n",
       "      <td>8</td>\n",
       "      <td>1</td>\n",
       "      <td>0</td>\n",
       "    </tr>\n",
       "    <tr>\n",
       "      <th>2</th>\n",
       "      <td>8</td>\n",
       "      <td>5</td>\n",
       "      <td>5</td>\n",
       "      <td>5</td>\n",
       "      <td>2</td>\n",
       "      <td>10</td>\n",
       "      <td>4</td>\n",
       "      <td>3</td>\n",
       "      <td>1</td>\n",
       "      <td>1</td>\n",
       "    </tr>\n",
       "    <tr>\n",
       "      <th>3</th>\n",
       "      <td>5</td>\n",
       "      <td>7</td>\n",
       "      <td>10</td>\n",
       "      <td>6</td>\n",
       "      <td>5</td>\n",
       "      <td>10</td>\n",
       "      <td>7</td>\n",
       "      <td>5</td>\n",
       "      <td>1</td>\n",
       "      <td>1</td>\n",
       "    </tr>\n",
       "    <tr>\n",
       "      <th>4</th>\n",
       "      <td>7</td>\n",
       "      <td>1</td>\n",
       "      <td>2</td>\n",
       "      <td>3</td>\n",
       "      <td>2</td>\n",
       "      <td>1</td>\n",
       "      <td>2</td>\n",
       "      <td>1</td>\n",
       "      <td>1</td>\n",
       "      <td>0</td>\n",
       "    </tr>\n",
       "  </tbody>\n",
       "</table>\n",
       "</div>"
      ],
      "text/plain": [
       "   Clump  UnifSize  UnifShape  MargAdh  SingEpiSize  BareNuc  BlandChrom  \\\n",
       "0      5         1          1        1            2        1           3   \n",
       "1      4         3          1        1            2        1           4   \n",
       "2      8         5          5        5            2       10           4   \n",
       "3      5         7         10        6            5       10           7   \n",
       "4      7         1          2        3            2        1           2   \n",
       "\n",
       "   NormNucl  Mit  Class  \n",
       "0         1    1      0  \n",
       "1         8    1      0  \n",
       "2         3    1      1  \n",
       "3         5    1      1  \n",
       "4         1    1      0  "
      ]
     },
     "execution_count": 68,
     "metadata": {},
     "output_type": "execute_result"
    }
   ],
   "source": [
    "tumor_df.head()"
   ]
  },
  {
   "cell_type": "code",
   "execution_count": 69,
   "metadata": {},
   "outputs": [],
   "source": [
    "Y_COLUMN = 'Class'"
   ]
  },
  {
   "cell_type": "code",
   "execution_count": 70,
   "metadata": {},
   "outputs": [],
   "source": [
    "X_train, X_test, y_train, y_test = split_data(tumor_df, Y_COLUMN)"
   ]
  },
  {
   "cell_type": "code",
   "execution_count": 71,
   "metadata": {},
   "outputs": [
    {
     "data": {
      "text/plain": [
       "<Axes: xlabel='Class'>"
      ]
     },
     "execution_count": 71,
     "metadata": {},
     "output_type": "execute_result"
    },
    {
     "data": {
      "image/png": "[encoded data removed]",
      "text/plain": [
       "<Figure size 640x480 with 1 Axes>"
      ]
     },
     "metadata": {},
     "output_type": "display_data"
    }
   ],
   "source": [
    "y_train.value_counts().plot.bar(color=['green', 'red'])"
   ]
  },
  {
   "cell_type": "code",
   "execution_count": 72,
   "metadata": {},
   "outputs": [],
   "source": [
    "X_smo, y_smo, X_under, y_under = resample(X_train, y_train)"
   ]
  },
  {
   "cell_type": "code",
   "execution_count": 73,
   "metadata": {},
   "outputs": [],
   "source": [
    "best_params_weight = {\n",
    "    'bootstrap': True,\n",
    "    'class_weight': {0: 0.2, 1: 0.8},\n",
    "    'max_depth': 10,\n",
    "    'min_samples_split': 5,\n",
    "    'n_estimators': 50\n",
    "}"
   ]
  },
  {
   "cell_type": "code",
   "execution_count": 74,
   "metadata": {},
   "outputs": [],
   "source": [
    "results = []"
   ]
  },
  {
   "cell_type": "code",
   "execution_count": 77,
   "metadata": {},
   "outputs": [
    {
     "name": "stdout",
     "output_type": "stream",
     "text": [
      "Accuracy is: 0.98\n",
      "Precision is: 0.96\n",
      "Recall is: 1.00\n",
      "Fscore is: 1.00\n",
      "AUC is: 0.99\n"
     ]
    },
    {
     "ename": "KeyError",
     "evalue": "'bootstrap'",
     "output_type": "error",
     "traceback": [
      "\u001b[0;31m---------------------------------------------------------------------------\u001b[0m",
      "\u001b[0;31mKeyError\u001b[0m                                  Traceback (most recent call last)",
      "Cell \u001b[0;32mIn[77], line 4\u001b[0m\n\u001b[1;32m      2\u001b[0m results\u001b[38;5;241m.\u001b[39mappend(print_classification_metrics(y_test, preds))\n\u001b[1;32m      3\u001b[0m \u001b[38;5;66;03m# class weight\u001b[39;00m\n\u001b[0;32m----> 4\u001b[0m preds, model \u001b[38;5;241m=\u001b[39m \u001b[43mbuild_rf\u001b[49m\u001b[43m(\u001b[49m\u001b[43mX_train\u001b[49m\u001b[43m,\u001b[49m\u001b[43m \u001b[49m\u001b[43my_train\u001b[49m\u001b[43m,\u001b[49m\u001b[43m \u001b[49m\u001b[43mX_test\u001b[49m\u001b[43m,\u001b[49m\u001b[43m \u001b[49m\u001b[43mbest_params\u001b[49m\u001b[38;5;241;43m=\u001b[39;49m\u001b[43mbest_params_weight\u001b[49m\u001b[43m)\u001b[49m\n\u001b[1;32m      5\u001b[0m results\u001b[38;5;241m.\u001b[39mappend(print_classification_metrics(y_test, preds))\n\u001b[1;32m      6\u001b[0m \u001b[38;5;66;03m# Resampling\u001b[39;00m\n",
      "Cell \u001b[0;32mIn[28], line 26\u001b[0m, in \u001b[0;36mbuild_rf\u001b[0;34m(X_train, y_train, X_test, threshold, random_state, best_params)\u001b[0m\n\u001b[1;32m     21\u001b[0m model \u001b[38;5;241m=\u001b[39m RandomForestClassifier(random_state\u001b[38;5;241m=\u001b[39mRANDOM_STATE)\n\u001b[1;32m     23\u001b[0m \u001b[38;5;28;01mif\u001b[39;00m best_params:\n\u001b[1;32m     24\u001b[0m     model \u001b[38;5;241m=\u001b[39m RandomForestClassifier(\n\u001b[1;32m     25\u001b[0m         random_state\u001b[38;5;241m=\u001b[39mRANDOM_STATE,\n\u001b[0;32m---> 26\u001b[0m         bootstrap\u001b[38;5;241m=\u001b[39m\u001b[43mbest_params\u001b[49m\u001b[43m[\u001b[49m\u001b[38;5;124;43m'\u001b[39;49m\u001b[38;5;124;43mbootstrap\u001b[39;49m\u001b[38;5;124;43m'\u001b[39;49m\u001b[43m]\u001b[49m,\n\u001b[1;32m     27\u001b[0m         max_depth\u001b[38;5;241m=\u001b[39mbest_params[\u001b[38;5;124m'\u001b[39m\u001b[38;5;124mmax_depth\u001b[39m\u001b[38;5;124m'\u001b[39m],\n\u001b[1;32m     28\u001b[0m         class_weight\u001b[38;5;241m=\u001b[39mbest_params[\u001b[38;5;124m'\u001b[39m\u001b[38;5;124mclass_weight\u001b[39m\u001b[38;5;124m'\u001b[39m],\n\u001b[1;32m     29\u001b[0m         n_estimators\u001b[38;5;241m=\u001b[39mbest_params[\u001b[38;5;124m'\u001b[39m\u001b[38;5;124mn_estimators\u001b[39m\u001b[38;5;124m'\u001b[39m],\n\u001b[1;32m     30\u001b[0m         min_samples_split\u001b[38;5;241m=\u001b[39mbest_params[\u001b[38;5;124m'\u001b[39m\u001b[38;5;124mmin_samples_split\u001b[39m\u001b[38;5;124m'\u001b[39m]\n\u001b[1;32m     31\u001b[0m     )\n\u001b[1;32m     33\u001b[0m model\u001b[38;5;241m.\u001b[39mfit(X_train, y_train)\n\u001b[1;32m     34\u001b[0m predicted_proba \u001b[38;5;241m=\u001b[39m model\u001b[38;5;241m.\u001b[39mpredict_proba(X_test)\n",
      "\u001b[0;31mKeyError\u001b[0m: 'bootstrap'"
     ]
    }
   ],
   "source": [
    "preds, model = build_rf(X_train, y_train, X_test)\n",
    "results.append(print_classification_metrics(y_test, preds))\n",
    "# class weight\n",
    "preds, model = build_rf(X_train, y_train, X_test, best_params=best_params_weight)\n",
    "results.append(print_classification_metrics(y_test, preds))\n",
    "# Resampling\n",
    "preds, model = build_rf(X_smo, y_smo, X_test)\n",
    "results.append(print_classification_metrics(y_test, preds))\n",
    "preds, model = build_rf(X_under, y_under, X_test)\n",
    "results.append(print_classification_metrics(y_test, preds))"
   ]
  },
  {
   "cell_type": "code",
   "execution_count": null,
   "metadata": {},
   "outputs": [],
   "source": []
  }
 ],
 "metadata": {
  "kernelspec": {
   "display_name": ".venv",
   "language": "python",
   "name": "python3"
  },
  "language_info": {
   "codemirror_mode": {
    "name": "ipython",
    "version": 3
   },
   "file_extension": ".py",
   "mimetype": "text/x-python",
   "name": "python",
   "nbconvert_exporter": "python",
   "pygments_lexer": "ipython3",
   "version": "3.10.12"
  }
 },
 "nbformat": 4,
 "nbformat_minor": 2
}
