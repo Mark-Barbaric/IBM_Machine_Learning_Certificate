{
 "cells": [
  {
   "cell_type": "markdown",
   "metadata": {},
   "source": [
    "# Machine Learning Foundation\n",
    "\n",
    "## Section 1, Part b: Reading Data Lab\n"
   ]
  },
  {
   "cell_type": "code",
   "execution_count": 3,
   "metadata": {},
   "outputs": [],
   "source": [
    "import sqlite3 as sq3\n",
    "import pandas.io.sql as pds\n",
    "import pandas as pd"
   ]
  },
  {
   "cell_type": "markdown",
   "metadata": {},
   "source": [
    "## Lab Exercise: Reading in database files\n",
    "\n",
    " - Create a variable, `path`, containing the path to the `baseball.db` contained in `resources/`\n",
    " - Create a connection, `con`, that is connected to database at `path`\n",
    " - Create a variable, `query`, containing a SQL query which reads in all data from the `allstarfull` table\n",
    " - Create a variable, `observations`, by using pandas' [read_sql](https://pandas.pydata.org/pandas-docs/stable/reference/api/pandas.read_sql.html?utm_medium=Exinfluencer&utm_source=Exinfluencer&utm_content=000026UJ&utm_term=10006555&utm_id=NA-SkillsNetwork-Channel-SkillsNetworkCoursesIBMML0232ENSkillsNetwork837-2023-01-01)\n",
    "\n",
    "### Optional\n",
    " - Create a variable, `tables`, which reads in all data from the table `sqlite_master`\n",
    " - Pretend that you were interesting in creating a new baseball hall of fame. Join and analyze the tables to evaluate the top 3 all time best baseball players.\n"
   ]
  },
  {
   "cell_type": "code",
   "execution_count": 4,
   "metadata": {},
   "outputs": [
    {
     "name": "stdout",
     "output_type": "stream",
     "text": [
      "--2024-01-16 14:52:44--  https://cf-courses-data.s3.us.cloud-object-storage.appdomain.cloud/IBM-ML0232EN-SkillsNetwork/asset/baseball.db\n",
      "Resolving cf-courses-data.s3.us.cloud-object-storage.appdomain.cloud (cf-courses-data.s3.us.cloud-object-storage.appdomain.cloud)... 169.63.118.104\n",
      "Connecting to cf-courses-data.s3.us.cloud-object-storage.appdomain.cloud (cf-courses-data.s3.us.cloud-object-storage.appdomain.cloud)|169.63.118.104|:443... connected.\n",
      "HTTP request sent, awaiting response... 200 OK\n",
      "Length: 7626752 (7.3M) [binary/octet-stream]\n",
      "Saving to: ‘data/baseball.db.1’\n",
      "\n",
      "baseball.db.1       100%[===================>]   7.27M  5.17MB/s    in 1.4s    \n",
      "\n",
      "2024-01-16 14:52:47 (5.17 MB/s) - ‘data/baseball.db.1’ saved [7626752/7626752]\n",
      "\n"
     ]
    }
   ],
   "source": [
    "!wget -P data https://cf-courses-data.s3.us.cloud-object-storage.appdomain.cloud/IBM-ML0232EN-SkillsNetwork/asset/baseball.db"
   ]
  },
  {
   "cell_type": "code",
   "execution_count": 5,
   "metadata": {},
   "outputs": [
    {
     "data": {
      "text/plain": [
       "<sqlite3.Connection at 0x7fac3e4734c0>"
      ]
     },
     "execution_count": 5,
     "metadata": {},
     "output_type": "execute_result"
    }
   ],
   "source": [
    "path = './data/baseball.db'\n",
    "con = sq3.Connection(path)\n",
    "con"
   ]
  },
  {
   "cell_type": "code",
   "execution_count": 8,
   "metadata": {},
   "outputs": [],
   "source": [
    "query = '''\n",
    "SELECT * FROM allstarfull\n",
    "'''"
   ]
  },
  {
   "cell_type": "code",
   "execution_count": 9,
   "metadata": {},
   "outputs": [
    {
     "data": {
      "text/html": [
       "<div>\n",
       "<style scoped>\n",
       "    .dataframe tbody tr th:only-of-type {\n",
       "        vertical-align: middle;\n",
       "    }\n",
       "\n",
       "    .dataframe tbody tr th {\n",
       "        vertical-align: top;\n",
       "    }\n",
       "\n",
       "    .dataframe thead th {\n",
       "        text-align: right;\n",
       "    }\n",
       "</style>\n",
       "<table border=\"1\" class=\"dataframe\">\n",
       "  <thead>\n",
       "    <tr style=\"text-align: right;\">\n",
       "      <th></th>\n",
       "      <th>index</th>\n",
       "      <th>playerID</th>\n",
       "      <th>yearID</th>\n",
       "      <th>gameNum</th>\n",
       "      <th>gameID</th>\n",
       "      <th>teamID</th>\n",
       "      <th>lgID</th>\n",
       "      <th>GP</th>\n",
       "      <th>startingPos</th>\n",
       "    </tr>\n",
       "  </thead>\n",
       "  <tbody>\n",
       "    <tr>\n",
       "      <th>0</th>\n",
       "      <td>0</td>\n",
       "      <td>gomezle01</td>\n",
       "      <td>1933</td>\n",
       "      <td>0</td>\n",
       "      <td>ALS193307060</td>\n",
       "      <td>NYA</td>\n",
       "      <td>AL</td>\n",
       "      <td>1.0</td>\n",
       "      <td>1.0</td>\n",
       "    </tr>\n",
       "    <tr>\n",
       "      <th>1</th>\n",
       "      <td>1</td>\n",
       "      <td>ferreri01</td>\n",
       "      <td>1933</td>\n",
       "      <td>0</td>\n",
       "      <td>ALS193307060</td>\n",
       "      <td>BOS</td>\n",
       "      <td>AL</td>\n",
       "      <td>1.0</td>\n",
       "      <td>2.0</td>\n",
       "    </tr>\n",
       "    <tr>\n",
       "      <th>2</th>\n",
       "      <td>2</td>\n",
       "      <td>gehrilo01</td>\n",
       "      <td>1933</td>\n",
       "      <td>0</td>\n",
       "      <td>ALS193307060</td>\n",
       "      <td>NYA</td>\n",
       "      <td>AL</td>\n",
       "      <td>1.0</td>\n",
       "      <td>3.0</td>\n",
       "    </tr>\n",
       "    <tr>\n",
       "      <th>3</th>\n",
       "      <td>3</td>\n",
       "      <td>gehrich01</td>\n",
       "      <td>1933</td>\n",
       "      <td>0</td>\n",
       "      <td>ALS193307060</td>\n",
       "      <td>DET</td>\n",
       "      <td>AL</td>\n",
       "      <td>1.0</td>\n",
       "      <td>4.0</td>\n",
       "    </tr>\n",
       "    <tr>\n",
       "      <th>4</th>\n",
       "      <td>4</td>\n",
       "      <td>dykesji01</td>\n",
       "      <td>1933</td>\n",
       "      <td>0</td>\n",
       "      <td>ALS193307060</td>\n",
       "      <td>CHA</td>\n",
       "      <td>AL</td>\n",
       "      <td>1.0</td>\n",
       "      <td>5.0</td>\n",
       "    </tr>\n",
       "  </tbody>\n",
       "</table>\n",
       "</div>"
      ],
      "text/plain": [
       "   index   playerID  yearID  gameNum  ... teamID lgID   GP  startingPos\n",
       "0      0  gomezle01    1933        0  ...    NYA   AL  1.0          1.0\n",
       "1      1  ferreri01    1933        0  ...    BOS   AL  1.0          2.0\n",
       "2      2  gehrilo01    1933        0  ...    NYA   AL  1.0          3.0\n",
       "3      3  gehrich01    1933        0  ...    DET   AL  1.0          4.0\n",
       "4      4  dykesji01    1933        0  ...    CHA   AL  1.0          5.0\n",
       "\n",
       "[5 rows x 9 columns]"
      ]
     },
     "execution_count": 9,
     "metadata": {},
     "output_type": "execute_result"
    }
   ],
   "source": [
    "observations = pd.read_sql(query, con)\n",
    "observations.head()"
   ]
  },
  {
   "cell_type": "code",
   "execution_count": 10,
   "metadata": {},
   "outputs": [
    {
     "data": {
      "text/html": [
       "<div>\n",
       "<style scoped>\n",
       "    .dataframe tbody tr th:only-of-type {\n",
       "        vertical-align: middle;\n",
       "    }\n",
       "\n",
       "    .dataframe tbody tr th {\n",
       "        vertical-align: top;\n",
       "    }\n",
       "\n",
       "    .dataframe thead th {\n",
       "        text-align: right;\n",
       "    }\n",
       "</style>\n",
       "<table border=\"1\" class=\"dataframe\">\n",
       "  <thead>\n",
       "    <tr style=\"text-align: right;\">\n",
       "      <th></th>\n",
       "      <th>type</th>\n",
       "      <th>name</th>\n",
       "      <th>tbl_name</th>\n",
       "      <th>rootpage</th>\n",
       "      <th>sql</th>\n",
       "    </tr>\n",
       "  </thead>\n",
       "  <tbody>\n",
       "    <tr>\n",
       "      <th>0</th>\n",
       "      <td>table</td>\n",
       "      <td>allstarfull</td>\n",
       "      <td>allstarfull</td>\n",
       "      <td>2</td>\n",
       "      <td>CREATE TABLE \"allstarfull\" (\\n\"index\" INTEGER,...</td>\n",
       "    </tr>\n",
       "    <tr>\n",
       "      <th>1</th>\n",
       "      <td>index</td>\n",
       "      <td>ix_allstarfull_index</td>\n",
       "      <td>allstarfull</td>\n",
       "      <td>3</td>\n",
       "      <td>CREATE INDEX \"ix_allstarfull_index\"ON \"allstar...</td>\n",
       "    </tr>\n",
       "    <tr>\n",
       "      <th>2</th>\n",
       "      <td>table</td>\n",
       "      <td>schools</td>\n",
       "      <td>schools</td>\n",
       "      <td>26</td>\n",
       "      <td>CREATE TABLE \"schools\" (\\n\"index\" INTEGER,\\n  ...</td>\n",
       "    </tr>\n",
       "    <tr>\n",
       "      <th>3</th>\n",
       "      <td>index</td>\n",
       "      <td>ix_schools_index</td>\n",
       "      <td>schools</td>\n",
       "      <td>31</td>\n",
       "      <td>CREATE INDEX \"ix_schools_index\"ON \"schools\" (\"...</td>\n",
       "    </tr>\n",
       "    <tr>\n",
       "      <th>4</th>\n",
       "      <td>table</td>\n",
       "      <td>batting</td>\n",
       "      <td>batting</td>\n",
       "      <td>99</td>\n",
       "      <td>CREATE TABLE \"batting\" (\\n\"index\" INTEGER,\\n  ...</td>\n",
       "    </tr>\n",
       "  </tbody>\n",
       "</table>\n",
       "</div>"
      ],
      "text/plain": [
       "    type  ...                                                sql\n",
       "0  table  ...  CREATE TABLE \"allstarfull\" (\\n\"index\" INTEGER,...\n",
       "1  index  ...  CREATE INDEX \"ix_allstarfull_index\"ON \"allstar...\n",
       "2  table  ...  CREATE TABLE \"schools\" (\\n\"index\" INTEGER,\\n  ...\n",
       "3  index  ...  CREATE INDEX \"ix_schools_index\"ON \"schools\" (\"...\n",
       "4  table  ...  CREATE TABLE \"batting\" (\\n\"index\" INTEGER,\\n  ...\n",
       "\n",
       "[5 rows x 5 columns]"
      ]
     },
     "execution_count": 10,
     "metadata": {},
     "output_type": "execute_result"
    }
   ],
   "source": [
    "tables = pd.read_sql('SELECT * FROM sqlite_master', con)\n",
    "tables.head()"
   ]
  },
  {
   "cell_type": "code",
   "execution_count": 35,
   "metadata": {},
   "outputs": [],
   "source": [
    "hall_of_fame_query = '''\n",
    "SELECT playerID, teamID, AVG(startingPos) AS avg_starting_pos, SUM(GP) as total_games_played\n",
    "FROM allstarfull\n",
    "GROUP BY playerId\n",
    "ORDER BY avg_starting_pos DESC, total_games_played DESC\n",
    "LIMIT 3\n",
    "'''"
   ]
  },
  {
   "cell_type": "code",
   "execution_count": 36,
   "metadata": {},
   "outputs": [
    {
     "data": {
      "text/html": [
       "<div>\n",
       "<style scoped>\n",
       "    .dataframe tbody tr th:only-of-type {\n",
       "        vertical-align: middle;\n",
       "    }\n",
       "\n",
       "    .dataframe tbody tr th {\n",
       "        vertical-align: top;\n",
       "    }\n",
       "\n",
       "    .dataframe thead th {\n",
       "        text-align: right;\n",
       "    }\n",
       "</style>\n",
       "<table border=\"1\" class=\"dataframe\">\n",
       "  <thead>\n",
       "    <tr style=\"text-align: right;\">\n",
       "      <th></th>\n",
       "      <th>playerID</th>\n",
       "      <th>teamID</th>\n",
       "      <th>avg_starting_pos</th>\n",
       "      <th>total_games_played</th>\n",
       "    </tr>\n",
       "  </thead>\n",
       "  <tbody>\n",
       "    <tr>\n",
       "      <th>0</th>\n",
       "      <td>martied01</td>\n",
       "      <td>SEA</td>\n",
       "      <td>10.0</td>\n",
       "      <td>7.0</td>\n",
       "    </tr>\n",
       "    <tr>\n",
       "      <th>1</th>\n",
       "      <td>baineha01</td>\n",
       "      <td>CHA</td>\n",
       "      <td>10.0</td>\n",
       "      <td>6.0</td>\n",
       "    </tr>\n",
       "    <tr>\n",
       "      <th>2</th>\n",
       "      <td>guerrpe01</td>\n",
       "      <td>LAN</td>\n",
       "      <td>10.0</td>\n",
       "      <td>4.0</td>\n",
       "    </tr>\n",
       "  </tbody>\n",
       "</table>\n",
       "</div>"
      ],
      "text/plain": [
       "    playerID teamID  avg_starting_pos  total_games_played\n",
       "0  martied01    SEA              10.0                 7.0\n",
       "1  baineha01    CHA              10.0                 6.0\n",
       "2  guerrpe01    LAN              10.0                 4.0"
      ]
     },
     "execution_count": 36,
     "metadata": {},
     "output_type": "execute_result"
    }
   ],
   "source": [
    "hall_of_fame_res = pd.read_sql(hall_of_fame_query, con)\n",
    "hall_of_fame_res.head()"
   ]
  }
 ],
 "metadata": {
  "kernelspec": {
   "display_name": "venv_ibm_machine_learning",
   "language": "python",
   "name": "python3"
  },
  "language_info": {
   "codemirror_mode": {
    "name": "ipython",
    "version": 3
   },
   "file_extension": ".py",
   "mimetype": "text/x-python",
   "name": "python",
   "nbconvert_exporter": "python",
   "pygments_lexer": "ipython3",
   "version": "3.11.7"
  }
 },
 "nbformat": 4,
 "nbformat_minor": 2
}
