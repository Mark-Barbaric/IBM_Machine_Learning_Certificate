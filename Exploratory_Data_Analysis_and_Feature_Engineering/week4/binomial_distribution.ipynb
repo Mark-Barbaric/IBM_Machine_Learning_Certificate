{
 "cells": [
  {
   "cell_type": "code",
   "execution_count": 1,
   "metadata": {},
   "outputs": [],
   "source": [
    "from scipy.stats import binom\n",
    "import matplotlib.pyplot as plt"
   ]
  },
  {
   "cell_type": "markdown",
   "metadata": {},
   "source": [
    "## Binomial Distribution"
   ]
  },
  {
   "cell_type": "markdown",
   "metadata": {},
   "source": [
    "https://medium.com/@AbhiramiVS/bayes-theorem-with-python-ef2135d850f\n",
    "\n",
    "$P(H1|x) = \\frac{P(x|H1) \\cdot P(H1)} {P(x)}$\n",
    "\n",
    "$P(H2|x) = \\frac{P(x|H2) \\cdot P(H2)} {P(x)}$"
   ]
  },
  {
   "cell_type": "markdown",
   "metadata": {},
   "source": [
    "## Unbiased Coin Modelling\n",
    "\n",
    "This interview question asks you to determine the probability of getting an even number of heads when 21 unbiased coins are flipped.\n",
    "\n",
    "An unbiased coin has a 50/50 chance of landing on either heads or tails."
   ]
  },
  {
   "cell_type": "code",
   "execution_count": 8,
   "metadata": {},
   "outputs": [],
   "source": [
    "n = 21 # number of coin flips\n",
    "p = 0.5 # probability of getting heads"
   ]
  },
  {
   "cell_type": "code",
   "execution_count": 9,
   "metadata": {},
   "outputs": [
    {
     "data": {
      "text/plain": [
       "array([4.76837158e-07, 1.00135803e-04, 2.85387039e-03, 2.58750916e-02,\n",
       "       9.70315933e-02, 1.68188095e-01, 1.40156746e-01, 5.54466248e-02,\n",
       "       9.70315933e-03, 6.34193420e-04, 1.00135803e-05])"
      ]
     },
     "execution_count": 9,
     "metadata": {},
     "output_type": "execute_result"
    }
   ],
   "source": [
    "binom_dist = binom(n, 0.5)\n",
    "even_probs = binom_dist.pmf(range(0, n + 1, 2))\n",
    "even_probs"
   ]
  },
  {
   "cell_type": "code",
   "execution_count": 7,
   "metadata": {},
   "outputs": [
    {
     "ename": "NameError",
     "evalue": "name 'n' is not defined",
     "output_type": "error",
     "traceback": [
      "\u001b[0;31m---------------------------------------------------------------------------\u001b[0m",
      "\u001b[0;31mNameError\u001b[0m                                 Traceback (most recent call last)",
      "Cell \u001b[0;32mIn[7], line 1\u001b[0m\n\u001b[0;32m----> 1\u001b[0m r_values \u001b[38;5;241m=\u001b[39m \u001b[38;5;28mlist\u001b[39m(\u001b[38;5;28mrange\u001b[39m(\u001b[43mn\u001b[49m \u001b[38;5;241m+\u001b[39m \u001b[38;5;241m1\u001b[39m))\n\u001b[1;32m      2\u001b[0m plt\u001b[38;5;241m.\u001b[39mbar(r_values, even_probs)\n\u001b[1;32m      3\u001b[0m plt\u001b[38;5;241m.\u001b[39mshow()\n",
      "\u001b[0;31mNameError\u001b[0m: name 'n' is not defined"
     ]
    }
   ],
   "source": [
    "r_values = list(range(n + 1))\n",
    "plt.bar(r_values, even_probs)\n",
    "plt.show()"
   ]
  },
  {
   "cell_type": "markdown",
   "metadata": {},
   "source": [
    "## Hypothesis Testing\n",
    "\n",
    "| Syntax    | Accept H0    | Reject H0    |\n",
    "| ---       | ------------ | ------------ |\n",
    "| H0        | Correct      | Type 1 Error |\n",
    "| H1        | Type 2 Error | Correct      |\n",
    "\n",
    "Power of test = 1 - P(Type 2 Error)"
   ]
  },
  {
   "cell_type": "markdown",
   "metadata": {},
   "source": [
    "# Biased Coin Simulation"
   ]
  }
 ],
 "metadata": {
  "kernelspec": {
   "display_name": "venv_ibm_machine_learning",
   "language": "python",
   "name": "python3"
  },
  "language_info": {
   "codemirror_mode": {
    "name": "ipython",
    "version": 3
   },
   "file_extension": ".py",
   "mimetype": "text/x-python",
   "name": "python",
   "nbconvert_exporter": "python",
   "pygments_lexer": "ipython3",
   "version": "3.11.7"
  }
 },
 "nbformat": 4,
 "nbformat_minor": 2
}
