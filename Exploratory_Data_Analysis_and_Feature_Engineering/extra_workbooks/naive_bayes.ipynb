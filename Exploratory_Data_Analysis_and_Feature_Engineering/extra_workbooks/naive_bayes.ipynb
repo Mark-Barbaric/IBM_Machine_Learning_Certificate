{
 "cells": [
  {
   "cell_type": "markdown",
   "metadata": {},
   "source": [
    "## Bayes Theory"
   ]
  },
  {
   "cell_type": "markdown",
   "metadata": {},
   "source": [
    "$P(A|B) = \\frac{P(A~B)} {P(B)}$\n",
    "\n",
    "$P(B|A) = \\frac{P(B~A)} {P(A)}$\n",
    "\n",
    "$P(B~A) = P(A~B)$\n",
    "\n",
    "therefore\n",
    "\n",
    "$P(A|B) = \\frac{P(B|A) \\cdot P(A)}{P(B)}$"
   ]
  },
  {
   "cell_type": "markdown",
   "metadata": {},
   "source": [
    "Suppose a factory produces light bulbs and two machines, A and B are reponsible for producing them. Machine A produces 60% while Machine B produces 40%. Machine A produces defective light bulbs at 5%, while Machine B produces defective light bulbs at 3%. If a given lightbulb is defective, what is the probability that it was produced by Machine A?\n",
    "\n",
    "$P(D|A) = \\frac {P(A|D) \\cdot P(D)} {P(A)} $"
   ]
  },
  {
   "cell_type": "code",
   "execution_count": 2,
   "metadata": {},
   "outputs": [],
   "source": [
    "p_machine_a = 0.6\n",
    "p_machine_b = 1 - p_machine_a\n",
    "p_a_defective = 0.05\n",
    "p_b_defective = 0.03\n",
    "p_defective = p_a_defective + p_b_defective"
   ]
  },
  {
   "cell_type": "markdown",
   "metadata": {},
   "source": [
    "$ P(A|D) = \\frac {P(A~D)} {P(D)} $"
   ]
  },
  {
   "cell_type": "code",
   "execution_count": 3,
   "metadata": {},
   "outputs": [
    {
     "data": {
      "text/plain": [
       "0.6510416666666667"
      ]
     },
     "execution_count": 3,
     "metadata": {},
     "output_type": "execute_result"
    }
   ],
   "source": [
    "p_a_given_d = 0.05 / p_defective\n",
    "p_d_given_a = (p_a_given_d * p_a_given_d) / 0.6\n",
    "p_d_given_a"
   ]
  },
  {
   "cell_type": "markdown",
   "metadata": {},
   "source": [
    "## Binomial Distribution"
   ]
  },
  {
   "cell_type": "markdown",
   "metadata": {},
   "source": [
    "https://medium.com/@AbhiramiVS/bayes-theorem-with-python-ef2135d850f\n",
    "\n",
    "$P(H1|x) = \\frac{P(x|H1) \\cdot P(H1)} {P(x)}$\n",
    "\n",
    "$P(H2|x) = \\frac{P(x|H2) \\cdot P(H2)} {P(x)}$"
   ]
  },
  {
   "cell_type": "code",
   "execution_count": 2,
   "metadata": {},
   "outputs": [],
   "source": [
    "from scipy.stats import binom"
   ]
  },
  {
   "cell_type": "code",
   "execution_count": 3,
   "metadata": {},
   "outputs": [],
   "source": [
    "n = 21\n",
    "p = 0.5"
   ]
  },
  {
   "cell_type": "code",
   "execution_count": 4,
   "metadata": {},
   "outputs": [
    {
     "data": {
      "text/plain": [
       "array([4.76837158e-07, 1.00135803e-04, 2.85387039e-03, 2.58750916e-02,\n",
       "       9.70315933e-02, 1.68188095e-01, 1.40156746e-01, 5.54466248e-02,\n",
       "       9.70315933e-03, 6.34193420e-04, 1.00135803e-05])"
      ]
     },
     "execution_count": 4,
     "metadata": {},
     "output_type": "execute_result"
    }
   ],
   "source": [
    "binom_dist = binom(21, 0.5)\n",
    "even_probs = binom_dist.pmf(range(0, 22, 2))\n",
    "even_probs"
   ]
  },
  {
   "cell_type": "markdown",
   "metadata": {},
   "source": [
    "## Hypothesis Testing\n",
    "\n",
    "| Syntax    | Accept H0    | Reject H0    |\n",
    "| ---       | ------------ | ------------ |\n",
    "| H0        | Correct      | Type 1 Error |\n",
    "| H1        | Type 2 Error | Correct      |\n",
    "\n",
    "Power of test = 1 - P(Type 2 Error)"
   ]
  },
  {
   "cell_type": "markdown",
   "metadata": {},
   "source": [
    "# Biased Coin Simulation"
   ]
  }
 ],
 "metadata": {
  "kernelspec": {
   "display_name": "venv_ibm_machine_learning",
   "language": "python",
   "name": "python3"
  },
  "language_info": {
   "codemirror_mode": {
    "name": "ipython",
    "version": 3
   },
   "file_extension": ".py",
   "mimetype": "text/x-python",
   "name": "python",
   "nbconvert_exporter": "python",
   "pygments_lexer": "ipython3",
   "version": "3.11.7"
  }
 },
 "nbformat": 4,
 "nbformat_minor": 2
}
