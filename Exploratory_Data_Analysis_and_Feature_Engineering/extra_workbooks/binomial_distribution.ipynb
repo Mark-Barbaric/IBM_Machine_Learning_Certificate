{
 "cells": [
  {
   "cell_type": "markdown",
   "metadata": {},
   "source": [
    "## Binomial Distribution\n",
    "\n",
    "The probability mass function for binomial distribution is below:\n",
    "\n",
    "$f(k) = (\\frac {n} {k}) \\cdot p^k \\cdot(1 - p)^{n-k} $ \n",
    "\n",
    "You can also use the binom function from scipy to generate this:\n",
    "\n",
    "https://docs.scipy.org/doc/scipy/reference/generated/scipy.stats.binom.html"
   ]
  },
  {
   "cell_type": "markdown",
   "metadata": {},
   "source": [
    "## Lib Imports"
   ]
  },
  {
   "cell_type": "code",
   "execution_count": 6,
   "metadata": {},
   "outputs": [],
   "source": [
    "from scipy.stats import binom\n",
    "import matplotlib.pyplot as plt"
   ]
  },
  {
   "cell_type": "markdown",
   "metadata": {},
   "source": [
    "## Coin Modelling using Binomial Distribution"
   ]
  },
  {
   "cell_type": "code",
   "execution_count": 7,
   "metadata": {},
   "outputs": [],
   "source": [
    "def print_binom_for_coin(n: int, p: float):\n",
    "    \"\"\"_summary_ Prints the binomial distribution \n",
    "\n",
    "    Args:\n",
    "        n (int): number of coin flips\n",
    "        p (float): probability coin flip is head\n",
    "    \"\"\"\n",
    "    binom_dist = binom(n, p)\n",
    "    even_probs = binom_dist.pmf(range(0, n + 1))\n",
    "    r_values = list(range(n + 1))\n",
    "    plt.bar(r_values, even_probs)\n",
    "    plt.show()"
   ]
  },
  {
   "cell_type": "markdown",
   "metadata": {},
   "source": [
    "The below example shows the probability distribution of 21 coin flips being heads using an *unbiased coin. \n",
    "\n",
    "*a normal coin has 50/50 chance of being heads, so unbiased meeans that the coin in question will have the same odds*"
   ]
  },
  {
   "cell_type": "code",
   "execution_count": 8,
   "metadata": {},
   "outputs": [],
   "source": [
    "number_of_coin_flips = 21\n",
    "probability_heads = 0.5"
   ]
  },
  {
   "cell_type": "code",
   "execution_count": 9,
   "metadata": {},
   "outputs": [
    {
     "data": {
      "image/png": "[encoded data removed]",
      "text/plain": [
       "<Figure size 640x480 with 1 Axes>"
      ]
     },
     "metadata": {},
     "output_type": "display_data"
    }
   ],
   "source": [
    "print_binom_for_coin(number_of_coin_flips, probability_heads)"
   ]
  },
  {
   "cell_type": "markdown",
   "metadata": {},
   "source": [
    "Note that the unbiased coin has a normal distribution. Now lets try with a *biased* coin."
   ]
  },
  {
   "cell_type": "code",
   "execution_count": null,
   "metadata": {},
   "outputs": [],
   "source": [
    "number_of_coin_flips = 21\n",
    "probability_heads = 0.7 #note we have changed the probability to be higher than 50/50\n",
    "print_binom_for_coin(number_of_coin_flips, probability_heads)"
   ]
  }
 ],
 "metadata": {
  "kernelspec": {
   "display_name": "venv_ibm_machine_learning",
   "language": "python",
   "name": "python3"
  },
  "language_info": {
   "codemirror_mode": {
    "name": "ipython",
    "version": 3
   },
   "file_extension": ".py",
   "mimetype": "text/x-python",
   "name": "python",
   "nbconvert_exporter": "python",
   "pygments_lexer": "ipython3",
   "version": "3.11.7"
  }
 },
 "nbformat": 4,
 "nbformat_minor": 2
}
