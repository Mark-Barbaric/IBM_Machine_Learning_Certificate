{
 "cells": [
  {
   "cell_type": "markdown",
   "metadata": {},
   "source": [
    "# Join Statements in SQL"
   ]
  },
  {
   "cell_type": "code",
   "execution_count": 1,
   "metadata": {},
   "outputs": [],
   "source": [
    "import sqlite3 as sq3\n",
    "import pandas as pd"
   ]
  },
  {
   "cell_type": "markdown",
   "metadata": {},
   "source": [
    "## Create the initial table"
   ]
  },
  {
   "cell_type": "code",
   "execution_count": 2,
   "metadata": {},
   "outputs": [],
   "source": [
    "create_author_table_query = \"\"\"\n",
    "CREATE TABLE authors(\n",
    "    author_id VARCHAR(36) NOT NULL PRIMARY KEY,\n",
    "    author_name VARCHAR(12) NOT NULL\n",
    ")\n",
    "\"\"\"\n",
    "\n",
    "create_reviews_table_query = \"\"\"\n",
    "CREATE TABLE ratings(\n",
    "    review_id VARCHAR(36) NOT NULL PRIMARY KEY,\n",
    "    post_id VARCHAR(36) NOT NULL,\n",
    "    rating INT NOT NULL\n",
    ")\n",
    "\"\"\"\n",
    "\n",
    "create_table_query = \"\"\"\n",
    "CREATE TABLE blog_post(\n",
    "    post_id VARCHAR(36) NOT NULL PRIMARY KEY,\n",
    "    name VARCHAR(22) NOT NULL,\n",
    "    author_id VARHCHAR(36) NOT NULL,\n",
    "    FOREIGN KEY (author_id) REFERENCES authors(author_id)\n",
    ")\n",
    "\"\"\""
   ]
  },
  {
   "cell_type": "markdown",
   "metadata": {},
   "source": [
    "### Connect or create then connect the Database"
   ]
  },
  {
   "cell_type": "code",
   "execution_count": 10,
   "metadata": {},
   "outputs": [],
   "source": [
    "try:\n",
    "    table_name = '../data/blog_posts'\n",
    "    conn = sq3.connect(table_name)\n",
    "except:\n",
    "    conn = sq3.Connection('blog_posts')\n",
    "    conn.execute(create_author_table_query)\n",
    "    conn.execute(create_reviews_table_query)\n",
    "    conn.execute(create_table_query)\n",
    "    conn.close()  "
   ]
  },
  {
   "cell_type": "markdown",
   "metadata": {},
   "source": [
    "## Populate the Table with Data"
   ]
  },
  {
   "cell_type": "code",
   "execution_count": null,
   "metadata": {},
   "outputs": [],
   "source": [
    "authors = [('auth1', 'mark'), ('auth2', 'john')]\n",
    "blog_posts = [('post1', 'Blog Post 1', authors[0][0]), ('post2', 'Blog Post 2', authors[1][0])]"
   ]
  },
  {
   "cell_type": "code",
   "execution_count": null,
   "metadata": {},
   "outputs": [],
   "source": [
    "def populate_database(authors: list[tuple[int, str]],\n",
    "                      blog_posts: list[tuple[int, str, int]]):\n",
    "    \"\"\"_summary_\n",
    "\n",
    "    Args:\n",
    "        authors (list): _description_\n",
    "        blog_posts (list): _description_\n",
    "    \"\"\"\n",
    "    assert len(authors) == len(blog_posts)\n",
    "    table_name = '../data/blog_posts'\n",
    "    conn = sq3.connect(table_name)\n",
    "    cursor = conn.cursor()\n",
    "    try:\n",
    "        cursor = conn.cursor()\n",
    "        cursor.execute(\"BEGIN TRANSACTION\")\n",
    "        cursor.executemany(\"INSERT INTO authors(author_id, author_name) VALUES(?, ?)\", authors)\n",
    "        cursor.executemany(\"INSERT INTO blog_post(post_id, name, author_id) VALUES(?, ?, ?)\", blog_posts)\n",
    "        conn.commit()\n",
    "    except sq3.Error as e:\n",
    "        print(f\"Error populating database: {e}\")\n",
    "        conn.rollback()\n",
    "    finally:\n",
    "        cursor.close()\n",
    "        conn.close()  \n",
    "    "
   ]
  },
  {
   "cell_type": "code",
   "execution_count": null,
   "metadata": {},
   "outputs": [],
   "source": [
    "populate_database(authors=authors, blog_posts=blog_posts)"
   ]
  },
  {
   "cell_type": "markdown",
   "metadata": {},
   "source": [
    "## Selecting Blog Posts and Authors"
   ]
  },
  {
   "cell_type": "code",
   "execution_count": null,
   "metadata": {},
   "outputs": [],
   "source": [
    "select_blog_posts_query = \"\"\"\n",
    "SELECT blog_post.post_id, blog_post.name, authors.* FROM blog_post\n",
    "INNER JOIN authors ON blog_post.author_id = authors.author_id \n",
    "\"\"\""
   ]
  },
  {
   "cell_type": "code",
   "execution_count": null,
   "metadata": {},
   "outputs": [],
   "source": [
    "table_name = '../data/blog_posts'\n",
    "conn = sq3.connect(table_name)"
   ]
  },
  {
   "cell_type": "code",
   "execution_count": null,
   "metadata": {},
   "outputs": [
    {
     "data": {
      "text/html": [
       "<div>\n",
       "<style scoped>\n",
       "    .dataframe tbody tr th:only-of-type {\n",
       "        vertical-align: middle;\n",
       "    }\n",
       "\n",
       "    .dataframe tbody tr th {\n",
       "        vertical-align: top;\n",
       "    }\n",
       "\n",
       "    .dataframe thead th {\n",
       "        text-align: right;\n",
       "    }\n",
       "</style>\n",
       "<table border=\"1\" class=\"dataframe\">\n",
       "  <thead>\n",
       "    <tr style=\"text-align: right;\">\n",
       "      <th></th>\n",
       "      <th>post_id</th>\n",
       "      <th>name</th>\n",
       "      <th>author_id</th>\n",
       "      <th>author_name</th>\n",
       "    </tr>\n",
       "  </thead>\n",
       "  <tbody>\n",
       "    <tr>\n",
       "      <th>0</th>\n",
       "      <td>post1</td>\n",
       "      <td>Blog Post 1</td>\n",
       "      <td>auth1</td>\n",
       "      <td>mark</td>\n",
       "    </tr>\n",
       "    <tr>\n",
       "      <th>1</th>\n",
       "      <td>post2</td>\n",
       "      <td>Blog Post 2</td>\n",
       "      <td>auth2</td>\n",
       "      <td>john</td>\n",
       "    </tr>\n",
       "  </tbody>\n",
       "</table>\n",
       "</div>"
      ],
      "text/plain": [
       "  post_id         name author_id author_name\n",
       "0   post1  Blog Post 1     auth1        mark\n",
       "1   post2  Blog Post 2     auth2        john"
      ]
     },
     "execution_count": 41,
     "metadata": {},
     "output_type": "execute_result"
    }
   ],
   "source": [
    "pandas_generator_object = pd.read_sql(select_blog_posts_query, conn)\n",
    "pandas_generator_object.head()"
   ]
  }
 ],
 "metadata": {
  "kernelspec": {
   "display_name": "venv_ibm_machine_learning",
   "language": "python",
   "name": "python3"
  },
  "language_info": {
   "codemirror_mode": {
    "name": "ipython",
    "version": 3
   },
   "file_extension": ".py",
   "mimetype": "text/x-python",
   "name": "python",
   "nbconvert_exporter": "python",
   "pygments_lexer": "ipython3",
   "version": "3.10.12"
  }
 },
 "nbformat": 4,
 "nbformat_minor": 2
}
